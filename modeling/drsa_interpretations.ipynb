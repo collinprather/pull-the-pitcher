{
 "cells": [
  {
   "cell_type": "code",
   "execution_count": 1,
   "metadata": {},
   "outputs": [
    {
     "name": "stderr",
     "output_type": "stream",
     "text": [
      "/usr/local/lib/python3.7/dist-packages/statsmodels/tools/_testing.py:19: FutureWarning: pandas.util.testing is deprecated. Use the functions in the public API at pandas.testing instead.\n",
      "  import pandas.util.testing as tm\n"
     ]
    }
   ],
   "source": [
    "import pickle\n",
    "import numpy as np\n",
    "import pandas as pd\n",
    "import matplotlib.pyplot as plt\n",
    "\n",
    "import torch\n",
    "import torch.nn as nn\n",
    "from torch.utils.data import Dataset, DataLoader\n",
    "\n",
    "from drsa.model import DRSA\n",
    "\n",
    "from pull_the_pitcher.data.pipeline import add_targets\n",
    "from pull_the_pitcher.metrics import preds_histogram, print_all_metrics\n",
    "\n",
    "from pybaseball import playerid_lookup\n",
    "\n",
    "from sklearn.manifold import TSNE\n",
    "from sklearn.decomposition import PCA"
   ]
  },
  {
   "cell_type": "code",
   "execution_count": 2,
   "metadata": {},
   "outputs": [],
   "source": [
    "embedding_cols = [\"pitcher\"] # [\"game_pk\",  \"game_type\", \"pitcher_team_year\"]\n",
    "feature_cols = [\"post_bat_score\", \"score_diff\", \"end_inning\", \"inning\", \"postouts\", \"cum_sb_ratio\",\n",
    "                \"times_thru_order\", \"post_total_runners\", \"tying_run_on\", \"pitch_total\", \"post_opposite_hand\",\n",
    "                \"walk\", 'walk_cumsum', 'strikeout_cumsum', 'home_run_cumsum', 'bases_cumsum']\n",
    "cols = embedding_cols + feature_cols"
   ]
  },
  {
   "cell_type": "code",
   "execution_count": 3,
   "metadata": {},
   "outputs": [],
   "source": [
    "train = pd.read_csv(\"../data/processed/train_2017_2018_2016.csv\")\n",
    "val = pd.read_csv(\"../data/processed/val_2017_2018_2016.csv\")\n",
    "test = pd.read_csv(\"../data/processed/test_2019.csv\")\n",
    "\n",
    "with open(\"../data/processed/mappers_2017_2018_2016_2019.pkl\", \"rb\") as f:\n",
    "    mappers = pickle.load(f)\n",
    "    \n",
    "with open(\"../data/processed/scaler_2017_2018_2016_2019.pkl\", \"rb\") as f:\n",
    "    scaler = pickle.load(f)\n",
    "    \n",
    "# scaling test data (as tuned on training data)\n",
    "test[feature_cols] = scaler.transform(test[feature_cols])\n",
    "\n",
    "# replacing pitcher id with index of associated embedding\n",
    "test[\"pitcher\"] = [mappers[\"pitcher\"].get(pitcher, 0) for pitcher in test[\"pitcher\"]]"
   ]
  },
  {
   "cell_type": "code",
   "execution_count": 4,
   "metadata": {},
   "outputs": [],
   "source": [
    "def name2id(last, first):\n",
    "    lookup_table = playerid_lookup(last, first)\n",
    "    id = lookup_table.iloc[0, 2]\n",
    "    return id"
   ]
  },
  {
   "cell_type": "code",
   "execution_count": 5,
   "metadata": {},
   "outputs": [
    {
     "name": "stdout",
     "output_type": "stream",
     "text": [
      "Gathering player lookup table. This may take a moment.\n",
      "Gathering player lookup table. This may take a moment.\n"
     ]
    }
   ],
   "source": [
    "cole_id = name2id(\"cole\", \"gerrit\")\n",
    "verlander_id = name2id(\"verlander\", \"justin\")"
   ]
  },
  {
   "cell_type": "code",
   "execution_count": 6,
   "metadata": {},
   "outputs": [],
   "source": [
    "cole_emb_idx = mappers[\"pitcher\"][cole_id]\n",
    "verlander_emb_idx = mappers[\"pitcher\"][verlander_id]"
   ]
  },
  {
   "cell_type": "code",
   "execution_count": 7,
   "metadata": {},
   "outputs": [],
   "source": [
    "def save_model(m, p): torch.save(m.state_dict(), p)\n",
    "def load_model(m, p): m.load_state_dict(torch.load(p))"
   ]
  },
  {
   "cell_type": "code",
   "execution_count": 9,
   "metadata": {},
   "outputs": [],
   "source": [
    "# getting embeddings ready\n",
    "n_pitchers = 270\n",
    "pitcher_emb_size = 20\n",
    "pitcher_embeddings = nn.Embedding(n_pitchers, pitcher_emb_size)\n",
    "\n",
    "ptp_embeddings = [pitcher_embeddings]\n",
    "\n",
    "# initializing model\n",
    "drsa = DRSA(n_features=17,\n",
    "            hidden_dim=20,\n",
    "            n_layers=5,\n",
    "            embeddings=ptp_embeddings,\n",
    "            output_size=1,\n",
    "            LSTM_dropout=0.05,\n",
    "            Linear_dropout=0.1)"
   ]
  },
  {
   "cell_type": "code",
   "execution_count": 10,
   "metadata": {},
   "outputs": [
    {
     "data": {
      "text/plain": [
       "DRSA(\n",
       "  (lstm): LSTM(36, 20, num_layers=5, batch_first=True, dropout=0.05)\n",
       "  (fc): Linear(in_features=20, out_features=1, bias=True)\n",
       "  (linear_dropout): Dropout(p=0.1, inplace=False)\n",
       "  (sigmoid): Sigmoid()\n",
       "  (params_to_train): ModuleList(\n",
       "    (0): Embedding(270, 20)\n",
       "  )\n",
       ")"
      ]
     },
     "execution_count": 10,
     "metadata": {},
     "output_type": "execute_result"
    }
   ],
   "source": [
    "load_model(drsa, f\"../models/07-22-20_DRSA_2016_2017_2018_2019_loss_2.6064.pth\")\n",
    "drsa.eval()"
   ]
  },
  {
   "cell_type": "code",
   "execution_count": 11,
   "metadata": {},
   "outputs": [],
   "source": [
    "pitcher_embeddings = [p for p in drsa.named_parameters() if p[0]=='params_to_train.0.weight'][0][1].detach()"
   ]
  },
  {
   "cell_type": "code",
   "execution_count": 12,
   "metadata": {},
   "outputs": [
    {
     "data": {
      "text/plain": [
       "torch.Size([270, 20])"
      ]
     },
     "execution_count": 12,
     "metadata": {},
     "output_type": "execute_result"
    }
   ],
   "source": [
    "pitcher_embeddings.shape"
   ]
  },
  {
   "cell_type": "code",
   "execution_count": 13,
   "metadata": {},
   "outputs": [],
   "source": [
    "pitcher_embs_tsne = TSNE(n_components=2, learning_rate=10, init=\"pca\").fit_transform(pitcher_embeddings)"
   ]
  },
  {
   "cell_type": "code",
   "execution_count": 14,
   "metadata": {},
   "outputs": [
    {
     "data": {
      "text/plain": [
       "(270, 2)"
      ]
     },
     "execution_count": 14,
     "metadata": {},
     "output_type": "execute_result"
    }
   ],
   "source": [
    "pitcher_embs_tsne.shape"
   ]
  },
  {
   "cell_type": "code",
   "execution_count": 15,
   "metadata": {},
   "outputs": [
    {
     "data": {
      "text/plain": [
       "Text(2.8845441341400146, -0.754178524017334, 'verlander')"
      ]
     },
     "execution_count": 15,
     "metadata": {},
     "output_type": "execute_result"
    },
    {
     "data": {
      "image/png": "[encoded data removed]",
      "text/plain": [
       "<Figure size 576x288 with 1 Axes>"
      ]
     },
     "metadata": {
      "needs_background": "light"
     },
     "output_type": "display_data"
    }
   ],
   "source": [
    "fig, ax = plt.subplots(1, 1, figsize=(8,4))\n",
    "\n",
    "ax.scatter(pitcher_embs_tsne[:, 0], pitcher_embs_tsne[:, 1])\n",
    "ax.set_title(\"Player Embeddings\")\n",
    "ax.text(pitcher_embs_tsne[cole_emb_idx][0] - 1, pitcher_embs_tsne[cole_emb_idx][1] + 1, \"cole\", size=14)\n",
    "ax.text(pitcher_embs_tsne[verlander_emb_idx][0] - 1, pitcher_embs_tsne[verlander_emb_idx][1] + 1, \"verlander\", size=14)"
   ]
  },
  {
   "cell_type": "code",
   "execution_count": 16,
   "metadata": {},
   "outputs": [],
   "source": [
    "mlbam_id = pd.read_csv(\"mlbam_id.csv\")"
   ]
  },
  {
   "cell_type": "code",
   "execution_count": 17,
   "metadata": {},
   "outputs": [],
   "source": [
    "pitcher_id_df = pd.DataFrame(list(mappers[\"pitcher\"].items()), columns=[\"mlb_id\", \"index\"])\n",
    "pitcher_id_df = pd.merge(mlbam_id[[\"MLBAMID\", \"Name\"]], pitcher_id_df, how=\"inner\", left_on=[\"MLBAMID\"], right_on=[\"mlb_id\"])"
   ]
  },
  {
   "cell_type": "code",
   "execution_count": 18,
   "metadata": {},
   "outputs": [],
   "source": [
    "embs_df = pd.DataFrame(pitcher_embs_tsne, columns=[\"emb_1\", \"emb_2\"]).reset_index()\n",
    "embs_df = pd.merge(pitcher_id_df, embs_df, how=\"inner\", on=\"index\")"
   ]
  },
  {
   "cell_type": "code",
   "execution_count": 19,
   "metadata": {},
   "outputs": [
    {
     "data": {
      "text/html": [
       "<div>\n",
       "<style scoped>\n",
       "    .dataframe tbody tr th:only-of-type {\n",
       "        vertical-align: middle;\n",
       "    }\n",
       "\n",
       "    .dataframe tbody tr th {\n",
       "        vertical-align: top;\n",
       "    }\n",
       "\n",
       "    .dataframe thead th {\n",
       "        text-align: right;\n",
       "    }\n",
       "</style>\n",
       "<table border=\"1\" class=\"dataframe\">\n",
       "  <thead>\n",
       "    <tr style=\"text-align: right;\">\n",
       "      <th></th>\n",
       "      <th>MLBAMID</th>\n",
       "      <th>Name</th>\n",
       "      <th>mlb_id</th>\n",
       "      <th>index</th>\n",
       "      <th>emb_1</th>\n",
       "      <th>emb_2</th>\n",
       "    </tr>\n",
       "  </thead>\n",
       "  <tbody>\n",
       "    <tr>\n",
       "      <th>0</th>\n",
       "      <td>456167</td>\n",
       "      <td>A.J. Griffin</td>\n",
       "      <td>456167.0</td>\n",
       "      <td>44</td>\n",
       "      <td>5.813855</td>\n",
       "      <td>-5.615535</td>\n",
       "    </tr>\n",
       "    <tr>\n",
       "      <th>1</th>\n",
       "      <td>592717</td>\n",
       "      <td>Aaron Sanchez</td>\n",
       "      <td>592717.0</td>\n",
       "      <td>166</td>\n",
       "      <td>1.054968</td>\n",
       "      <td>5.124578</td>\n",
       "    </tr>\n",
       "  </tbody>\n",
       "</table>\n",
       "</div>"
      ],
      "text/plain": [
       "   MLBAMID           Name    mlb_id  index     emb_1     emb_2\n",
       "0   456167   A.J. Griffin  456167.0     44  5.813855 -5.615535\n",
       "1   592717  Aaron Sanchez  592717.0    166  1.054968  5.124578"
      ]
     },
     "execution_count": 19,
     "metadata": {},
     "output_type": "execute_result"
    }
   ],
   "source": [
    "embs_df.head(2)"
   ]
  },
  {
   "cell_type": "code",
   "execution_count": 31,
   "metadata": {},
   "outputs": [
    {
     "data": {
      "text/html": [
       "<div>\n",
       "<style scoped>\n",
       "    .dataframe tbody tr th:only-of-type {\n",
       "        vertical-align: middle;\n",
       "    }\n",
       "\n",
       "    .dataframe tbody tr th {\n",
       "        vertical-align: top;\n",
       "    }\n",
       "\n",
       "    .dataframe thead th {\n",
       "        text-align: right;\n",
       "    }\n",
       "</style>\n",
       "<table border=\"1\" class=\"dataframe\">\n",
       "  <thead>\n",
       "    <tr style=\"text-align: right;\">\n",
       "      <th></th>\n",
       "      <th>MLBAMID</th>\n",
       "      <th>Name</th>\n",
       "      <th>mlb_id</th>\n",
       "      <th>index</th>\n",
       "      <th>emb_1</th>\n",
       "      <th>emb_2</th>\n",
       "    </tr>\n",
       "  </thead>\n",
       "  <tbody>\n",
       "    <tr>\n",
       "      <th>0</th>\n",
       "      <td>456167</td>\n",
       "      <td>A.J. Griffin</td>\n",
       "      <td>456167.0</td>\n",
       "      <td>44</td>\n",
       "      <td>5.813855</td>\n",
       "      <td>-5.615535</td>\n",
       "    </tr>\n",
       "  </tbody>\n",
       "</table>\n",
       "</div>"
      ],
      "text/plain": [
       "   MLBAMID          Name    mlb_id  index     emb_1     emb_2\n",
       "0   456167  A.J. Griffin  456167.0     44  5.813855 -5.615535"
      ]
     },
     "execution_count": 31,
     "metadata": {},
     "output_type": "execute_result"
    }
   ],
   "source": [
    "embs_df.loc[embs_df[\"index\"]==44]"
   ]
  },
  {
   "cell_type": "code",
   "execution_count": 20,
   "metadata": {},
   "outputs": [
    {
     "data": {
      "application/vnd.vegalite.v3+json": {
       "$schema": "https://vega.github.io/schema/vega-lite/v3.4.0.json",
       "config": {
        "mark": {
         "tooltip": null
        },
        "view": {
         "height": 300,
         "width": 400
        }
       },
       "data": {
        "name": "data-7600b7c7a6cd45675d3572fa01c49c45"
       },
       "datasets": {
        "data-7600b7c7a6cd45675d3572fa01c49c45": [
         {
          "MLBAMID": 456167,
          "Name": "A.J. Griffin",
          "emb_1": 5.813854694366455,
          "emb_2": -5.615535259246826,
          "index": 44,
          "mlb_id": 456167
         },
         {
          "MLBAMID": 592717,
          "Name": "Aaron Sanchez",
          "emb_1": 1.0549677610397339,
          "emb_2": 5.124578475952148,
          "index": 166,
          "mlb_id": 592717
         },
         {
          "MLBAMID": 642083,
          "Name": "Aaron Slegers",
          "emb_1": 1.8760758638381958,
          "emb_2": 5.5248308181762695,
          "index": 247,
          "mlb_id": 642083
         },
         {
          "MLBAMID": 606167,
          "Name": "Adalberto Mejia",
          "emb_1": -0.04746762290596962,
          "emb_2": 4.795913219451904,
          "index": 205,
          "mlb_id": 606167
         },
         {
          "MLBAMID": 592644,
          "Name": "Adam Plutko",
          "emb_1": -0.7889347076416016,
          "emb_2": -4.590510845184326,
          "index": 164,
          "mlb_id": 592644
         },
         {
          "MLBAMID": 573244,
          "Name": "Adam Wilk",
          "emb_1": 0.7935802936553955,
          "emb_2": -1.733936071395874,
          "index": 153,
          "mlb_id": 573244
         },
         {
          "MLBAMID": 592716,
          "Name": "Adrian Sampson",
          "emb_1": -2.0176727771759033,
          "emb_2": 2.3909313678741455,
          "index": 165,
          "mlb_id": 592716
         },
         {
          "MLBAMID": 594742,
          "Name": "Alec Asher",
          "emb_1": 2.9904303550720215,
          "emb_2": 1.936143398284912,
          "index": 178,
          "mlb_id": 594742
         },
         {
          "MLBAMID": 592222,
          "Name": "Alex Claudio",
          "emb_1": 0.8076931834220886,
          "emb_2": 1.4508253335952759,
          "index": 156,
          "mlb_id": 592222
         },
         {
          "MLBAMID": 502171,
          "Name": "Alex Cobb",
          "emb_1": 5.055304050445557,
          "emb_2": 0.9081777334213257,
          "index": 78,
          "mlb_id": 502171
         },
         {
          "MLBAMID": 543542,
          "Name": "Alex Meyer",
          "emb_1": 0.5499178171157837,
          "emb_2": -0.12654057145118713,
          "index": 119,
          "mlb_id": 543542
         },
         {
          "MLBAMID": 452027,
          "Name": "Andrew Albers",
          "emb_1": -5.859491348266602,
          "emb_2": 2.524062395095825,
          "index": 35,
          "mlb_id": 452027
         },
         {
          "MLBAMID": 488768,
          "Name": "Andrew Cashner",
          "emb_1": 2.7484490871429443,
          "emb_2": -0.07894182950258255,
          "index": 64,
          "mlb_id": 488768
         },
         {
          "MLBAMID": 571760,
          "Name": "Andrew Heaney",
          "emb_1": -1.7398885488510132,
          "emb_2": -0.4315575957298279,
          "index": 139,
          "mlb_id": 571760
         },
         {
          "MLBAMID": 552640,
          "Name": "Andrew Kittredge",
          "emb_1": -2.649496555328369,
          "emb_2": 0.4441598653793335,
          "index": 132,
          "mlb_id": 552640
         },
         {
          "MLBAMID": 621058,
          "Name": "Andrew Moore",
          "emb_1": 2.5759365558624268,
          "emb_2": -5.07077693939209,
          "index": 224,
          "mlb_id": 621058
         },
         {
          "MLBAMID": 592811,
          "Name": "Andrew Triggs",
          "emb_1": -5.048435688018799,
          "emb_2": 2.6616404056549072,
          "index": 168,
          "mlb_id": 592811
         },
         {
          "MLBAMID": 434671,
          "Name": "Anibal Sanchez",
          "emb_1": -0.46606868505477905,
          "emb_2": -4.040024280548096,
          "index": 17,
          "mlb_id": 434671
         },
         {
          "MLBAMID": 607455,
          "Name": "Anthony Banda",
          "emb_1": 6.236298561096191,
          "emb_2": -0.9149388670921326,
          "index": 216,
          "mlb_id": 607455
         },
         {
          "MLBAMID": 519168,
          "Name": "Anthony Ranaudo",
          "emb_1": -5.857696056365967,
          "emb_2": -1.2671754360198975,
          "index": 96,
          "mlb_id": 519168
         },
         {
          "MLBAMID": 642558,
          "Name": "Ariel Jurado",
          "emb_1": -1.1926326751708984,
          "emb_2": 0.38884973526000977,
          "index": 254,
          "mlb_id": 642558
         },
         {
          "MLBAMID": 664641,
          "Name": "Ariel Miranda",
          "emb_1": 1.8831249475479126,
          "emb_2": 3.4233238697052,
          "index": 267,
          "mlb_id": 664641
         },
         {
          "MLBAMID": 592499,
          "Name": "Artie Lewicki",
          "emb_1": 3.7375543117523193,
          "emb_2": 3.675855875015259,
          "index": 160,
          "mlb_id": 592499
         },
         {
          "MLBAMID": 502212,
          "Name": "Austin Bibens-Dirkx",
          "emb_1": -0.5133692026138306,
          "emb_2": -0.2650071084499359,
          "index": 81,
          "mlb_id": 502212
         },
         {
          "MLBAMID": 643493,
          "Name": "Austin Pruitt",
          "emb_1": -1.8630352020263672,
          "emb_2": -1.7608155012130737,
          "index": 257,
          "mlb_id": 643493
         },
         {
          "MLBAMID": 112526,
          "Name": "Bartolo Colon",
          "emb_1": -3.785334825515747,
          "emb_2": -1.4543746709823608,
          "index": 1,
          "mlb_id": 112526
         },
         {
          "MLBAMID": 543278,
          "Name": "Blaine Hardy",
          "emb_1": 6.313324928283691,
          "emb_2": 1.830065369606018,
          "index": 114,
          "mlb_id": 543278
         },
         {
          "MLBAMID": 605483,
          "Name": "Blake Snell",
          "emb_1": -5.235699653625488,
          "emb_2": 0.7271407842636108,
          "index": 200,
          "mlb_id": 605483
         },
         {
          "MLBAMID": 641745,
          "Name": "Brad Keller",
          "emb_1": -6.178409099578857,
          "emb_2": 4.417776107788086,
          "index": 244,
          "mlb_id": 641745
         },
         {
          "MLBAMID": 502748,
          "Name": "Brad Peacock",
          "emb_1": 2.2434370517730713,
          "emb_2": -1.0283693075180054,
          "index": 85,
          "mlb_id": 502748
         },
         {
          "MLBAMID": 572086,
          "Name": "Brady Rodgers",
          "emb_1": -5.519598007202148,
          "emb_2": -1.9121187925338745,
          "index": 145,
          "mlb_id": 572086
         },
         {
          "MLBAMID": 474463,
          "Name": "Brett Anderson",
          "emb_1": -1.7727717161178589,
          "emb_2": 3.1498403549194336,
          "index": 58,
          "mlb_id": 474463
         },
         {
          "MLBAMID": 519085,
          "Name": "Brett Oberholtzer",
          "emb_1": -0.0013655978254973888,
          "emb_2": -0.5908652544021606,
          "index": 93,
          "mlb_id": 519085
         },
         {
          "MLBAMID": 543169,
          "Name": "Brian Flynn",
          "emb_1": 1.2875885963439941,
          "emb_2": 0.07972050458192825,
          "index": 111,
          "mlb_id": 543169
         },
         {
          "MLBAMID": 598271,
          "Name": "Brian Johnson",
          "emb_1": 1.4464236497879028,
          "emb_2": -4.65519380569458,
          "index": 187,
          "mlb_id": 598271
         },
         {
          "MLBAMID": 571951,
          "Name": "Bryan Mitchell",
          "emb_1": -7.245846748352051,
          "emb_2": -2.537004232406616,
          "index": 142,
          "mlb_id": 571951
         },
         {
          "MLBAMID": 571656,
          "Name": "Buck Farmer",
          "emb_1": -1.4015716314315796,
          "emb_2": -5.339856147766113,
          "index": 137,
          "mlb_id": 571656
         },
         {
          "MLBAMID": 502032,
          "Name": "Bud Norris",
          "emb_1": -3.6942358016967773,
          "emb_2": -3.9478042125701904,
          "index": 75,
          "mlb_id": 502032
         },
         {
          "MLBAMID": 572143,
          "Name": "Burch Smith",
          "emb_1": 3.983149290084839,
          "emb_2": 3.9629483222961426,
          "index": 147,
          "mlb_id": 572143
         },
         {
          "MLBAMID": 471911,
          "Name": "Carlos Carrasco",
          "emb_1": 1.146711826324463,
          "emb_2": -4.237483978271484,
          "index": 56,
          "mlb_id": 471911
         },
         {
          "MLBAMID": 607074,
          "Name": "Carlos Rodon",
          "emb_1": 3.955630302429199,
          "emb_2": -3.935375690460205,
          "index": 208,
          "mlb_id": 607074
         },
         {
          "MLBAMID": 608334,
          "Name": "Carson Fulmer",
          "emb_1": 6.471800327301025,
          "emb_2": 3.260420322418213,
          "index": 218,
          "mlb_id": 608334
         },
         {
          "MLBAMID": 596271,
          "Name": "Casey Lawrence",
          "emb_1": 0.2718333303928375,
          "emb_2": 1.5327627658843994,
          "index": 186,
          "mlb_id": 596271
         },
         {
          "MLBAMID": 282332,
          "Name": "CC Sabathia",
          "emb_1": -3.224350690841675,
          "emb_2": 0.4772926867008209,
          "index": 2,
          "mlb_id": 282332
         },
         {
          "MLBAMID": 459987,
          "Name": "Cesar Ramos",
          "emb_1": 1.4964700937271118,
          "emb_2": -2.869720458984375,
          "index": 50,
          "mlb_id": 459987
         },
         {
          "MLBAMID": 491624,
          "Name": "Cesar Valdez",
          "emb_1": -1.5617122650146484,
          "emb_2": 2.4306721687316895,
          "index": 66,
          "mlb_id": 491624
         },
         {
          "MLBAMID": 518445,
          "Name": "Chad Bell",
          "emb_1": 2.2345526218414307,
          "emb_2": -0.08932328224182129,
          "index": 88,
          "mlb_id": 518445
         },
         {
          "MLBAMID": 643338,
          "Name": "Chad Green",
          "emb_1": 5.876111030578613,
          "emb_2": 4.751081943511963,
          "index": 256,
          "mlb_id": 643338
         },
         {
          "MLBAMID": 664856,
          "Name": "Chance Adams",
          "emb_1": 0.12213588505983353,
          "emb_2": -2.30168080329895,
          "index": 268,
          "mlb_id": 664856
         },
         {
          "MLBAMID": 450203,
          "Name": "Charlie Morton",
          "emb_1": 3.791736602783203,
          "emb_2": -2.9458072185516357,
          "index": 29,
          "mlb_id": 450203
         },
         {
          "MLBAMID": 608328,
          "Name": "Chase De Jong",
          "emb_1": -2.3995771408081055,
          "emb_2": -3.9424731731414795,
          "index": 217,
          "mlb_id": 608328
         },
         {
          "MLBAMID": 592346,
          "Name": "Chi Chi Gonzalez",
          "emb_1": -0.13909804821014404,
          "emb_2": 7.669591903686523,
          "index": 159,
          "mlb_id": 592346
         },
         {
          "MLBAMID": 502042,
          "Name": "Chris Archer",
          "emb_1": -2.0305559635162354,
          "emb_2": 6.235852241516113,
          "index": 76,
          "mlb_id": 502042
         },
         {
          "MLBAMID": 605135,
          "Name": "Chris Bassitt",
          "emb_1": 5.7007012367248535,
          "emb_2": -0.6992637515068054,
          "index": 190,
          "mlb_id": 605135
         },
         {
          "MLBAMID": 606965,
          "Name": "Chris Devenski",
          "emb_1": -3.014289140701294,
          "emb_2": 5.212280750274658,
          "index": 207,
          "mlb_id": 606965
         },
         {
          "MLBAMID": 518790,
          "Name": "Chris Heston",
          "emb_1": -0.8722593188285828,
          "emb_2": 2.74286150932312,
          "index": 91,
          "mlb_id": 518790
         },
         {
          "MLBAMID": 635903,
          "Name": "Chris Rowley",
          "emb_1": -1.3983927965164185,
          "emb_2": -2.121535062789917,
          "index": 239,
          "mlb_id": 635903
         },
         {
          "MLBAMID": 519242,
          "Name": "Chris Sale",
          "emb_1": 7.064982891082764,
          "emb_2": -1.3110976219177246,
          "index": 97,
          "mlb_id": 519242
         },
         {
          "MLBAMID": 434672,
          "Name": "Chris Smith",
          "emb_1": -6.591831207275391,
          "emb_2": -1.3931552171707153,
          "index": 18,
          "mlb_id": 434672
         },
         {
          "MLBAMID": 501957,
          "Name": "Chris Tillman",
          "emb_1": -1.071473240852356,
          "emb_2": -1.2280141115188599,
          "index": 71,
          "mlb_id": 501957
         },
         {
          "MLBAMID": 458690,
          "Name": "Chris Volstad",
          "emb_1": -0.3685856759548187,
          "emb_2": -1.5701582431793213,
          "index": 48,
          "mlb_id": 458690
         },
         {
          "MLBAMID": 432934,
          "Name": "Chris Young",
          "emb_1": -3.0021839141845703,
          "emb_2": -2.637911319732666,
          "index": 9,
          "mlb_id": 432934
         },
         {
          "MLBAMID": 548357,
          "Name": "Christian Bergman",
          "emb_1": -5.897568702697754,
          "emb_2": -3.8824002742767334,
          "index": 131,
          "mlb_id": 548357
         },
         {
          "MLBAMID": 453329,
          "Name": "Clay Buchholz",
          "emb_1": -4.951672077178955,
          "emb_2": -5.9888505935668945,
          "index": 41,
          "mlb_id": 453329
         },
         {
          "MLBAMID": 594736,
          "Name": "Cody Anderson",
          "emb_1": 1.8186033964157104,
          "emb_2": 3.6478447914123535,
          "index": 177,
          "mlb_id": 594736
         },
         {
          "MLBAMID": 592533,
          "Name": "Cody Martin",
          "emb_1": -3.6678600311279297,
          "emb_2": -2.4760496616363525,
          "index": 161,
          "mlb_id": 592533
         },
         {
          "MLBAMID": 430935,
          "Name": "Cole Hamels",
          "emb_1": 1.4510133266448975,
          "emb_2": -1.148527979850769,
          "index": 8,
          "mlb_id": 430935
         },
         {
          "MLBAMID": 543521,
          "Name": "Collin McHugh",
          "emb_1": -5.634134292602539,
          "emb_2": 5.036845684051514,
          "index": 117,
          "mlb_id": 543521
         },
         {
          "MLBAMID": 446372,
          "Name": "Corey Kluber",
          "emb_1": 2.194197654724121,
          "emb_2": 4.373360633850098,
          "index": 23,
          "mlb_id": 446372
         },
         {
          "MLBAMID": 474284,
          "Name": "Cory Rasmus",
          "emb_1": -0.5894196033477783,
          "emb_2": 0.7230848073959351,
          "index": 57,
          "mlb_id": 474284
         },
         {
          "MLBAMID": 572971,
          "Name": "Dallas Keuchel",
          "emb_1": -2.9875710010528564,
          "emb_2": -7.210741996765137,
          "index": 150,
          "mlb_id": 572971
         },
         {
          "MLBAMID": 605254,
          "Name": "Daniel Gossett",
          "emb_1": -5.873959541320801,
          "emb_2": 2.293797254562378,
          "index": 195,
          "mlb_id": 605254
         },
         {
          "MLBAMID": 596043,
          "Name": "Daniel Mengden",
          "emb_1": -0.1391223669052124,
          "emb_2": -5.984943389892578,
          "index": 183,
          "mlb_id": 596043
         },
         {
          "MLBAMID": 596057,
          "Name": "Daniel Norris",
          "emb_1": -0.3097946345806122,
          "emb_2": 5.9444756507873535,
          "index": 184,
          "mlb_id": 596057
         },
         {
          "MLBAMID": 642229,
          "Name": "Daniel Wright",
          "emb_1": 4.230599403381348,
          "emb_2": 6.026488304138184,
          "index": 249,
          "mlb_id": 642229
         },
         {
          "MLBAMID": 518633,
          "Name": "Danny Duffy",
          "emb_1": 5.103302478790283,
          "emb_2": -1.3758035898208618,
          "index": 89,
          "mlb_id": 518633
         },
         {
          "MLBAMID": 517593,
          "Name": "Danny Salazar",
          "emb_1": -7.027108192443848,
          "emb_2": -2.559157133102417,
          "index": 87,
          "mlb_id": 517593
         },
         {
          "MLBAMID": 605276,
          "Name": "David Hess",
          "emb_1": -0.6362747550010681,
          "emb_2": -0.6776837110519409,
          "index": 196,
          "mlb_id": 605276
         },
         {
          "MLBAMID": 571787,
          "Name": "David Holmberg",
          "emb_1": -0.2018490731716156,
          "emb_2": 3.5263750553131104,
          "index": 140,
          "mlb_id": 571787
         },
         {
          "MLBAMID": 600944,
          "Name": "David Paulino",
          "emb_1": -2.5415663719177246,
          "emb_2": 6.898713111877441,
          "index": 188,
          "mlb_id": 600944
         },
         {
          "MLBAMID": 456034,
          "Name": "David Price",
          "emb_1": 1.064337134361267,
          "emb_2": -8.034828186035156,
          "index": 42,
          "mlb_id": 456034
         },
         {
          "MLBAMID": 500765,
          "Name": "Dayan Diaz",
          "emb_1": 0.49320098757743835,
          "emb_2": 0.7320483922958374,
          "index": 68,
          "mlb_id": 500765
         },
         {
          "MLBAMID": 592547,
          "Name": "Deck McGuire",
          "emb_1": -0.9172359704971313,
          "emb_2": -2.5107345581054688,
          "index": 162,
          "mlb_id": 592547
         },
         {
          "MLBAMID": 502706,
          "Name": "Derek Holland",
          "emb_1": 5.830678939819336,
          "emb_2": 4.440142631530762,
          "index": 84,
          "mlb_id": 502706
         },
         {
          "MLBAMID": 518716,
          "Name": "Dillon Gee",
          "emb_1": -4.720607757568359,
          "emb_2": 2.873163938522339,
          "index": 90,
          "mlb_id": 518716
         },
         {
          "MLBAMID": 592614,
          "Name": "Dillon Overton",
          "emb_1": 3.3158674240112305,
          "emb_2": -6.9900898933410645,
          "index": 163,
          "mlb_id": 592614
         },
         {
          "MLBAMID": 593334,
          "Name": "Domingo German",
          "emb_1": 0.5620706081390381,
          "emb_2": 0.17104162275791168,
          "index": 171,
          "mlb_id": 593334
         },
         {
          "MLBAMID": 450729,
          "Name": "Doug Fister",
          "emb_1": 4.5145721435546875,
          "emb_2": 0.6878485083580017,
          "index": 33,
          "mlb_id": 450729
         },
         {
          "MLBAMID": 571800,
          "Name": "Drew Hutchison",
          "emb_1": 0.5351669192314148,
          "emb_2": -2.0432140827178955,
          "index": 141,
          "mlb_id": 571800
         },
         {
          "MLBAMID": 519141,
          "Name": "Drew Pomeranz",
          "emb_1": -0.39956364035606384,
          "emb_2": 4.094089984893799,
          "index": 94,
          "mlb_id": 519141
         },
         {
          "MLBAMID": 592767,
          "Name": "Drew Smyly",
          "emb_1": 5.196924686431885,
          "emb_2": -4.450265407562256,
          "index": 167,
          "mlb_id": 592767
         },
         {
          "MLBAMID": 572403,
          "Name": "Drew VerHagen",
          "emb_1": 0.9401134848594666,
          "emb_2": -3.8136699199676514,
          "index": 148,
          "mlb_id": 572403
         },
         {
          "MLBAMID": 605164,
          "Name": "Dylan Bundy",
          "emb_1": 2.9871623516082764,
          "emb_2": 3.445558547973633,
          "index": 191,
          "mlb_id": 605164
         },
         {
          "MLBAMID": 592229,
          "Name": "Dylan Covey",
          "emb_1": 4.85990571975708,
          "emb_2": 2.1973981857299805,
          "index": 157,
          "mlb_id": 592229
         },
         {
          "MLBAMID": 450172,
          "Name": "Edinson Volquez",
          "emb_1": 4.789633274078369,
          "emb_2": -2.2449893951416016,
          "index": 28,
          "mlb_id": 450172
         },
         {
          "MLBAMID": 593958,
          "Name": "Eduardo Rodriguez",
          "emb_1": -2.759016990661621,
          "emb_2": -1.705110788345337,
          "index": 175,
          "mlb_id": 593958
         },
         {
          "MLBAMID": 429719,
          "Name": "Edwin Jackson",
          "emb_1": 0.2169334888458252,
          "emb_2": -4.912388801574707,
          "index": 6,
          "mlb_id": 429719
         },
         {
          "MLBAMID": 541640,
          "Name": "Erasmo Ramirez",
          "emb_1": 0.8224940896034241,
          "emb_2": 2.1027004718780518,
          "index": 106,
          "mlb_id": 541640
         },
         {
          "MLBAMID": 607215,
          "Name": "Eric Skoglund",
          "emb_1": -0.014843959361314774,
          "emb_2": 2.114908456802368,
          "index": 211,
          "mlb_id": 607215
         },
         {
          "MLBAMID": 605304,
          "Name": "Erik Johnson",
          "emb_1": -3.7069480419158936,
          "emb_2": -1.2926589250564575,
          "index": 197,
          "mlb_id": 605304
         },
         {
          "MLBAMID": 429722,
          "Name": "Ervin Santana",
          "emb_1": -1.563387393951416,
          "emb_2": -5.84381103515625,
          "index": 7,
          "mlb_id": 429722
         },
         {
          "MLBAMID": 433587,
          "Name": "Felix Hernandez",
          "emb_1": 3.3302974700927734,
          "emb_2": 0.16556094586849213,
          "index": 11,
          "mlb_id": 433587
         },
         {
          "MLBAMID": 602928,
          "Name": "Felix Jorge",
          "emb_1": -3.437913417816162,
          "emb_2": -0.9707651734352112,
          "index": 189,
          "mlb_id": 602928
         },
         {
          "MLBAMID": 570240,
          "Name": "Felix Pena",
          "emb_1": -1.8740785121917725,
          "emb_2": -4.343343734741211,
          "index": 133,
          "mlb_id": 570240
         },
         {
          "MLBAMID": 622864,
          "Name": "Fernando Romero",
          "emb_1": 3.1121878623962402,
          "emb_2": -1.8061143159866333,
          "index": 232,
          "mlb_id": 622864
         },
         {
          "MLBAMID": 664285,
          "Name": "Framber Valdez",
          "emb_1": 0.7018942832946777,
          "emb_2": 4.139484882354736,
          "index": 266,
          "mlb_id": 664285
         },
         {
          "MLBAMID": 642564,
          "Name": "Francis Martes",
          "emb_1": 0.5150524377822876,
          "emb_2": -5.109904766082764,
          "index": 255,
          "mlb_id": 642564
         },
         {
          "MLBAMID": 434538,
          "Name": "Francisco Liriano",
          "emb_1": -3.970325231552124,
          "emb_2": 1.3280014991760254,
          "index": 14,
          "mlb_id": 434538
         },
         {
          "MLBAMID": 593423,
          "Name": "Frankie Montas",
          "emb_1": 3.0595104694366455,
          "emb_2": 0.31597232818603516,
          "index": 173,
          "mlb_id": 593423
         },
         {
          "MLBAMID": 593679,
          "Name": "Gabriel Ynoa",
          "emb_1": 2.0169529914855957,
          "emb_2": 1.2763309478759766,
          "index": 174,
          "mlb_id": 593679
         },
         {
          "MLBAMID": 572070,
          "Name": "Garrett Richards",
          "emb_1": -5.056512355804443,
          "emb_2": 0.6703565120697021,
          "index": 144,
          "mlb_id": 572070
         },
         {
          "MLBAMID": 543037,
          "Name": "Gerrit Cole",
          "emb_1": 2.238119602203369,
          "emb_2": 6.942288875579834,
          "index": 109,
          "mlb_id": 543037
         },
         {
          "MLBAMID": 642098,
          "Name": "Glenn Sparkman",
          "emb_1": 2.2462613582611084,
          "emb_2": -0.5896880626678467,
          "index": 248,
          "mlb_id": 642098
         },
         {
          "MLBAMID": 641571,
          "Name": "Heath Fillmyer",
          "emb_1": 1.0490039587020874,
          "emb_2": 4.409587383270264,
          "index": 243,
          "mlb_id": 641571
         },
         {
          "MLBAMID": 502327,
          "Name": "Hector Santiago",
          "emb_1": -2.0904719829559326,
          "emb_2": 1.569493055343628,
          "index": 83,
          "mlb_id": 502327
         },
         {
          "MLBAMID": 584171,
          "Name": "Hector Velazquez",
          "emb_1": -0.35460978746414185,
          "emb_2": 2.4991745948791504,
          "index": 154,
          "mlb_id": 584171
         },
         {
          "MLBAMID": 596064,
          "Name": "Henry Owens",
          "emb_1": -0.42444151639938354,
          "emb_2": 0.6344172358512878,
          "index": 185,
          "mlb_id": 596064
         },
         {
          "MLBAMID": 547874,
          "Name": "Hisashi Iwakuma",
          "emb_1": 6.482624530792236,
          "emb_2": -3.2173402309417725,
          "index": 129,
          "mlb_id": 547874
         },
         {
          "MLBAMID": 453178,
          "Name": "Ian Kennedy",
          "emb_1": -1.4629101753234863,
          "emb_2": -2.708080768585205,
          "index": 36,
          "mlb_id": 453178
         },
         {
          "MLBAMID": 467100,
          "Name": "Ivan Nova",
          "emb_1": -0.9125334620475769,
          "emb_2": -0.8191384673118591,
          "index": 54,
          "mlb_id": 467100
         },
         {
          "MLBAMID": 457918,
          "Name": "J.A. Happ",
          "emb_1": -2.647184133529663,
          "emb_2": 7.030962944030762,
          "index": 46,
          "mlb_id": 457918
         },
         {
          "MLBAMID": 545363,
          "Name": "Jacob Turner",
          "emb_1": 0.14513447880744934,
          "emb_2": 0.4257800579071045,
          "index": 127,
          "mlb_id": 545363
         },
         {
          "MLBAMID": 642545,
          "Name": "Jaime Barria",
          "emb_1": 3.853166341781616,
          "emb_2": -0.8478487730026245,
          "index": 253,
          "mlb_id": 642545
         },
         {
          "MLBAMID": 448802,
          "Name": "Jaime Garcia",
          "emb_1": 2.4468021392822266,
          "emb_2": 6.978309154510498,
          "index": 26,
          "mlb_id": 448802
         },
         {
          "MLBAMID": 607188,
          "Name": "Jake Faria",
          "emb_1": -1.6919735670089722,
          "emb_2": -0.9548752307891846,
          "index": 209,
          "mlb_id": 607188
         },
         {
          "MLBAMID": 543606,
          "Name": "Jake Odorizzi",
          "emb_1": 0.022579995915293694,
          "emb_2": -3.0014281272888184,
          "index": 122,
          "mlb_id": 543606
         },
         {
          "MLBAMID": 596001,
          "Name": "Jakob Junis",
          "emb_1": 6.3061699867248535,
          "emb_2": -0.9048312902450562,
          "index": 182,
          "mlb_id": 596001
         },
         {
          "MLBAMID": 656222,
          "Name": "Jalen Beeks",
          "emb_1": 1.6273287534713745,
          "emb_2": -2.2999870777130127,
          "index": 259,
          "mlb_id": 656222
         },
         {
          "MLBAMID": 572020,
          "Name": "James Paxton",
          "emb_1": 4.010629177093506,
          "emb_2": -3.9853785037994385,
          "index": 143,
          "mlb_id": 572020
         },
         {
          "MLBAMID": 448306,
          "Name": "James Shields",
          "emb_1": -7.748241901397705,
          "emb_2": 0.8032128214836121,
          "index": 25,
          "mlb_id": 448306
         },
         {
          "MLBAMID": 434628,
          "Name": "Jason Hammel",
          "emb_1": -4.061059951782227,
          "emb_2": 0.11232076585292816,
          "index": 16,
          "mlb_id": 434628
         },
         {
          "MLBAMID": 450306,
          "Name": "Jason Vargas",
          "emb_1": -5.3859148025512695,
          "emb_2": -4.201412200927734,
          "index": 30,
          "mlb_id": 450306
         },
         {
          "MLBAMID": 593969,
          "Name": "Jayson Aquino",
          "emb_1": 6.213746547698975,
          "emb_2": -3.282679319381714,
          "index": 176,
          "mlb_id": 593969
         },
         {
          "MLBAMID": 500724,
          "Name": "JC Ramirez",
          "emb_1": -6.671679496765137,
          "emb_2": 2.255167245864868,
          "index": 67,
          "mlb_id": 500724
         },
         {
          "MLBAMID": 605488,
          "Name": "Jeffrey Springs",
          "emb_1": -0.13430747389793396,
          "emb_2": -1.360913872718811,
          "index": 201,
          "mlb_id": 605488
         },
         {
          "MLBAMID": 450308,
          "Name": "Jered Weaver",
          "emb_1": 1.5272477865219116,
          "emb_2": -2.257310390472412,
          "index": 31,
          "mlb_id": 450308
         },
         {
          "MLBAMID": 476451,
          "Name": "Jeremy Hellickson",
          "emb_1": 1.9735336303710938,
          "emb_2": 2.760258436203003,
          "index": 63,
          "mlb_id": 476451
         },
         {
          "MLBAMID": 445926,
          "Name": "Jesse Chavez",
          "emb_1": 0.6452903747558594,
          "emb_2": 2.749995231628418,
          "index": 21,
          "mlb_id": 445926
         },
         {
          "MLBAMID": 534910,
          "Name": "Jesse Hahn",
          "emb_1": -1.2083218097686768,
          "emb_2": -4.120133876800537,
          "index": 105,
          "mlb_id": 534910
         },
         {
          "MLBAMID": 605194,
          "Name": "Jharel Cotton",
          "emb_1": -5.998213291168213,
          "emb_2": 0.5638816356658936,
          "index": 193,
          "mlb_id": 605194
         },
         {
          "MLBAMID": 468504,
          "Name": "Jhoulys Chacin",
          "emb_1": -4.011204719543457,
          "emb_2": 1.4175080060958862,
          "index": 55,
          "mlb_id": 468504
         },
         {
          "MLBAMID": 642231,
          "Name": "Jimmy Yacabonis",
          "emb_1": -3.755030870437622,
          "emb_2": 1.4484364986419678,
          "index": 250,
          "mlb_id": 642231
         },
         {
          "MLBAMID": 607352,
          "Name": "Joe Biagini",
          "emb_1": -1.7857850790023804,
          "emb_2": -0.3845895230770111,
          "index": 214,
          "mlb_id": 607352
         },
         {
          "MLBAMID": 523260,
          "Name": "Joe Kelly",
          "emb_1": -6.303493976593018,
          "emb_2": -1.5278375148773193,
          "index": 101,
          "mlb_id": 523260
         },
         {
          "MLBAMID": 605397,
          "Name": "Joe Musgrove",
          "emb_1": 1.4012782573699951,
          "emb_2": -8.06647777557373,
          "index": 199,
          "mlb_id": 605397
         },
         {
          "MLBAMID": 433579,
          "Name": "John Danks",
          "emb_1": 3.9031407833099365,
          "emb_2": -0.5882042050361633,
          "index": 10,
          "mlb_id": 433579
         },
         {
          "MLBAMID": 543424,
          "Name": "John Lamb",
          "emb_1": -3.843510866165161,
          "emb_2": -3.3015410900115967,
          "index": 116,
          "mlb_id": 543424
         },
         {
          "MLBAMID": 642528,
          "Name": "Jonathan Loaisiga",
          "emb_1": 3.339488983154297,
          "emb_2": -0.9509053230285645,
          "index": 252,
          "mlb_id": 642528
         },
         {
          "MLBAMID": 656756,
          "Name": "Jordan Montgomery",
          "emb_1": 0.8707982897758484,
          "emb_2": -3.069568634033203,
          "index": 261,
          "mlb_id": 656756
         },
         {
          "MLBAMID": 519455,
          "Name": "Jordan Zimmermann",
          "emb_1": -2.7347145080566406,
          "emb_2": 1.710853934288025,
          "index": 99,
          "mlb_id": 519455
         },
         {
          "MLBAMID": 605347,
          "Name": "Jorge Lopez",
          "emb_1": -0.37288904190063477,
          "emb_2": 1.5436687469482422,
          "index": 198,
          "mlb_id": 605347
         },
         {
          "MLBAMID": 621244,
          "Name": "Jose Berrios",
          "emb_1": 6.99878454208374,
          "emb_2": 3.4855260848999023,
          "index": 227,
          "mlb_id": 621244
         },
         {
          "MLBAMID": 500779,
          "Name": "Jose Quintana",
          "emb_1": -0.19453005492687225,
          "emb_2": 7.775747776031494,
          "index": 69,
          "mlb_id": 500779
         },
         {
          "MLBAMID": 657624,
          "Name": "Josh James",
          "emb_1": -1.0191943645477295,
          "emb_2": 3.6965560913085938,
          "index": 264,
          "mlb_id": 657624
         },
         {
          "MLBAMID": 642028,
          "Name": "Josh Rogers",
          "emb_1": -3.550004482269287,
          "emb_2": -4.575405120849609,
          "index": 246,
          "mlb_id": 642028
         },
         {
          "MLBAMID": 458708,
          "Name": "Josh Tomlin",
          "emb_1": 5.8483781814575195,
          "emb_2": -5.536005020141602,
          "index": 49,
          "mlb_id": 458708
         },
         {
          "MLBAMID": 434378,
          "Name": "Justin Verlander",
          "emb_1": 3.8845441341400146,
          "emb_2": -1.754178524017334,
          "index": 13,
          "mlb_id": 434378
         },
         {
          "MLBAMID": 608665,
          "Name": "Kendall Graveman",
          "emb_1": -2.567545175552368,
          "emb_2": 1.4273957014083862,
          "index": 222,
          "mlb_id": 608665
         },
         {
          "MLBAMID": 592332,
          "Name": "Kevin Gausman",
          "emb_1": 0.8493760824203491,
          "emb_2": -1.0726081132888794,
          "index": 158,
          "mlb_id": 592332
         },
         {
          "MLBAMID": 640464,
          "Name": "Kohl Stewart",
          "emb_1": -3.0126891136169434,
          "emb_2": 4.244507789611816,
          "index": 241,
          "mlb_id": 640464
         },
         {
          "MLBAMID": 450665,
          "Name": "Kris Medlen",
          "emb_1": -4.310379505157471,
          "emb_2": -2.455068588256836,
          "index": 32,
          "mlb_id": 450665
         },
         {
          "MLBAMID": 502043,
          "Name": "Kyle Gibson",
          "emb_1": 1.7901750802993774,
          "emb_2": 4.469062328338623,
          "index": 77,
          "mlb_id": 502043
         },
         {
          "MLBAMID": 346798,
          "Name": "Kyle Lohse",
          "emb_1": -1.225070834159851,
          "emb_2": 1.4476957321166992,
          "index": 4,
          "mlb_id": 346798
         },
         {
          "MLBAMID": 458681,
          "Name": "Lance Lynn",
          "emb_1": -2.349250078201294,
          "emb_2": -1.0517781972885132,
          "index": 47,
          "mlb_id": 458681
         },
         {
          "MLBAMID": 621121,
          "Name": "Lance McCullers Jr.",
          "emb_1": -5.129383563995361,
          "emb_2": -6.294724941253662,
          "index": 226,
          "mlb_id": 621121
         },
         {
          "MLBAMID": 608337,
          "Name": "Lucas Giolito",
          "emb_1": 2.6330270767211914,
          "emb_2": 7.576331615447998,
          "index": 219,
          "mlb_id": 608337
         },
         {
          "MLBAMID": 449173,
          "Name": "Lucas Harrell",
          "emb_1": 2.1388165950775146,
          "emb_2": 2.3600828647613525,
          "index": 27,
          "mlb_id": 449173
         },
         {
          "MLBAMID": 570666,
          "Name": "Luis Cessa",
          "emb_1": 2.519301414489746,
          "emb_2": -4.920882701873779,
          "index": 135,
          "mlb_id": 570666
         },
         {
          "MLBAMID": 622663,
          "Name": "Luis Severino",
          "emb_1": 3.168665647506714,
          "emb_2": -6.9326066970825195,
          "index": 230,
          "mlb_id": 622663
         },
         {
          "MLBAMID": 608652,
          "Name": "Luke Farrell",
          "emb_1": 0.41546329855918884,
          "emb_2": 0.377612829208374,
          "index": 221,
          "mlb_id": 608652
         },
         {
          "MLBAMID": 462136,
          "Name": "Marco Estrada",
          "emb_1": -0.23424558341503143,
          "emb_2": -3.929330348968506,
          "index": 53,
          "mlb_id": 462136
         },
         {
          "MLBAMID": 594835,
          "Name": "Marco Gonzales",
          "emb_1": 5.280871868133545,
          "emb_2": -0.8769664168357849,
          "index": 179,
          "mlb_id": 594835
         },
         {
          "MLBAMID": 573186,
          "Name": "Marcus Stroman",
          "emb_1": -0.8571372032165527,
          "emb_2": 0.986675500869751,
          "index": 152,
          "mlb_id": 573186
         },
         {
          "MLBAMID": 527048,
          "Name": "Martin Perez",
          "emb_1": -0.47625112533569336,
          "emb_2": -6.286006927490234,
          "index": 102,
          "mlb_id": 527048
         },
         {
          "MLBAMID": 547888,
          "Name": "Masahiro Tanaka",
          "emb_1": 2.2811455726623535,
          "emb_2": -2.4733095169067383,
          "index": 130,
          "mlb_id": 547888
         },
         {
          "MLBAMID": 502009,
          "Name": "Mat Latos",
          "emb_1": 0.0685039609670639,
          "emb_2": 3.231515645980835,
          "index": 74,
          "mlb_id": 502009
         },
         {
          "MLBAMID": 542882,
          "Name": "Matt Andriese",
          "emb_1": -3.053661584854126,
          "emb_2": 3.1257262229919434,
          "index": 107,
          "mlb_id": 542882
         },
         {
          "MLBAMID": 519043,
          "Name": "Matt Moore",
          "emb_1": -2.415074110031128,
          "emb_2": 3.0112249851226807,
          "index": 92,
          "mlb_id": 519043
         },
         {
          "MLBAMID": 533167,
          "Name": "Matt Shoemaker",
          "emb_1": -5.1005024909973145,
          "emb_2": -6.192251205444336,
          "index": 103,
          "mlb_id": 533167
         },
         {
          "MLBAMID": 621381,
          "Name": "Matt Strahm",
          "emb_1": 4.7393364906311035,
          "emb_2": -1.2480396032333374,
          "index": 229,
          "mlb_id": 621381
         },
         {
          "MLBAMID": 571510,
          "Name": "Matthew Boyd",
          "emb_1": 0.6177639961242676,
          "emb_2": -5.894955158233643,
          "index": 136,
          "mlb_id": 571510
         },
         {
          "MLBAMID": 605242,
          "Name": "Michael Fulmer",
          "emb_1": 3.5085256099700928,
          "emb_2": -1.8905283212661743,
          "index": 194,
          "mlb_id": 605242
         },
         {
          "MLBAMID": 656629,
          "Name": "Michael Kopech",
          "emb_1": -1.7610390186309814,
          "emb_2": 3.512577533721924,
          "index": 260,
          "mlb_id": 656629
         },
         {
          "MLBAMID": 501381,
          "Name": "Michael Pineda",
          "emb_1": -1.517617106437683,
          "emb_2": -1.30653715133667,
          "index": 70,
          "mlb_id": 501381
         },
         {
          "MLBAMID": 612434,
          "Name": "Miguel Castro",
          "emb_1": -2.140514373779297,
          "emb_2": -2.6863620281219482,
          "index": 223,
          "mlb_id": 612434
         },
         {
          "MLBAMID": 456068,
          "Name": "Miguel Gonzalez",
          "emb_1": -4.538521766662598,
          "emb_2": -1.1997331380844116,
          "index": 43,
          "mlb_id": 456068
         },
         {
          "MLBAMID": 502211,
          "Name": "Mike Bolsinger",
          "emb_1": -0.020696643739938736,
          "emb_2": -0.8373792171478271,
          "index": 80,
          "mlb_id": 502211
         },
         {
          "MLBAMID": 605182,
          "Name": "Mike Clevinger",
          "emb_1": -6.170386791229248,
          "emb_2": 1.5423504114151,
          "index": 192,
          "mlb_id": 605182
         },
         {
          "MLBAMID": 571666,
          "Name": "Mike Fiers",
          "emb_1": 3.8713278770446777,
          "emb_2": -5.370758056640625,
          "index": 138,
          "mlb_id": 571666
         },
         {
          "MLBAMID": 623434,
          "Name": "Mike Hauschild",
          "emb_1": 1.4289166927337646,
          "emb_2": -0.08238542079925537,
          "index": 234,
          "mlb_id": 623434
         },
         {
          "MLBAMID": 502190,
          "Name": "Mike Leake",
          "emb_1": 3.075357437133789,
          "emb_2": 5.6166229248046875,
          "index": 79,
          "mlb_id": 502190
         },
         {
          "MLBAMID": 501985,
          "Name": "Mike Minor",
          "emb_1": 1.1186164617538452,
          "emb_2": 6.5240960121154785,
          "index": 72,
          "mlb_id": 501985
         },
         {
          "MLBAMID": 543557,
          "Name": "Mike Montgomery",
          "emb_1": -2.8204238414764404,
          "emb_2": -5.957363605499268,
          "index": 121,
          "mlb_id": 543557
         },
         {
          "MLBAMID": 460059,
          "Name": "Mike Pelfrey",
          "emb_1": 4.033753395080566,
          "emb_2": 3.7482495307922363,
          "index": 51,
          "mlb_id": 460059
         },
         {
          "MLBAMID": 605541,
          "Name": "Mike Wright",
          "emb_1": -0.6085883975028992,
          "emb_2": 0.0939265787601471,
          "index": 203,
          "mlb_id": 605541
         },
         {
          "MLBAMID": 594867,
          "Name": "Myles Jaye",
          "emb_1": 1.2455569505691528,
          "emb_2": -1.157346487045288,
          "index": 180,
          "mlb_id": 594867
         },
         {
          "MLBAMID": 501992,
          "Name": "Nate Karns",
          "emb_1": -4.773351669311523,
          "emb_2": -4.391369342803955,
          "index": 73,
          "mlb_id": 501992
         },
         {
          "MLBAMID": 543135,
          "Name": "Nathan Eovaldi",
          "emb_1": 6.375326633453369,
          "emb_2": -3.571453094482422,
          "index": 110,
          "mlb_id": 543135
         },
         {
          "MLBAMID": 607259,
          "Name": "Nick Martinez",
          "emb_1": 3.9949135780334473,
          "emb_2": 1.7675906419754028,
          "index": 212,
          "mlb_id": 607259
         },
         {
          "MLBAMID": 519344,
          "Name": "Nick Tepesch",
          "emb_1": 1.6243922710418701,
          "emb_2": 0.4974030554294586,
          "index": 98,
          "mlb_id": 519344
         },
         {
          "MLBAMID": 607374,
          "Name": "Nick Tropeano",
          "emb_1": 3.8204569816589355,
          "emb_2": -7.234830379486084,
          "index": 215,
          "mlb_id": 607374
         },
         {
          "MLBAMID": 543867,
          "Name": "Nik Turley",
          "emb_1": 3.274614095687866,
          "emb_2": 3.1495778560638428,
          "index": 123,
          "mlb_id": 543867
         },
         {
          "MLBAMID": 628333,
          "Name": "Odrisamer Despaigne",
          "emb_1": -0.7202576994895935,
          "emb_2": -2.9182944297790527,
          "index": 237,
          "mlb_id": 628333
         },
         {
          "MLBAMID": 592170,
          "Name": "Parker Bridwell",
          "emb_1": 0.614891529083252,
          "emb_2": -3.3704030513763428,
          "index": 155,
          "mlb_id": 592170
         },
         {
          "MLBAMID": 534737,
          "Name": "Pat Dean",
          "emb_1": -0.13447773456573486,
          "emb_2": 0.9225621819496155,
          "index": 104,
          "mlb_id": 534737
         },
         {
          "MLBAMID": 621112,
          "Name": "Paul Blackburn",
          "emb_1": 3.491396903991699,
          "emb_2": 4.709104061126709,
          "index": 225,
          "mlb_id": 621112
         },
         {
          "MLBAMID": 461833,
          "Name": "Phil Hughes",
          "emb_1": 1.8363709449768066,
          "emb_2": 0.2259887307882309,
          "index": 52,
          "mlb_id": 461833
         },
         {
          "MLBAMID": 285079,
          "Name": "R.A. Dickey",
          "emb_1": -3.4095876216888428,
          "emb_2": -2.0768697261810303,
          "index": 3,
          "mlb_id": 285079
         },
         {
          "MLBAMID": 593417,
          "Name": "Raul Alcantara",
          "emb_1": -3.0030999183654785,
          "emb_2": -0.444052517414093,
          "index": 172,
          "mlb_id": 593417
         },
         {
          "MLBAMID": 625643,
          "Name": "Reynaldo Lopez",
          "emb_1": 4.147788047790527,
          "emb_2": -4.196012496948242,
          "index": 236,
          "mlb_id": 625643
         },
         {
          "MLBAMID": 448179,
          "Name": "Rich Hill",
          "emb_1": -0.24813871085643768,
          "emb_2": -6.046401023864746,
          "index": 24,
          "mlb_id": 448179
         },
         {
          "MLBAMID": 519144,
          "Name": "Rick Porcello",
          "emb_1": -5.565284729003906,
          "emb_2": 5.635153293609619,
          "index": 95,
          "mlb_id": 519144
         },
         {
          "MLBAMID": 445060,
          "Name": "Ricky Nolasco",
          "emb_1": -3.73649525642395,
          "emb_2": 4.418483257293701,
          "index": 20,
          "mlb_id": 445060
         },
         {
          "MLBAMID": 547007,
          "Name": "Rob Whalen",
          "emb_1": -3.234478235244751,
          "emb_2": -2.8623013496398926,
          "index": 128,
          "mlb_id": 547007
         },
         {
          "MLBAMID": 606273,
          "Name": "Roenis Elias",
          "emb_1": 3.4381253719329834,
          "emb_2": 4.834010601043701,
          "index": 206,
          "mlb_id": 606273
         },
         {
          "MLBAMID": 446321,
          "Name": "Ross Detwiler",
          "emb_1": 5.902350902557373,
          "emb_2": 0.08828113228082657,
          "index": 22,
          "mlb_id": 446321
         },
         {
          "MLBAMID": 621366,
          "Name": "Ryan Borucki",
          "emb_1": -4.44948148727417,
          "emb_2": -4.284005165100098,
          "index": 228,
          "mlb_id": 621366
         },
         {
          "MLBAMID": 543001,
          "Name": "Ryan Carpenter",
          "emb_1": -5.741621971130371,
          "emb_2": -1.0404729843139648,
          "index": 108,
          "mlb_id": 543001
         },
         {
          "MLBAMID": 607320,
          "Name": "Ryan Merritt",
          "emb_1": 5.442881107330322,
          "emb_2": 2.1817073822021484,
          "index": 213,
          "mlb_id": 607320
         },
         {
          "MLBAMID": 543901,
          "Name": "Ryan Weber",
          "emb_1": -3.4364757537841797,
          "emb_2": -4.734292507171631,
          "index": 124,
          "mlb_id": 543901
         },
         {
          "MLBAMID": 642232,
          "Name": "Ryan Yarbrough",
          "emb_1": -1.5025657415390015,
          "emb_2": 4.648985385894775,
          "index": 251,
          "mlb_id": 642232
         },
         {
          "MLBAMID": 543208,
          "Name": "Sam Gaviglio",
          "emb_1": -1.5335286855697632,
          "emb_2": 4.567612648010254,
          "index": 112,
          "mlb_id": 543208
         },
         {
          "MLBAMID": 444857,
          "Name": "Scott Feldman",
          "emb_1": 3.8002309799194336,
          "emb_2": -3.0030696392059326,
          "index": 19,
          "mlb_id": 444857
         },
         {
          "MLBAMID": 640455,
          "Name": "Sean Manaea",
          "emb_1": 1.2553759813308716,
          "emb_2": -6.448819637298584,
          "index": 240,
          "mlb_id": 640455
         },
         {
          "MLBAMID": 457711,
          "Name": "Sean O’Sullivan",
          "emb_1": -4.03462028503418,
          "emb_2": 3.1133956909179688,
          "index": 45,
          "mlb_id": 457711
         },
         {
          "MLBAMID": 656887,
          "Name": "Sean Reid-Foley",
          "emb_1": -2.7212657928466797,
          "emb_2": -5.912879467010498,
          "index": 263,
          "mlb_id": 656887
         },
         {
          "MLBAMID": 669456,
          "Name": "Shane Bieber",
          "emb_1": 6.458629608154297,
          "emb_2": 3.3681068420410156,
          "index": 269,
          "mlb_id": 669456
         },
         {
          "MLBAMID": 572888,
          "Name": "Shane Greene",
          "emb_1": 0.671241044998169,
          "emb_2": 0.9271800518035889,
          "index": 149,
          "mlb_id": 572888
         },
         {
          "MLBAMID": 660271,
          "Name": "Shohei Ohtani",
          "emb_1": 3.8851537704467773,
          "emb_2": 1.6234794855117798,
          "index": 265,
          "mlb_id": 660271
         },
         {
          "MLBAMID": 660271,
          "Name": "Shohei Ohtani",
          "emb_1": 3.8851537704467773,
          "emb_2": 1.6234794855117798,
          "index": 265,
          "mlb_id": 660271
         },
         {
          "MLBAMID": 543243,
          "Name": "Sonny Gray",
          "emb_1": 0.3748873174190521,
          "emb_2": -0.6436532735824585,
          "index": 113,
          "mlb_id": 543243
         },
         {
          "MLBAMID": 605513,
          "Name": "Spencer Turnbull",
          "emb_1": -0.720466136932373,
          "emb_2": 2.6848340034484863,
          "index": 202,
          "mlb_id": 605513
         },
         {
          "MLBAMID": 624427,
          "Name": "Stephen Gonsalves",
          "emb_1": 1.0390924215316772,
          "emb_2": 1.4466503858566284,
          "index": 235,
          "mlb_id": 624427
         },
         {
          "MLBAMID": 453214,
          "Name": "Steven Wright",
          "emb_1": -1.5481805801391602,
          "emb_2": 0.35837167501449585,
          "index": 37,
          "mlb_id": 453214
         },
         {
          "MLBAMID": 592836,
          "Name": "Taijuan Walker",
          "emb_1": 2.120182514190674,
          "emb_2": -4.300912380218506,
          "index": 169,
          "mlb_id": 592836
         },
         {
          "MLBAMID": 623381,
          "Name": "Thomas Pannone",
          "emb_1": 4.347306728363037,
          "emb_2": 2.8348333835601807,
          "index": 233,
          "mlb_id": 623381
         },
         {
          "MLBAMID": 453311,
          "Name": "Tim Lincecum",
          "emb_1": 2.866406202316284,
          "emb_2": 2.0634617805480957,
          "index": 40,
          "mlb_id": 453311
         },
         {
          "MLBAMID": 543532,
          "Name": "Tim Melville",
          "emb_1": -0.8575050234794617,
          "emb_2": -0.6047871708869934,
          "index": 118,
          "mlb_id": 543532
         },
         {
          "MLBAMID": 543408,
          "Name": "Tom Koehler",
          "emb_1": 2.125878095626831,
          "emb_2": 1.2111315727233887,
          "index": 115,
          "mlb_id": 543408
         },
         {
          "MLBAMID": 543548,
          "Name": "Tommy Milone",
          "emb_1": -6.860757350921631,
          "emb_2": -4.1777167320251465,
          "index": 120,
          "mlb_id": 543548
         },
         {
          "MLBAMID": 475243,
          "Name": "Travis Wood",
          "emb_1": 5.991716384887695,
          "emb_2": 1.6080023050308228,
          "index": 62,
          "mlb_id": 475243
         },
         {
          "MLBAMID": 545333,
          "Name": "Trevor Bauer",
          "emb_1": 7.2413458824157715,
          "emb_2": 0.3205375671386719,
          "index": 126,
          "mlb_id": 545333
         },
         {
          "MLBAMID": 502239,
          "Name": "Trevor Cahill",
          "emb_1": 2.9149203300476074,
          "emb_2": -2.0764310359954834,
          "index": 82,
          "mlb_id": 502239
         },
         {
          "MLBAMID": 656805,
          "Name": "Trevor Oaks",
          "emb_1": 1.4436146020889282,
          "emb_2": 6.60687255859375,
          "index": 262,
          "mlb_id": 656805
         },
         {
          "MLBAMID": 644428,
          "Name": "Troy Scribner",
          "emb_1": -1.6769404411315918,
          "emb_2": 1.048095703125,
          "index": 258,
          "mlb_id": 644428
         },
         {
          "MLBAMID": 641501,
          "Name": "Tyler Danish",
          "emb_1": -1.155055284500122,
          "emb_2": -3.647317886352539,
          "index": 242,
          "mlb_id": 641501
         },
         {
          "MLBAMID": 608648,
          "Name": "Tyler Duffey",
          "emb_1": -1.7255827188491821,
          "emb_2": 2.7985177040100098,
          "index": 220,
          "mlb_id": 608648
         },
         {
          "MLBAMID": 607192,
          "Name": "Tyler Glasnow",
          "emb_1": 1.8868159055709839,
          "emb_2": -3.4381706714630127,
          "index": 210,
          "mlb_id": 607192
         },
         {
          "MLBAMID": 592869,
          "Name": "Tyler Wilson",
          "emb_1": 1.8420395851135254,
          "emb_2": -2.8472900390625,
          "index": 170,
          "mlb_id": 592869
         },
         {
          "MLBAMID": 475115,
          "Name": "Tyson Ross",
          "emb_1": -0.08271639794111252,
          "emb_2": -3.0416407585144043,
          "index": 61,
          "mlb_id": 475115
         },
         {
          "MLBAMID": 434622,
          "Name": "Ubaldo Jimenez",
          "emb_1": 1.2285631895065308,
          "emb_2": 1.463614583015442,
          "index": 15,
          "mlb_id": 434622
         },
         {
          "MLBAMID": 474699,
          "Name": "Vance Worley",
          "emb_1": -4.2059502601623535,
          "emb_2": -2.4122543334960938,
          "index": 60,
          "mlb_id": 474699
         },
         {
          "MLBAMID": 573064,
          "Name": "Vidal Nuno",
          "emb_1": -1.5781787633895874,
          "emb_2": 2.714704751968384,
          "index": 151,
          "mlb_id": 573064
         },
         {
          "MLBAMID": 453281,
          "Name": "Wade LeBlanc",
          "emb_1": 0.06897605210542679,
          "emb_2": -1.5670095682144165,
          "index": 38,
          "mlb_id": 453281
         },
         {
          "MLBAMID": 489119,
          "Name": "Wade Miley",
          "emb_1": -0.3461464047431946,
          "emb_2": -8.187271118164062,
          "index": 65,
          "mlb_id": 489119
         },
         {
          "MLBAMID": 521655,
          "Name": "Wilmer Font",
          "emb_1": -1.296497106552124,
          "emb_2": 5.259194850921631,
          "index": 100,
          "mlb_id": 521655
         },
         {
          "MLBAMID": 606162,
          "Name": "Yefry Ramirez",
          "emb_1": -3.7653443813323975,
          "emb_2": -0.5102613568305969,
          "index": 204,
          "mlb_id": 606162
         },
         {
          "MLBAMID": 622795,
          "Name": "Yohander Mendez",
          "emb_1": -4.656166076660156,
          "emb_2": -2.839670181274414,
          "index": 231,
          "mlb_id": 622795
         },
         {
          "MLBAMID": 630023,
          "Name": "Yonny Chirinos",
          "emb_1": -2.169015884399414,
          "emb_2": -0.014337400905787945,
          "index": 238,
          "mlb_id": 630023
         },
         {
          "MLBAMID": 451596,
          "Name": "Yovani Gallardo",
          "emb_1": 0.6603497862815857,
          "emb_2": 4.195966720581055,
          "index": 34,
          "mlb_id": 451596
         },
         {
          "MLBAMID": 506433,
          "Name": "Yu Darvish",
          "emb_1": 3.415677547454834,
          "emb_2": 0.7134659886360168,
          "index": 86,
          "mlb_id": 506433
         },
         {
          "MLBAMID": 433589,
          "Name": "Yusmeiro Petit",
          "emb_1": 2.805586099624634,
          "emb_2": -2.0582094192504883,
          "index": 12,
          "mlb_id": 433589
         },
         {
          "MLBAMID": 594943,
          "Name": "Zach Neal",
          "emb_1": 2.646618604660034,
          "emb_2": 2.1199207305908203,
          "index": 181,
          "mlb_id": 594943
         },
         {
          "MLBAMID": 641793,
          "Name": "Zack Littell",
          "emb_1": -2.1582820415496826,
          "emb_2": -4.127251148223877,
          "index": 245,
          "mlb_id": 641793
         }
        ]
       },
       "encoding": {
        "tooltip": [
         {
          "field": "Name",
          "type": "nominal"
         },
         {
          "field": "mlb_id",
          "type": "quantitative"
         }
        ],
        "x": {
         "field": "emb_1",
         "type": "quantitative"
        },
        "y": {
         "field": "emb_2",
         "type": "quantitative"
        }
       },
       "mark": {
        "size": 60,
        "type": "circle"
       },
       "selection": {
        "selector001": {
         "bind": "scales",
         "encodings": [
          "x",
          "y"
         ],
         "type": "interval"
        }
       }
      },
      "text/plain": [
       "<VegaLite 3 object>\n",
       "\n",
       "If you see this message, it means the renderer has not been properly enabled\n",
       "for the frontend that you are using. For more information, see\n",
       "https://altair-viz.github.io/user_guide/troubleshooting.html\n"
      ]
     },
     "execution_count": 20,
     "metadata": {},
     "output_type": "execute_result"
    }
   ],
   "source": [
    "import altair as alt\n",
    "\n",
    "alt.Chart(embs_df).mark_circle(size=60).encode(\n",
    "    x='emb_1',\n",
    "    y='emb_2',\n",
    "    tooltip=['Name', 'mlb_id']\n",
    ").interactive()"
   ]
  },
  {
   "cell_type": "code",
   "execution_count": null,
   "metadata": {},
   "outputs": [],
   "source": []
  }
 ],
 "metadata": {
  "kernelspec": {
   "display_name": "Python 3",
   "language": "python",
   "name": "python3"
  },
  "language_info": {
   "codemirror_mode": {
    "name": "ipython",
    "version": 3
   },
   "file_extension": ".py",
   "mimetype": "text/x-python",
   "name": "python",
   "nbconvert_exporter": "python",
   "pygments_lexer": "ipython3",
   "version": "3.7.5"
  },
  "toc": {
   "base_numbering": 1,
   "nav_menu": {},
   "number_sections": true,
   "sideBar": true,
   "skip_h1_title": false,
   "title_cell": "Table of Contents",
   "title_sidebar": "Contents",
   "toc_cell": false,
   "toc_position": {},
   "toc_section_display": true,
   "toc_window_display": false
  }
 },
 "nbformat": 4,
 "nbformat_minor": 4
}
