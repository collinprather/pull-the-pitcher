{
 "cells": [
  {
   "cell_type": "code",
   "execution_count": 1,
   "metadata": {},
   "outputs": [
    {
     "name": "stderr",
     "output_type": "stream",
     "text": [
      "/Users/collinprather/anaconda3/envs/orioles/lib/python3.7/site-packages/statsmodels/tools/_testing.py:19: FutureWarning: pandas.util.testing is deprecated. Use the functions in the public API at pandas.testing instead.\n",
      "  import pandas.util.testing as tm\n"
     ]
    }
   ],
   "source": [
    "import pickle\n",
    "import numpy as np\n",
    "import pandas as pd\n",
    "import matplotlib.pyplot as plt\n",
    "\n",
    "import torch\n",
    "import torch.nn as nn\n",
    "from torch.utils.data import Dataset, DataLoader\n",
    "\n",
    "from drsa.model import DRSA\n",
    "\n",
    "from pull_the_pitcher.data.pipeline import add_targets\n",
    "from pull_the_pitcher.metrics import preds_histogram, print_all_metrics\n",
    "\n",
    "from pybaseball import playerid_lookup\n",
    "\n",
    "from sklearn.manifold import TSNE\n",
    "from sklearn.decomposition import PCA"
   ]
  },
  {
   "cell_type": "code",
   "execution_count": 2,
   "metadata": {},
   "outputs": [],
   "source": [
    "embedding_cols = [\"pitcher\"] # [\"game_pk\",  \"game_type\", \"pitcher_team_year\"]\n",
    "feature_cols = [\"post_bat_score\", \"score_diff\", \"end_inning\", \"inning\", \"postouts\", \"cum_sb_ratio\",\n",
    "                \"times_thru_order\", \"post_total_runners\", \"tying_run_on\", \"pitch_total\", \"post_opposite_hand\",\n",
    "                \"walk\", 'walk_cumsum', 'strikeout_cumsum', 'home_run_cumsum', 'bases_cumsum']\n",
    "cols = embedding_cols + feature_cols"
   ]
  },
  {
   "cell_type": "code",
   "execution_count": 3,
   "metadata": {},
   "outputs": [],
   "source": [
    "train = pd.read_csv(\"../data/processed/train_2016_2017_2018.csv\")\n",
    "val = pd.read_csv(\"../data/processed/val_2016_2017_2018.csv\")\n",
    "test = pd.read_csv(\"../data/processed/test_2019.csv\")\n",
    "\n",
    "with open(\"../data/processed/mappers_2016_2017_2018_2019.pkl\", \"rb\") as f:\n",
    "    mappers = pickle.load(f)\n",
    "    \n",
    "with open(\"../data/processed/scaler_2016_2017_2018_2019.pkl\", \"rb\") as f:\n",
    "    scaler = pickle.load(f)\n",
    "    \n",
    "# scaling test data (as tuned on training data)\n",
    "test[feature_cols] = scaler.transform(test[feature_cols])"
   ]
  },
  {
   "cell_type": "code",
   "execution_count": 4,
   "metadata": {},
   "outputs": [],
   "source": [
    "def name2id(last, first):\n",
    "    lookup_table = playerid_lookup(last, first)\n",
    "    id = lookup_table.iloc[0, 2]\n",
    "    return id"
   ]
  },
  {
   "cell_type": "code",
   "execution_count": 5,
   "metadata": {},
   "outputs": [
    {
     "name": "stdout",
     "output_type": "stream",
     "text": [
      "Gathering player lookup table. This may take a moment.\n",
      "Gathering player lookup table. This may take a moment.\n"
     ]
    }
   ],
   "source": [
    "cole_id = name2id(\"cole\", \"gerrit\")\n",
    "verlander_id = name2id(\"verlander\", \"justin\")"
   ]
  },
  {
   "cell_type": "code",
   "execution_count": 6,
   "metadata": {},
   "outputs": [],
   "source": [
    "cole_emb_idx = mappers[\"pitcher\"][cole_id]\n",
    "verlander_emb_idx = mappers[\"pitcher\"][verlander_id]"
   ]
  },
  {
   "cell_type": "code",
   "execution_count": 7,
   "metadata": {},
   "outputs": [],
   "source": [
    "def save_model(m, p): torch.save(m.state_dict(), p)\n",
    "def load_model(m, p): m.load_state_dict(torch.load(p))"
   ]
  },
  {
   "cell_type": "code",
   "execution_count": 8,
   "metadata": {},
   "outputs": [],
   "source": [
    "# getting embeddings ready\n",
    "n_pitchers = 270\n",
    "pitcher_emb_size = 20\n",
    "pitcher_embeddings = nn.Embedding(n_pitchers, pitcher_emb_size)\n",
    "\n",
    "ptp_embeddings = [pitcher_embeddings]\n",
    "\n",
    "# initializing model\n",
    "drsa = DRSA(n_features=16,\n",
    "            hidden_dim=20,\n",
    "            n_layers=5,\n",
    "            embeddings=ptp_embeddings,\n",
    "            output_size=1,\n",
    "            LSTM_dropout=0.05,\n",
    "            Linear_dropout=0.1)"
   ]
  },
  {
   "cell_type": "code",
   "execution_count": 9,
   "metadata": {},
   "outputs": [
    {
     "data": {
      "text/plain": [
       "DRSA(\n",
       "  (lstm): LSTM(35, 20, num_layers=5, batch_first=True, dropout=0.05)\n",
       "  (fc): Linear(in_features=20, out_features=1, bias=True)\n",
       "  (linear_dropout): Dropout(p=0.1, inplace=False)\n",
       "  (sigmoid): Sigmoid()\n",
       "  (params_to_train): ModuleList(\n",
       "    (0): Embedding(270, 20)\n",
       "  )\n",
       ")"
      ]
     },
     "execution_count": 9,
     "metadata": {},
     "output_type": "execute_result"
    }
   ],
   "source": [
    "load_model(drsa, f\"../models/07-10-20_DRSA_2016_2017_2018_2019_loss_2.6303.pth\")\n",
    "drsa.eval()"
   ]
  },
  {
   "cell_type": "code",
   "execution_count": 10,
   "metadata": {},
   "outputs": [],
   "source": [
    "pitcher_embeddings = [p for p in drsa.named_parameters() if p[0]=='params_to_train.0.weight'][0][1].detach()"
   ]
  },
  {
   "cell_type": "code",
   "execution_count": 11,
   "metadata": {},
   "outputs": [
    {
     "data": {
      "text/plain": [
       "torch.Size([270, 20])"
      ]
     },
     "execution_count": 11,
     "metadata": {},
     "output_type": "execute_result"
    }
   ],
   "source": [
    "pitcher_embeddings.shape"
   ]
  },
  {
   "cell_type": "code",
   "execution_count": 12,
   "metadata": {},
   "outputs": [],
   "source": [
    "pitcher_embs_tsne = TSNE(n_components=2, learning_rate=10, init=\"pca\").fit_transform(pitcher_embeddings)"
   ]
  },
  {
   "cell_type": "code",
   "execution_count": 13,
   "metadata": {},
   "outputs": [
    {
     "data": {
      "text/plain": [
       "(270, 2)"
      ]
     },
     "execution_count": 13,
     "metadata": {},
     "output_type": "execute_result"
    }
   ],
   "source": [
    "pitcher_embs_tsne.shape"
   ]
  },
  {
   "cell_type": "code",
   "execution_count": 14,
   "metadata": {},
   "outputs": [
    {
     "data": {
      "text/plain": [
       "Text(-3.5907576084136963, -0.11016464233398438, 'verlander')"
      ]
     },
     "execution_count": 14,
     "metadata": {},
     "output_type": "execute_result"
    },
    {
     "data": {
      "image/png": "[encoded data removed]",
      "text/plain": [
       "<Figure size 576x288 with 1 Axes>"
      ]
     },
     "metadata": {
      "needs_background": "light"
     },
     "output_type": "display_data"
    }
   ],
   "source": [
    "fig, ax = plt.subplots(1, 1, figsize=(8,4))\n",
    "\n",
    "ax.scatter(pitcher_embs_tsne[:, 0], pitcher_embs_tsne[:, 1])\n",
    "ax.set_title(\"Player Embeddings\")\n",
    "ax.text(pitcher_embs_tsne[cole_emb_idx][0] - 1, pitcher_embs_tsne[cole_emb_idx][1] + 1, \"cole\", size=14)\n",
    "ax.text(pitcher_embs_tsne[verlander_emb_idx][0] - 1, pitcher_embs_tsne[verlander_emb_idx][1] + 1, \"verlander\", size=14)"
   ]
  },
  {
   "cell_type": "code",
   "execution_count": 15,
   "metadata": {},
   "outputs": [],
   "source": [
    "mlbam_id = pd.read_csv(\"mlbam_id.csv\")"
   ]
  },
  {
   "cell_type": "code",
   "execution_count": 16,
   "metadata": {},
   "outputs": [],
   "source": [
    "pitcher_id_df = pd.DataFrame(list(mappers[\"pitcher\"].items()), columns=[\"mlb_id\", \"index\"])\n",
    "pitcher_id_df = pd.merge(mlbam_id[[\"MLBAMID\", \"Name\"]], pitcher_id_df, how=\"inner\", left_on=[\"MLBAMID\"], right_on=[\"mlb_id\"])"
   ]
  },
  {
   "cell_type": "code",
   "execution_count": 17,
   "metadata": {},
   "outputs": [],
   "source": [
    "embs_df = pd.DataFrame(pitcher_embs_tsne, columns=[\"emb_1\", \"emb_2\"]).reset_index()\n",
    "embs_df = pd.merge(pitcher_id_df, embs_df, how=\"inner\", on=\"index\")"
   ]
  },
  {
   "cell_type": "code",
   "execution_count": 18,
   "metadata": {},
   "outputs": [
    {
     "data": {
      "text/html": [
       "<div>\n",
       "<style scoped>\n",
       "    .dataframe tbody tr th:only-of-type {\n",
       "        vertical-align: middle;\n",
       "    }\n",
       "\n",
       "    .dataframe tbody tr th {\n",
       "        vertical-align: top;\n",
       "    }\n",
       "\n",
       "    .dataframe thead th {\n",
       "        text-align: right;\n",
       "    }\n",
       "</style>\n",
       "<table border=\"1\" class=\"dataframe\">\n",
       "  <thead>\n",
       "    <tr style=\"text-align: right;\">\n",
       "      <th></th>\n",
       "      <th>MLBAMID</th>\n",
       "      <th>Name</th>\n",
       "      <th>mlb_id</th>\n",
       "      <th>index</th>\n",
       "      <th>emb_1</th>\n",
       "      <th>emb_2</th>\n",
       "    </tr>\n",
       "  </thead>\n",
       "  <tbody>\n",
       "    <tr>\n",
       "      <th>0</th>\n",
       "      <td>456167</td>\n",
       "      <td>A.J. Griffin</td>\n",
       "      <td>456167.0</td>\n",
       "      <td>44</td>\n",
       "      <td>-9.670329</td>\n",
       "      <td>-1.173176</td>\n",
       "    </tr>\n",
       "    <tr>\n",
       "      <th>1</th>\n",
       "      <td>592717</td>\n",
       "      <td>Aaron Sanchez</td>\n",
       "      <td>592717.0</td>\n",
       "      <td>166</td>\n",
       "      <td>-1.001239</td>\n",
       "      <td>0.783224</td>\n",
       "    </tr>\n",
       "  </tbody>\n",
       "</table>\n",
       "</div>"
      ],
      "text/plain": [
       "   MLBAMID           Name    mlb_id  index     emb_1     emb_2\n",
       "0   456167   A.J. Griffin  456167.0     44 -9.670329 -1.173176\n",
       "1   592717  Aaron Sanchez  592717.0    166 -1.001239  0.783224"
      ]
     },
     "execution_count": 18,
     "metadata": {},
     "output_type": "execute_result"
    }
   ],
   "source": [
    "embs_df.head(2)"
   ]
  },
  {
   "cell_type": "code",
   "execution_count": 19,
   "metadata": {},
   "outputs": [
    {
     "data": {
      "application/vnd.vegalite.v3+json": {
       "$schema": "https://vega.github.io/schema/vega-lite/v3.4.0.json",
       "config": {
        "mark": {
         "tooltip": null
        },
        "view": {
         "height": 300,
         "width": 400
        }
       },
       "data": {
        "name": "data-868b5ada2954f3b644cac416938d4fec"
       },
       "datasets": {
        "data-868b5ada2954f3b644cac416938d4fec": [
         {
          "MLBAMID": 456167,
          "Name": "A.J. Griffin",
          "emb_1": -9.670329093933105,
          "emb_2": -1.173175573348999,
          "index": 44,
          "mlb_id": 456167
         },
         {
          "MLBAMID": 592717,
          "Name": "Aaron Sanchez",
          "emb_1": -1.0012389421463013,
          "emb_2": 0.7832235097885132,
          "index": 166,
          "mlb_id": 592717
         },
         {
          "MLBAMID": 642083,
          "Name": "Aaron Slegers",
          "emb_1": -0.9173582792282104,
          "emb_2": -0.1344800591468811,
          "index": 247,
          "mlb_id": 642083
         },
         {
          "MLBAMID": 606167,
          "Name": "Adalberto Mejia",
          "emb_1": -10.70812702178955,
          "emb_2": 7.226446628570557,
          "index": 205,
          "mlb_id": 606167
         },
         {
          "MLBAMID": 592644,
          "Name": "Adam Plutko",
          "emb_1": 4.137819290161133,
          "emb_2": -8.142769813537598,
          "index": 164,
          "mlb_id": 592644
         },
         {
          "MLBAMID": 573244,
          "Name": "Adam Wilk",
          "emb_1": -7.5084404945373535,
          "emb_2": -7.233482360839844,
          "index": 153,
          "mlb_id": 573244
         },
         {
          "MLBAMID": 592716,
          "Name": "Adrian Sampson",
          "emb_1": -3.539689064025879,
          "emb_2": 1.4525067806243896,
          "index": 165,
          "mlb_id": 592716
         },
         {
          "MLBAMID": 594742,
          "Name": "Alec Asher",
          "emb_1": 4.558164596557617,
          "emb_2": 3.8285880088806152,
          "index": 178,
          "mlb_id": 594742
         },
         {
          "MLBAMID": 592222,
          "Name": "Alex Claudio",
          "emb_1": -0.2523414194583893,
          "emb_2": -6.658529281616211,
          "index": 156,
          "mlb_id": 592222
         },
         {
          "MLBAMID": 502171,
          "Name": "Alex Cobb",
          "emb_1": -5.017969131469727,
          "emb_2": 12.527791023254395,
          "index": 78,
          "mlb_id": 502171
         },
         {
          "MLBAMID": 543542,
          "Name": "Alex Meyer",
          "emb_1": -5.040727615356445,
          "emb_2": 7.706276893615723,
          "index": 119,
          "mlb_id": 543542
         },
         {
          "MLBAMID": 452027,
          "Name": "Andrew Albers",
          "emb_1": -2.4896047115325928,
          "emb_2": 3.299757957458496,
          "index": 35,
          "mlb_id": 452027
         },
         {
          "MLBAMID": 488768,
          "Name": "Andrew Cashner",
          "emb_1": -8.351056098937988,
          "emb_2": -2.0408878326416016,
          "index": 64,
          "mlb_id": 488768
         },
         {
          "MLBAMID": 571760,
          "Name": "Andrew Heaney",
          "emb_1": -0.42998385429382324,
          "emb_2": -3.4564273357391357,
          "index": 139,
          "mlb_id": 571760
         },
         {
          "MLBAMID": 552640,
          "Name": "Andrew Kittredge",
          "emb_1": -6.612692832946777,
          "emb_2": -7.008022308349609,
          "index": 132,
          "mlb_id": 552640
         },
         {
          "MLBAMID": 621058,
          "Name": "Andrew Moore",
          "emb_1": 2.4707283973693848,
          "emb_2": -2.11737060546875,
          "index": 224,
          "mlb_id": 621058
         },
         {
          "MLBAMID": 592811,
          "Name": "Andrew Triggs",
          "emb_1": -3.9890835285186768,
          "emb_2": -14.350282669067383,
          "index": 168,
          "mlb_id": 592811
         },
         {
          "MLBAMID": 434671,
          "Name": "Anibal Sanchez",
          "emb_1": 2.3344027996063232,
          "emb_2": 3.4050445556640625,
          "index": 17,
          "mlb_id": 434671
         },
         {
          "MLBAMID": 607455,
          "Name": "Anthony Banda",
          "emb_1": -1.8338689804077148,
          "emb_2": -2.0997676849365234,
          "index": 216,
          "mlb_id": 607455
         },
         {
          "MLBAMID": 519168,
          "Name": "Anthony Ranaudo",
          "emb_1": 1.6892292499542236,
          "emb_2": 4.7014641761779785,
          "index": 96,
          "mlb_id": 519168
         },
         {
          "MLBAMID": 642558,
          "Name": "Ariel Jurado",
          "emb_1": -4.235025405883789,
          "emb_2": -2.0972843170166016,
          "index": 254,
          "mlb_id": 642558
         },
         {
          "MLBAMID": 664641,
          "Name": "Ariel Miranda",
          "emb_1": 6.856113910675049,
          "emb_2": 6.044017791748047,
          "index": 267,
          "mlb_id": 664641
         },
         {
          "MLBAMID": 592499,
          "Name": "Artie Lewicki",
          "emb_1": -1.9047377109527588,
          "emb_2": 4.367978572845459,
          "index": 160,
          "mlb_id": 592499
         },
         {
          "MLBAMID": 502212,
          "Name": "Austin Bibens-Dirkx",
          "emb_1": -13.518381118774414,
          "emb_2": -0.3974379599094391,
          "index": 81,
          "mlb_id": 502212
         },
         {
          "MLBAMID": 643493,
          "Name": "Austin Pruitt",
          "emb_1": 0.30312883853912354,
          "emb_2": 0.05488203838467598,
          "index": 257,
          "mlb_id": 643493
         },
         {
          "MLBAMID": 112526,
          "Name": "Bartolo Colon",
          "emb_1": 5.5081868171691895,
          "emb_2": -4.099898815155029,
          "index": 1,
          "mlb_id": 112526
         },
         {
          "MLBAMID": 543278,
          "Name": "Blaine Hardy",
          "emb_1": -0.7146103978157043,
          "emb_2": -0.7149901986122131,
          "index": 114,
          "mlb_id": 543278
         },
         {
          "MLBAMID": 605483,
          "Name": "Blake Snell",
          "emb_1": 7.445154666900635,
          "emb_2": -11.446464538574219,
          "index": 200,
          "mlb_id": 605483
         },
         {
          "MLBAMID": 641745,
          "Name": "Brad Keller",
          "emb_1": 6.313075065612793,
          "emb_2": 0.6609416007995605,
          "index": 244,
          "mlb_id": 641745
         },
         {
          "MLBAMID": 502748,
          "Name": "Brad Peacock",
          "emb_1": 14.418722152709961,
          "emb_2": -1.030747652053833,
          "index": 85,
          "mlb_id": 502748
         },
         {
          "MLBAMID": 572086,
          "Name": "Brady Rodgers",
          "emb_1": -5.106324672698975,
          "emb_2": -1.5878050327301025,
          "index": 145,
          "mlb_id": 572086
         },
         {
          "MLBAMID": 474463,
          "Name": "Brett Anderson",
          "emb_1": 3.051909923553467,
          "emb_2": 0.4147135615348816,
          "index": 58,
          "mlb_id": 474463
         },
         {
          "MLBAMID": 519085,
          "Name": "Brett Oberholtzer",
          "emb_1": 1.4113385677337646,
          "emb_2": -4.734511375427246,
          "index": 93,
          "mlb_id": 519085
         },
         {
          "MLBAMID": 543169,
          "Name": "Brian Flynn",
          "emb_1": 3.373791217803955,
          "emb_2": -4.455626964569092,
          "index": 111,
          "mlb_id": 543169
         },
         {
          "MLBAMID": 598271,
          "Name": "Brian Johnson",
          "emb_1": -5.503077507019043,
          "emb_2": -1.843835711479187,
          "index": 187,
          "mlb_id": 598271
         },
         {
          "MLBAMID": 571951,
          "Name": "Bryan Mitchell",
          "emb_1": 1.4092364311218262,
          "emb_2": 0.7512466311454773,
          "index": 142,
          "mlb_id": 571951
         },
         {
          "MLBAMID": 571656,
          "Name": "Buck Farmer",
          "emb_1": 3.6061348915100098,
          "emb_2": -2.387256383895874,
          "index": 137,
          "mlb_id": 571656
         },
         {
          "MLBAMID": 502032,
          "Name": "Bud Norris",
          "emb_1": 0.5720357298851013,
          "emb_2": -1.411327600479126,
          "index": 75,
          "mlb_id": 502032
         },
         {
          "MLBAMID": 572143,
          "Name": "Burch Smith",
          "emb_1": 14.41218090057373,
          "emb_2": -1.5558162927627563,
          "index": 147,
          "mlb_id": 572143
         },
         {
          "MLBAMID": 471911,
          "Name": "Carlos Carrasco",
          "emb_1": 3.078213691711426,
          "emb_2": 1.047999382019043,
          "index": 56,
          "mlb_id": 471911
         },
         {
          "MLBAMID": 607074,
          "Name": "Carlos Rodon",
          "emb_1": 15.22021770477295,
          "emb_2": -1.2437654733657837,
          "index": 208,
          "mlb_id": 607074
         },
         {
          "MLBAMID": 608334,
          "Name": "Carson Fulmer",
          "emb_1": 4.5771965980529785,
          "emb_2": -4.407184600830078,
          "index": 218,
          "mlb_id": 608334
         },
         {
          "MLBAMID": 596271,
          "Name": "Casey Lawrence",
          "emb_1": -10.022980690002441,
          "emb_2": 2.9973790645599365,
          "index": 186,
          "mlb_id": 596271
         },
         {
          "MLBAMID": 282332,
          "Name": "CC Sabathia",
          "emb_1": 0.973922848701477,
          "emb_2": 9.586235046386719,
          "index": 2,
          "mlb_id": 282332
         },
         {
          "MLBAMID": 459987,
          "Name": "Cesar Ramos",
          "emb_1": 7.485457897186279,
          "emb_2": -10.41098403930664,
          "index": 50,
          "mlb_id": 459987
         },
         {
          "MLBAMID": 491624,
          "Name": "Cesar Valdez",
          "emb_1": -5.192497253417969,
          "emb_2": -6.4510579109191895,
          "index": 66,
          "mlb_id": 491624
         },
         {
          "MLBAMID": 518445,
          "Name": "Chad Bell",
          "emb_1": 8.57223129272461,
          "emb_2": 9.265108108520508,
          "index": 88,
          "mlb_id": 518445
         },
         {
          "MLBAMID": 643338,
          "Name": "Chad Green",
          "emb_1": -3.349940299987793,
          "emb_2": -14.69245719909668,
          "index": 256,
          "mlb_id": 643338
         },
         {
          "MLBAMID": 664856,
          "Name": "Chance Adams",
          "emb_1": -2.208320140838623,
          "emb_2": 3.75119948387146,
          "index": 268,
          "mlb_id": 664856
         },
         {
          "MLBAMID": 450203,
          "Name": "Charlie Morton",
          "emb_1": -10.987143516540527,
          "emb_2": 3.192944049835205,
          "index": 29,
          "mlb_id": 450203
         },
         {
          "MLBAMID": 608328,
          "Name": "Chase De Jong",
          "emb_1": -5.809060573577881,
          "emb_2": -4.099211692810059,
          "index": 217,
          "mlb_id": 608328
         },
         {
          "MLBAMID": 592346,
          "Name": "Chi Chi Gonzalez",
          "emb_1": 1.2487878799438477,
          "emb_2": 5.866231441497803,
          "index": 159,
          "mlb_id": 592346
         },
         {
          "MLBAMID": 502042,
          "Name": "Chris Archer",
          "emb_1": -4.996556758880615,
          "emb_2": 7.750123500823975,
          "index": 76,
          "mlb_id": 502042
         },
         {
          "MLBAMID": 605135,
          "Name": "Chris Bassitt",
          "emb_1": -6.9585041999816895,
          "emb_2": 13.134429931640625,
          "index": 190,
          "mlb_id": 605135
         },
         {
          "MLBAMID": 606965,
          "Name": "Chris Devenski",
          "emb_1": -3.4520037174224854,
          "emb_2": 0.11347994953393936,
          "index": 207,
          "mlb_id": 606965
         },
         {
          "MLBAMID": 518790,
          "Name": "Chris Heston",
          "emb_1": 1.9148151874542236,
          "emb_2": -11.660801887512207,
          "index": 91,
          "mlb_id": 518790
         },
         {
          "MLBAMID": 635903,
          "Name": "Chris Rowley",
          "emb_1": 8.159130096435547,
          "emb_2": 9.675896644592285,
          "index": 239,
          "mlb_id": 635903
         },
         {
          "MLBAMID": 519242,
          "Name": "Chris Sale",
          "emb_1": 7.736950397491455,
          "emb_2": -11.776095390319824,
          "index": 97,
          "mlb_id": 519242
         },
         {
          "MLBAMID": 434672,
          "Name": "Chris Smith",
          "emb_1": -7.2222580909729,
          "emb_2": 0.48061010241508484,
          "index": 18,
          "mlb_id": 434672
         },
         {
          "MLBAMID": 501957,
          "Name": "Chris Tillman",
          "emb_1": -7.4873762130737305,
          "emb_2": 0.3517152667045593,
          "index": 71,
          "mlb_id": 501957
         },
         {
          "MLBAMID": 458690,
          "Name": "Chris Volstad",
          "emb_1": 14.253378868103027,
          "emb_2": -1.1331104040145874,
          "index": 48,
          "mlb_id": 458690
         },
         {
          "MLBAMID": 432934,
          "Name": "Chris Young",
          "emb_1": -2.9940264225006104,
          "emb_2": -1.9646550416946411,
          "index": 9,
          "mlb_id": 432934
         },
         {
          "MLBAMID": 548357,
          "Name": "Christian Bergman",
          "emb_1": -1.6407049894332886,
          "emb_2": -1.550580620765686,
          "index": 131,
          "mlb_id": 548357
         },
         {
          "MLBAMID": 453329,
          "Name": "Clay Buchholz",
          "emb_1": -10.515054702758789,
          "emb_2": -5.116291046142578,
          "index": 41,
          "mlb_id": 453329
         },
         {
          "MLBAMID": 594736,
          "Name": "Cody Anderson",
          "emb_1": -0.5608236193656921,
          "emb_2": -8.220154762268066,
          "index": 177,
          "mlb_id": 594736
         },
         {
          "MLBAMID": 592533,
          "Name": "Cody Martin",
          "emb_1": -4.571678161621094,
          "emb_2": -5.461014270782471,
          "index": 161,
          "mlb_id": 592533
         },
         {
          "MLBAMID": 430935,
          "Name": "Cole Hamels",
          "emb_1": 7.388469696044922,
          "emb_2": -0.41165855526924133,
          "index": 8,
          "mlb_id": 430935
         },
         {
          "MLBAMID": 543521,
          "Name": "Collin McHugh",
          "emb_1": -4.540301322937012,
          "emb_2": -8.671964645385742,
          "index": 117,
          "mlb_id": 543521
         },
         {
          "MLBAMID": 446372,
          "Name": "Corey Kluber",
          "emb_1": -0.8616638779640198,
          "emb_2": 0.7118468880653381,
          "index": 23,
          "mlb_id": 446372
         },
         {
          "MLBAMID": 474284,
          "Name": "Cory Rasmus",
          "emb_1": -1.2102696895599365,
          "emb_2": 8.553838729858398,
          "index": 57,
          "mlb_id": 474284
         },
         {
          "MLBAMID": 572971,
          "Name": "Dallas Keuchel",
          "emb_1": -2.3754284381866455,
          "emb_2": 0.5744306445121765,
          "index": 150,
          "mlb_id": 572971
         },
         {
          "MLBAMID": 605254,
          "Name": "Daniel Gossett",
          "emb_1": -0.6323100924491882,
          "emb_2": -0.707926332950592,
          "index": 195,
          "mlb_id": 605254
         },
         {
          "MLBAMID": 596043,
          "Name": "Daniel Mengden",
          "emb_1": 7.051977157592773,
          "emb_2": -10.772150993347168,
          "index": 183,
          "mlb_id": 596043
         },
         {
          "MLBAMID": 596057,
          "Name": "Daniel Norris",
          "emb_1": -7.038589000701904,
          "emb_2": -7.21857213973999,
          "index": 184,
          "mlb_id": 596057
         },
         {
          "MLBAMID": 642229,
          "Name": "Daniel Wright",
          "emb_1": 2.075106620788574,
          "emb_2": 5.081409931182861,
          "index": 249,
          "mlb_id": 642229
         },
         {
          "MLBAMID": 518633,
          "Name": "Danny Duffy",
          "emb_1": -2.0555410385131836,
          "emb_2": -10.823617935180664,
          "index": 89,
          "mlb_id": 518633
         },
         {
          "MLBAMID": 517593,
          "Name": "Danny Salazar",
          "emb_1": 7.729593276977539,
          "emb_2": 7.3890461921691895,
          "index": 87,
          "mlb_id": 517593
         },
         {
          "MLBAMID": 605276,
          "Name": "David Hess",
          "emb_1": -9.238615989685059,
          "emb_2": -4.249598026275635,
          "index": 196,
          "mlb_id": 605276
         },
         {
          "MLBAMID": 571787,
          "Name": "David Holmberg",
          "emb_1": -7.222535610198975,
          "emb_2": 4.501288414001465,
          "index": 140,
          "mlb_id": 571787
         },
         {
          "MLBAMID": 600944,
          "Name": "David Paulino",
          "emb_1": -2.732311248779297,
          "emb_2": -0.9872937798500061,
          "index": 188,
          "mlb_id": 600944
         },
         {
          "MLBAMID": 456034,
          "Name": "David Price",
          "emb_1": -2.766712188720703,
          "emb_2": 1.581905722618103,
          "index": 42,
          "mlb_id": 456034
         },
         {
          "MLBAMID": 500765,
          "Name": "Dayan Diaz",
          "emb_1": 12.4617338180542,
          "emb_2": 3.7362730503082275,
          "index": 68,
          "mlb_id": 500765
         },
         {
          "MLBAMID": 592547,
          "Name": "Deck McGuire",
          "emb_1": -8.59060287475586,
          "emb_2": 2.7142605781555176,
          "index": 162,
          "mlb_id": 592547
         },
         {
          "MLBAMID": 502706,
          "Name": "Derek Holland",
          "emb_1": -4.834303855895996,
          "emb_2": 4.19268798828125,
          "index": 84,
          "mlb_id": 502706
         },
         {
          "MLBAMID": 518716,
          "Name": "Dillon Gee",
          "emb_1": 0.21105507016181946,
          "emb_2": 0.7690489888191223,
          "index": 90,
          "mlb_id": 518716
         },
         {
          "MLBAMID": 592614,
          "Name": "Dillon Overton",
          "emb_1": 4.029914855957031,
          "emb_2": -8.821722984313965,
          "index": 163,
          "mlb_id": 592614
         },
         {
          "MLBAMID": 593334,
          "Name": "Domingo German",
          "emb_1": -6.343161582946777,
          "emb_2": -4.09798002243042,
          "index": 171,
          "mlb_id": 593334
         },
         {
          "MLBAMID": 450729,
          "Name": "Doug Fister",
          "emb_1": 0.46830812096595764,
          "emb_2": -8.839666366577148,
          "index": 33,
          "mlb_id": 450729
         },
         {
          "MLBAMID": 571800,
          "Name": "Drew Hutchison",
          "emb_1": -6.642116546630859,
          "emb_2": 12.037601470947266,
          "index": 141,
          "mlb_id": 571800
         },
         {
          "MLBAMID": 519141,
          "Name": "Drew Pomeranz",
          "emb_1": -8.030125617980957,
          "emb_2": -1.735193133354187,
          "index": 94,
          "mlb_id": 519141
         },
         {
          "MLBAMID": 592767,
          "Name": "Drew Smyly",
          "emb_1": 1.0610040426254272,
          "emb_2": 3.6809287071228027,
          "index": 167,
          "mlb_id": 592767
         },
         {
          "MLBAMID": 572403,
          "Name": "Drew VerHagen",
          "emb_1": 8.363019943237305,
          "emb_2": -2.111490249633789,
          "index": 148,
          "mlb_id": 572403
         },
         {
          "MLBAMID": 605164,
          "Name": "Dylan Bundy",
          "emb_1": -1.9341787099838257,
          "emb_2": -6.998179912567139,
          "index": 191,
          "mlb_id": 605164
         },
         {
          "MLBAMID": 592229,
          "Name": "Dylan Covey",
          "emb_1": -1.6314723491668701,
          "emb_2": 0.15104617178440094,
          "index": 157,
          "mlb_id": 592229
         },
         {
          "MLBAMID": 450172,
          "Name": "Edinson Volquez",
          "emb_1": 6.406953811645508,
          "emb_2": -5.395762920379639,
          "index": 28,
          "mlb_id": 450172
         },
         {
          "MLBAMID": 593958,
          "Name": "Eduardo Rodriguez",
          "emb_1": 15.087337493896484,
          "emb_2": -0.5212693810462952,
          "index": 175,
          "mlb_id": 593958
         },
         {
          "MLBAMID": 429719,
          "Name": "Edwin Jackson",
          "emb_1": 7.408474445343018,
          "emb_2": 4.874166965484619,
          "index": 6,
          "mlb_id": 429719
         },
         {
          "MLBAMID": 541640,
          "Name": "Erasmo Ramirez",
          "emb_1": 1.7546409368515015,
          "emb_2": -11.751355171203613,
          "index": 106,
          "mlb_id": 541640
         },
         {
          "MLBAMID": 607215,
          "Name": "Eric Skoglund",
          "emb_1": -5.617948055267334,
          "emb_2": -4.250862121582031,
          "index": 211,
          "mlb_id": 607215
         },
         {
          "MLBAMID": 605304,
          "Name": "Erik Johnson",
          "emb_1": -2.5427424907684326,
          "emb_2": -6.493931770324707,
          "index": 197,
          "mlb_id": 605304
         },
         {
          "MLBAMID": 429722,
          "Name": "Ervin Santana",
          "emb_1": -7.268075942993164,
          "emb_2": 12.449800491333008,
          "index": 7,
          "mlb_id": 429722
         },
         {
          "MLBAMID": 433587,
          "Name": "Felix Hernandez",
          "emb_1": -1.3159345388412476,
          "emb_2": -0.8706540465354919,
          "index": 11,
          "mlb_id": 433587
         },
         {
          "MLBAMID": 602928,
          "Name": "Felix Jorge",
          "emb_1": -4.474312782287598,
          "emb_2": -1.0816982984542847,
          "index": 189,
          "mlb_id": 602928
         },
         {
          "MLBAMID": 570240,
          "Name": "Felix Pena",
          "emb_1": 1.3167330026626587,
          "emb_2": 7.598886966705322,
          "index": 133,
          "mlb_id": 570240
         },
         {
          "MLBAMID": 622864,
          "Name": "Fernando Romero",
          "emb_1": -2.4567246437072754,
          "emb_2": 6.672133922576904,
          "index": 232,
          "mlb_id": 622864
         },
         {
          "MLBAMID": 664285,
          "Name": "Framber Valdez",
          "emb_1": 0.39672860503196716,
          "emb_2": -3.2201716899871826,
          "index": 266,
          "mlb_id": 664285
         },
         {
          "MLBAMID": 642564,
          "Name": "Francis Martes",
          "emb_1": -6.749623775482178,
          "emb_2": 12.090218544006348,
          "index": 255,
          "mlb_id": 642564
         },
         {
          "MLBAMID": 434538,
          "Name": "Francisco Liriano",
          "emb_1": -5.476149559020996,
          "emb_2": 11.702017784118652,
          "index": 14,
          "mlb_id": 434538
         },
         {
          "MLBAMID": 593423,
          "Name": "Frankie Montas",
          "emb_1": -0.9037988781929016,
          "emb_2": -0.3220897614955902,
          "index": 173,
          "mlb_id": 593423
         },
         {
          "MLBAMID": 593679,
          "Name": "Gabriel Ynoa",
          "emb_1": -9.510287284851074,
          "emb_2": 7.1885857582092285,
          "index": 174,
          "mlb_id": 593679
         },
         {
          "MLBAMID": 572070,
          "Name": "Garrett Richards",
          "emb_1": -2.971466302871704,
          "emb_2": -6.155486106872559,
          "index": 144,
          "mlb_id": 572070
         },
         {
          "MLBAMID": 543037,
          "Name": "Gerrit Cole",
          "emb_1": -4.906181335449219,
          "emb_2": 8.026589393615723,
          "index": 109,
          "mlb_id": 543037
         },
         {
          "MLBAMID": 642098,
          "Name": "Glenn Sparkman",
          "emb_1": -11.57014274597168,
          "emb_2": -4.173504829406738,
          "index": 248,
          "mlb_id": 642098
         },
         {
          "MLBAMID": 641571,
          "Name": "Heath Fillmyer",
          "emb_1": -2.1490955352783203,
          "emb_2": 5.659651756286621,
          "index": 243,
          "mlb_id": 641571
         },
         {
          "MLBAMID": 502327,
          "Name": "Hector Santiago",
          "emb_1": -2.4779064655303955,
          "emb_2": -3.1912076473236084,
          "index": 83,
          "mlb_id": 502327
         },
         {
          "MLBAMID": 584171,
          "Name": "Hector Velazquez",
          "emb_1": -2.091320276260376,
          "emb_2": -6.390451431274414,
          "index": 154,
          "mlb_id": 584171
         },
         {
          "MLBAMID": 596064,
          "Name": "Henry Owens",
          "emb_1": -0.309302419424057,
          "emb_2": 0.7639560699462891,
          "index": 185,
          "mlb_id": 596064
         },
         {
          "MLBAMID": 547874,
          "Name": "Hisashi Iwakuma",
          "emb_1": -2.9741833209991455,
          "emb_2": -15.048836708068848,
          "index": 129,
          "mlb_id": 547874
         },
         {
          "MLBAMID": 453178,
          "Name": "Ian Kennedy",
          "emb_1": 0.5887790322303772,
          "emb_2": -2.28971266746521,
          "index": 36,
          "mlb_id": 453178
         },
         {
          "MLBAMID": 467100,
          "Name": "Ivan Nova",
          "emb_1": -1.3404450416564941,
          "emb_2": -5.120131969451904,
          "index": 54,
          "mlb_id": 467100
         },
         {
          "MLBAMID": 457918,
          "Name": "J.A. Happ",
          "emb_1": 7.472856044769287,
          "emb_2": 10.028441429138184,
          "index": 46,
          "mlb_id": 457918
         },
         {
          "MLBAMID": 545363,
          "Name": "Jacob Turner",
          "emb_1": -1.3687537908554077,
          "emb_2": -4.202178478240967,
          "index": 127,
          "mlb_id": 545363
         },
         {
          "MLBAMID": 642545,
          "Name": "Jaime Barria",
          "emb_1": -2.1328532695770264,
          "emb_2": 5.932086944580078,
          "index": 253,
          "mlb_id": 642545
         },
         {
          "MLBAMID": 448802,
          "Name": "Jaime Garcia",
          "emb_1": 2.8537611961364746,
          "emb_2": -7.545482158660889,
          "index": 26,
          "mlb_id": 448802
         },
         {
          "MLBAMID": 607188,
          "Name": "Jake Faria",
          "emb_1": -5.015400409698486,
          "emb_2": 1.04575514793396,
          "index": 209,
          "mlb_id": 607188
         },
         {
          "MLBAMID": 543606,
          "Name": "Jake Odorizzi",
          "emb_1": 4.795391082763672,
          "emb_2": -7.4150800704956055,
          "index": 122,
          "mlb_id": 543606
         },
         {
          "MLBAMID": 596001,
          "Name": "Jakob Junis",
          "emb_1": -3.260727882385254,
          "emb_2": -3.2322638034820557,
          "index": 182,
          "mlb_id": 596001
         },
         {
          "MLBAMID": 656222,
          "Name": "Jalen Beeks",
          "emb_1": -3.693019151687622,
          "emb_2": -0.9489408731460571,
          "index": 259,
          "mlb_id": 656222
         },
         {
          "MLBAMID": 572020,
          "Name": "James Paxton",
          "emb_1": -11.041607856750488,
          "emb_2": -4.4406962394714355,
          "index": 143,
          "mlb_id": 572020
         },
         {
          "MLBAMID": 448306,
          "Name": "James Shields",
          "emb_1": 0.7679376006126404,
          "emb_2": -9.185765266418457,
          "index": 25,
          "mlb_id": 448306
         },
         {
          "MLBAMID": 434628,
          "Name": "Jason Hammel",
          "emb_1": -0.18327724933624268,
          "emb_2": -5.237523555755615,
          "index": 16,
          "mlb_id": 434628
         },
         {
          "MLBAMID": 450306,
          "Name": "Jason Vargas",
          "emb_1": 9.717805862426758,
          "emb_2": -2.3919577598571777,
          "index": 30,
          "mlb_id": 450306
         },
         {
          "MLBAMID": 593969,
          "Name": "Jayson Aquino",
          "emb_1": -2.0898871421813965,
          "emb_2": -0.08032259345054626,
          "index": 176,
          "mlb_id": 593969
         },
         {
          "MLBAMID": 500724,
          "Name": "JC Ramirez",
          "emb_1": -4.03953742980957,
          "emb_2": 0.1815488189458847,
          "index": 67,
          "mlb_id": 500724
         },
         {
          "MLBAMID": 605488,
          "Name": "Jeffrey Springs",
          "emb_1": -5.217575550079346,
          "emb_2": 0.6310788989067078,
          "index": 201,
          "mlb_id": 605488
         },
         {
          "MLBAMID": 450308,
          "Name": "Jered Weaver",
          "emb_1": -13.468584060668945,
          "emb_2": -0.4026957154273987,
          "index": 31,
          "mlb_id": 450308
         },
         {
          "MLBAMID": 476451,
          "Name": "Jeremy Hellickson",
          "emb_1": -4.020324230194092,
          "emb_2": 2.8079779148101807,
          "index": 63,
          "mlb_id": 476451
         },
         {
          "MLBAMID": 445926,
          "Name": "Jesse Chavez",
          "emb_1": 11.391608238220215,
          "emb_2": -8.39154052734375,
          "index": 21,
          "mlb_id": 445926
         },
         {
          "MLBAMID": 534910,
          "Name": "Jesse Hahn",
          "emb_1": -2.0505783557891846,
          "emb_2": -10.803590774536133,
          "index": 105,
          "mlb_id": 534910
         },
         {
          "MLBAMID": 605194,
          "Name": "Jharel Cotton",
          "emb_1": -5.967711925506592,
          "emb_2": 0.7397348284721375,
          "index": 193,
          "mlb_id": 605194
         },
         {
          "MLBAMID": 468504,
          "Name": "Jhoulys Chacin",
          "emb_1": 3.690955400466919,
          "emb_2": 2.153287172317505,
          "index": 55,
          "mlb_id": 468504
         },
         {
          "MLBAMID": 642231,
          "Name": "Jimmy Yacabonis",
          "emb_1": -1.227166771888733,
          "emb_2": 8.63265323638916,
          "index": 250,
          "mlb_id": 642231
         },
         {
          "MLBAMID": 607352,
          "Name": "Joe Biagini",
          "emb_1": 2.9445600509643555,
          "emb_2": 1.9994761943817139,
          "index": 214,
          "mlb_id": 607352
         },
         {
          "MLBAMID": 523260,
          "Name": "Joe Kelly",
          "emb_1": 0.11073204129934311,
          "emb_2": -0.6673851013183594,
          "index": 101,
          "mlb_id": 523260
         },
         {
          "MLBAMID": 605397,
          "Name": "Joe Musgrove",
          "emb_1": 2.5331180095672607,
          "emb_2": -4.1747517585754395,
          "index": 199,
          "mlb_id": 605397
         },
         {
          "MLBAMID": 433579,
          "Name": "John Danks",
          "emb_1": -3.3347880840301514,
          "emb_2": 3.4231016635894775,
          "index": 10,
          "mlb_id": 433579
         },
         {
          "MLBAMID": 543424,
          "Name": "John Lamb",
          "emb_1": 4.626318454742432,
          "emb_2": -0.8423858284950256,
          "index": 116,
          "mlb_id": 543424
         },
         {
          "MLBAMID": 642528,
          "Name": "Jonathan Loaisiga",
          "emb_1": -1.9019434452056885,
          "emb_2": 3.2142205238342285,
          "index": 252,
          "mlb_id": 642528
         },
         {
          "MLBAMID": 656756,
          "Name": "Jordan Montgomery",
          "emb_1": -7.366403579711914,
          "emb_2": 0.45487725734710693,
          "index": 261,
          "mlb_id": 656756
         },
         {
          "MLBAMID": 519455,
          "Name": "Jordan Zimmermann",
          "emb_1": -6.052670478820801,
          "emb_2": -9.901143074035645,
          "index": 99,
          "mlb_id": 519455
         },
         {
          "MLBAMID": 605347,
          "Name": "Jorge Lopez",
          "emb_1": -1.1189351081848145,
          "emb_2": -1.623105764389038,
          "index": 198,
          "mlb_id": 605347
         },
         {
          "MLBAMID": 621244,
          "Name": "Jose Berrios",
          "emb_1": -2.609025478363037,
          "emb_2": 4.722301959991455,
          "index": 227,
          "mlb_id": 621244
         },
         {
          "MLBAMID": 500779,
          "Name": "Jose Quintana",
          "emb_1": 8.717365264892578,
          "emb_2": 10.32591438293457,
          "index": 69,
          "mlb_id": 500779
         },
         {
          "MLBAMID": 657624,
          "Name": "Josh James",
          "emb_1": -1.0442922115325928,
          "emb_2": 2.19226336479187,
          "index": 264,
          "mlb_id": 657624
         },
         {
          "MLBAMID": 642028,
          "Name": "Josh Rogers",
          "emb_1": -0.7478458881378174,
          "emb_2": -2.1003127098083496,
          "index": 246,
          "mlb_id": 642028
         },
         {
          "MLBAMID": 458708,
          "Name": "Josh Tomlin",
          "emb_1": 10.788355827331543,
          "emb_2": -7.641533851623535,
          "index": 49,
          "mlb_id": 458708
         },
         {
          "MLBAMID": 434378,
          "Name": "Justin Verlander",
          "emb_1": -2.5907576084136963,
          "emb_2": -1.1101646423339844,
          "index": 13,
          "mlb_id": 434378
         },
         {
          "MLBAMID": 608665,
          "Name": "Kendall Graveman",
          "emb_1": -3.102832317352295,
          "emb_2": -4.075932502746582,
          "index": 222,
          "mlb_id": 608665
         },
         {
          "MLBAMID": 592332,
          "Name": "Kevin Gausman",
          "emb_1": -9.873144149780273,
          "emb_2": 2.02225923538208,
          "index": 158,
          "mlb_id": 592332
         },
         {
          "MLBAMID": 640464,
          "Name": "Kohl Stewart",
          "emb_1": 3.56210994720459,
          "emb_2": 7.829330921173096,
          "index": 241,
          "mlb_id": 640464
         },
         {
          "MLBAMID": 450665,
          "Name": "Kris Medlen",
          "emb_1": 2.076629161834717,
          "emb_2": -3.649366617202759,
          "index": 32,
          "mlb_id": 450665
         },
         {
          "MLBAMID": 502043,
          "Name": "Kyle Gibson",
          "emb_1": 10.876705169677734,
          "emb_2": -7.8110809326171875,
          "index": 77,
          "mlb_id": 502043
         },
         {
          "MLBAMID": 346798,
          "Name": "Kyle Lohse",
          "emb_1": -8.112495422363281,
          "emb_2": 8.27906608581543,
          "index": 4,
          "mlb_id": 346798
         },
         {
          "MLBAMID": 458681,
          "Name": "Lance Lynn",
          "emb_1": -4.534470558166504,
          "emb_2": -14.27517032623291,
          "index": 47,
          "mlb_id": 458681
         },
         {
          "MLBAMID": 621121,
          "Name": "Lance McCullers Jr.",
          "emb_1": -1.6523852348327637,
          "emb_2": 1.1674911975860596,
          "index": 226,
          "mlb_id": 621121
         },
         {
          "MLBAMID": 608337,
          "Name": "Lucas Giolito",
          "emb_1": -0.35902664065361023,
          "emb_2": 10.678025245666504,
          "index": 219,
          "mlb_id": 608337
         },
         {
          "MLBAMID": 449173,
          "Name": "Lucas Harrell",
          "emb_1": 13.840863227844238,
          "emb_2": -1.0500742197036743,
          "index": 27,
          "mlb_id": 449173
         },
         {
          "MLBAMID": 570666,
          "Name": "Luis Cessa",
          "emb_1": -3.224398136138916,
          "emb_2": -4.160216331481934,
          "index": 135,
          "mlb_id": 570666
         },
         {
          "MLBAMID": 622663,
          "Name": "Luis Severino",
          "emb_1": -6.934092998504639,
          "emb_2": -9.550484657287598,
          "index": 230,
          "mlb_id": 622663
         },
         {
          "MLBAMID": 608652,
          "Name": "Luke Farrell",
          "emb_1": 5.459102630615234,
          "emb_2": -1.181535243988037,
          "index": 221,
          "mlb_id": 608652
         },
         {
          "MLBAMID": 462136,
          "Name": "Marco Estrada",
          "emb_1": 4.261507034301758,
          "emb_2": -7.742118835449219,
          "index": 53,
          "mlb_id": 462136
         },
         {
          "MLBAMID": 594835,
          "Name": "Marco Gonzales",
          "emb_1": 10.848237037658691,
          "emb_2": -7.9103264808654785,
          "index": 179,
          "mlb_id": 594835
         },
         {
          "MLBAMID": 573186,
          "Name": "Marcus Stroman",
          "emb_1": 6.523454189300537,
          "emb_2": -6.245302200317383,
          "index": 152,
          "mlb_id": 573186
         },
         {
          "MLBAMID": 527048,
          "Name": "Martin Perez",
          "emb_1": -9.873923301696777,
          "emb_2": 8.094069480895996,
          "index": 102,
          "mlb_id": 527048
         },
         {
          "MLBAMID": 547888,
          "Name": "Masahiro Tanaka",
          "emb_1": 7.325062274932861,
          "emb_2": 8.955906867980957,
          "index": 130,
          "mlb_id": 547888
         },
         {
          "MLBAMID": 502009,
          "Name": "Mat Latos",
          "emb_1": -7.712187767028809,
          "emb_2": 2.8811705112457275,
          "index": 74,
          "mlb_id": 502009
         },
         {
          "MLBAMID": 542882,
          "Name": "Matt Andriese",
          "emb_1": 7.633819580078125,
          "emb_2": 9.411527633666992,
          "index": 107,
          "mlb_id": 542882
         },
         {
          "MLBAMID": 519043,
          "Name": "Matt Moore",
          "emb_1": -5.505031585693359,
          "emb_2": 7.740485191345215,
          "index": 92,
          "mlb_id": 519043
         },
         {
          "MLBAMID": 533167,
          "Name": "Matt Shoemaker",
          "emb_1": 13.551250457763672,
          "emb_2": -0.7059088945388794,
          "index": 103,
          "mlb_id": 533167
         },
         {
          "MLBAMID": 621381,
          "Name": "Matt Strahm",
          "emb_1": -3.361119270324707,
          "emb_2": -14.682908058166504,
          "index": 229,
          "mlb_id": 621381
         },
         {
          "MLBAMID": 571510,
          "Name": "Matthew Boyd",
          "emb_1": -11.244710922241211,
          "emb_2": -5.787168025970459,
          "index": 136,
          "mlb_id": 571510
         },
         {
          "MLBAMID": 605242,
          "Name": "Michael Fulmer",
          "emb_1": -13.012667655944824,
          "emb_2": -0.45147791504859924,
          "index": 194,
          "mlb_id": 605242
         },
         {
          "MLBAMID": 656629,
          "Name": "Michael Kopech",
          "emb_1": -1.3541160821914673,
          "emb_2": 10.989205360412598,
          "index": 260,
          "mlb_id": 656629
         },
         {
          "MLBAMID": 501381,
          "Name": "Michael Pineda",
          "emb_1": 9.582840919494629,
          "emb_2": 1.864880919456482,
          "index": 70,
          "mlb_id": 501381
         },
         {
          "MLBAMID": 612434,
          "Name": "Miguel Castro",
          "emb_1": -7.023962497711182,
          "emb_2": -7.218975067138672,
          "index": 223,
          "mlb_id": 612434
         },
         {
          "MLBAMID": 456068,
          "Name": "Miguel Gonzalez",
          "emb_1": -10.856880187988281,
          "emb_2": -4.665771007537842,
          "index": 43,
          "mlb_id": 456068
         },
         {
          "MLBAMID": 502211,
          "Name": "Mike Bolsinger",
          "emb_1": -4.879387378692627,
          "emb_2": -5.921836853027344,
          "index": 80,
          "mlb_id": 502211
         },
         {
          "MLBAMID": 605182,
          "Name": "Mike Clevinger",
          "emb_1": -10.450942039489746,
          "emb_2": 3.792137622833252,
          "index": 192,
          "mlb_id": 605182
         },
         {
          "MLBAMID": 571666,
          "Name": "Mike Fiers",
          "emb_1": 4.424013137817383,
          "emb_2": -0.43832752108573914,
          "index": 138,
          "mlb_id": 571666
         },
         {
          "MLBAMID": 623434,
          "Name": "Mike Hauschild",
          "emb_1": 2.839264392852783,
          "emb_2": -6.23357629776001,
          "index": 234,
          "mlb_id": 623434
         },
         {
          "MLBAMID": 502190,
          "Name": "Mike Leake",
          "emb_1": 5.825961589813232,
          "emb_2": -1.9197745323181152,
          "index": 79,
          "mlb_id": 502190
         },
         {
          "MLBAMID": 501985,
          "Name": "Mike Minor",
          "emb_1": 12.283373832702637,
          "emb_2": -1.7445476055145264,
          "index": 72,
          "mlb_id": 501985
         },
         {
          "MLBAMID": 543557,
          "Name": "Mike Montgomery",
          "emb_1": 3.94277024269104,
          "emb_2": 2.286245346069336,
          "index": 121,
          "mlb_id": 543557
         },
         {
          "MLBAMID": 460059,
          "Name": "Mike Pelfrey",
          "emb_1": 1.3342101573944092,
          "emb_2": 7.53102445602417,
          "index": 51,
          "mlb_id": 460059
         },
         {
          "MLBAMID": 605541,
          "Name": "Mike Wright",
          "emb_1": -2.2491724491119385,
          "emb_2": 2.5066585540771484,
          "index": 203,
          "mlb_id": 605541
         },
         {
          "MLBAMID": 594867,
          "Name": "Myles Jaye",
          "emb_1": -9.17647933959961,
          "emb_2": -2.8918282985687256,
          "index": 180,
          "mlb_id": 594867
         },
         {
          "MLBAMID": 501992,
          "Name": "Nate Karns",
          "emb_1": 6.497393608093262,
          "emb_2": 5.789835453033447,
          "index": 73,
          "mlb_id": 501992
         },
         {
          "MLBAMID": 543135,
          "Name": "Nathan Eovaldi",
          "emb_1": 8.458845138549805,
          "emb_2": -3.2536046504974365,
          "index": 110,
          "mlb_id": 543135
         },
         {
          "MLBAMID": 607259,
          "Name": "Nick Martinez",
          "emb_1": -6.625267028808594,
          "emb_2": 12.470605850219727,
          "index": 212,
          "mlb_id": 607259
         },
         {
          "MLBAMID": 519344,
          "Name": "Nick Tepesch",
          "emb_1": 3.9290030002593994,
          "emb_2": -3.515141725540161,
          "index": 98,
          "mlb_id": 519344
         },
         {
          "MLBAMID": 607374,
          "Name": "Nick Tropeano",
          "emb_1": -5.974939346313477,
          "emb_2": -1.9492276906967163,
          "index": 215,
          "mlb_id": 607374
         },
         {
          "MLBAMID": 543867,
          "Name": "Nik Turley",
          "emb_1": 7.667006969451904,
          "emb_2": 1.8241266012191772,
          "index": 123,
          "mlb_id": 543867
         },
         {
          "MLBAMID": 628333,
          "Name": "Odrisamer Despaigne",
          "emb_1": 7.502584457397461,
          "emb_2": -5.87834358215332,
          "index": 237,
          "mlb_id": 628333
         },
         {
          "MLBAMID": 592170,
          "Name": "Parker Bridwell",
          "emb_1": -0.36033210158348083,
          "emb_2": -0.7180006504058838,
          "index": 155,
          "mlb_id": 592170
         },
         {
          "MLBAMID": 534737,
          "Name": "Pat Dean",
          "emb_1": -0.4290524125099182,
          "emb_2": -2.974803924560547,
          "index": 104,
          "mlb_id": 534737
         },
         {
          "MLBAMID": 621112,
          "Name": "Paul Blackburn",
          "emb_1": -6.51080846786499,
          "emb_2": -11.806318283081055,
          "index": 225,
          "mlb_id": 621112
         },
         {
          "MLBAMID": 461833,
          "Name": "Phil Hughes",
          "emb_1": -9.08133316040039,
          "emb_2": 7.46812105178833,
          "index": 52,
          "mlb_id": 461833
         },
         {
          "MLBAMID": 285079,
          "Name": "R.A. Dickey",
          "emb_1": -1.725287914276123,
          "emb_2": -8.939092636108398,
          "index": 3,
          "mlb_id": 285079
         },
         {
          "MLBAMID": 593417,
          "Name": "Raul Alcantara",
          "emb_1": 7.947361469268799,
          "emb_2": 1.2882477045059204,
          "index": 172,
          "mlb_id": 593417
         },
         {
          "MLBAMID": 625643,
          "Name": "Reynaldo Lopez",
          "emb_1": -6.419451713562012,
          "emb_2": 0.9680545330047607,
          "index": 236,
          "mlb_id": 625643
         },
         {
          "MLBAMID": 448179,
          "Name": "Rich Hill",
          "emb_1": 1.7316288948059082,
          "emb_2": -6.52476692199707,
          "index": 24,
          "mlb_id": 448179
         },
         {
          "MLBAMID": 519144,
          "Name": "Rick Porcello",
          "emb_1": -6.477421283721924,
          "emb_2": -11.884238243103027,
          "index": 95,
          "mlb_id": 519144
         },
         {
          "MLBAMID": 445060,
          "Name": "Ricky Nolasco",
          "emb_1": 3.722425699234009,
          "emb_2": 7.851912021636963,
          "index": 20,
          "mlb_id": 445060
         },
         {
          "MLBAMID": 547007,
          "Name": "Rob Whalen",
          "emb_1": -1.0908645391464233,
          "emb_2": 10.858922958374023,
          "index": 128,
          "mlb_id": 547007
         },
         {
          "MLBAMID": 606273,
          "Name": "Roenis Elias",
          "emb_1": 6.9095139503479,
          "emb_2": -10.723997116088867,
          "index": 206,
          "mlb_id": 606273
         },
         {
          "MLBAMID": 446321,
          "Name": "Ross Detwiler",
          "emb_1": 1.2822067737579346,
          "emb_2": -0.023234069347381592,
          "index": 22,
          "mlb_id": 446321
         },
         {
          "MLBAMID": 621366,
          "Name": "Ryan Borucki",
          "emb_1": 8.579351425170898,
          "emb_2": -2.258491039276123,
          "index": 228,
          "mlb_id": 621366
         },
         {
          "MLBAMID": 543001,
          "Name": "Ryan Carpenter",
          "emb_1": 2.7733852863311768,
          "emb_2": 10.657720565795898,
          "index": 108,
          "mlb_id": 543001
         },
         {
          "MLBAMID": 607320,
          "Name": "Ryan Merritt",
          "emb_1": 0.6615549325942993,
          "emb_2": 1.8563858270645142,
          "index": 213,
          "mlb_id": 607320
         },
         {
          "MLBAMID": 543901,
          "Name": "Ryan Weber",
          "emb_1": 11.51406478881836,
          "emb_2": -1.948226809501648,
          "index": 124,
          "mlb_id": 543901
         },
         {
          "MLBAMID": 642232,
          "Name": "Ryan Yarbrough",
          "emb_1": -0.28118905425071716,
          "emb_2": -1.6555187702178955,
          "index": 251,
          "mlb_id": 642232
         },
         {
          "MLBAMID": 543208,
          "Name": "Sam Gaviglio",
          "emb_1": -9.49525260925293,
          "emb_2": 6.850400924682617,
          "index": 112,
          "mlb_id": 543208
         },
         {
          "MLBAMID": 444857,
          "Name": "Scott Feldman",
          "emb_1": 2.6921894550323486,
          "emb_2": 10.620484352111816,
          "index": 19,
          "mlb_id": 444857
         },
         {
          "MLBAMID": 640455,
          "Name": "Sean Manaea",
          "emb_1": 5.727174758911133,
          "emb_2": -1.7688521146774292,
          "index": 240,
          "mlb_id": 640455
         },
         {
          "MLBAMID": 457711,
          "Name": "Sean O’Sullivan",
          "emb_1": -5.630763530731201,
          "emb_2": 11.918149948120117,
          "index": 45,
          "mlb_id": 457711
         },
         {
          "MLBAMID": 656887,
          "Name": "Sean Reid-Foley",
          "emb_1": -9.152876853942871,
          "emb_2": 2.947932720184326,
          "index": 263,
          "mlb_id": 656887
         },
         {
          "MLBAMID": 669456,
          "Name": "Shane Bieber",
          "emb_1": -3.4470465183258057,
          "emb_2": -14.64175033569336,
          "index": 269,
          "mlb_id": 669456
         },
         {
          "MLBAMID": 572888,
          "Name": "Shane Greene",
          "emb_1": 1.3819738626480103,
          "emb_2": -11.462749481201172,
          "index": 149,
          "mlb_id": 572888
         },
         {
          "MLBAMID": 660271,
          "Name": "Shohei Ohtani",
          "emb_1": 10.213338851928711,
          "emb_2": 1.3348419666290283,
          "index": 265,
          "mlb_id": 660271
         },
         {
          "MLBAMID": 660271,
          "Name": "Shohei Ohtani",
          "emb_1": 10.213338851928711,
          "emb_2": 1.3348419666290283,
          "index": 265,
          "mlb_id": 660271
         },
         {
          "MLBAMID": 543243,
          "Name": "Sonny Gray",
          "emb_1": -5.333146095275879,
          "emb_2": 4.763236999511719,
          "index": 113,
          "mlb_id": 543243
         },
         {
          "MLBAMID": 605513,
          "Name": "Spencer Turnbull",
          "emb_1": 0.06938713043928146,
          "emb_2": 4.71319055557251,
          "index": 202,
          "mlb_id": 605513
         },
         {
          "MLBAMID": 624427,
          "Name": "Stephen Gonsalves",
          "emb_1": 2.6070261001586914,
          "emb_2": 5.368456840515137,
          "index": 235,
          "mlb_id": 624427
         },
         {
          "MLBAMID": 453214,
          "Name": "Steven Wright",
          "emb_1": 3.90466046333313,
          "emb_2": 2.992856740951538,
          "index": 37,
          "mlb_id": 453214
         },
         {
          "MLBAMID": 592836,
          "Name": "Taijuan Walker",
          "emb_1": 14.523784637451172,
          "emb_2": -2.002748489379883,
          "index": 169,
          "mlb_id": 592836
         },
         {
          "MLBAMID": 623381,
          "Name": "Thomas Pannone",
          "emb_1": 2.0947084426879883,
          "emb_2": 1.819847822189331,
          "index": 233,
          "mlb_id": 623381
         },
         {
          "MLBAMID": 453311,
          "Name": "Tim Lincecum",
          "emb_1": 2.2038655281066895,
          "emb_2": -0.824959933757782,
          "index": 40,
          "mlb_id": 453311
         },
         {
          "MLBAMID": 543532,
          "Name": "Tim Melville",
          "emb_1": 1.2657368183135986,
          "emb_2": 7.887841701507568,
          "index": 118,
          "mlb_id": 543532
         },
         {
          "MLBAMID": 543408,
          "Name": "Tom Koehler",
          "emb_1": 4.458415985107422,
          "emb_2": -0.6130723357200623,
          "index": 115,
          "mlb_id": 543408
         },
         {
          "MLBAMID": 543548,
          "Name": "Tommy Milone",
          "emb_1": 7.560365200042725,
          "emb_2": 2.107152223587036,
          "index": 120,
          "mlb_id": 543548
         },
         {
          "MLBAMID": 475243,
          "Name": "Travis Wood",
          "emb_1": 2.960186719894409,
          "emb_2": -6.54135274887085,
          "index": 62,
          "mlb_id": 475243
         },
         {
          "MLBAMID": 545333,
          "Name": "Trevor Bauer",
          "emb_1": 3.288977861404419,
          "emb_2": -7.031464576721191,
          "index": 126,
          "mlb_id": 545333
         },
         {
          "MLBAMID": 502239,
          "Name": "Trevor Cahill",
          "emb_1": -9.871184349060059,
          "emb_2": 4.839784145355225,
          "index": 82,
          "mlb_id": 502239
         },
         {
          "MLBAMID": 656805,
          "Name": "Trevor Oaks",
          "emb_1": 13.885918617248535,
          "emb_2": -1.1863404512405396,
          "index": 262,
          "mlb_id": 656805
         },
         {
          "MLBAMID": 644428,
          "Name": "Troy Scribner",
          "emb_1": -2.230043411254883,
          "emb_2": 6.175647735595703,
          "index": 258,
          "mlb_id": 644428
         },
         {
          "MLBAMID": 641501,
          "Name": "Tyler Danish",
          "emb_1": 6.799381256103516,
          "emb_2": -5.8176589012146,
          "index": 242,
          "mlb_id": 641501
         },
         {
          "MLBAMID": 608648,
          "Name": "Tyler Duffey",
          "emb_1": -2.3864002227783203,
          "emb_2": -15.511962890625,
          "index": 220,
          "mlb_id": 608648
         },
         {
          "MLBAMID": 607192,
          "Name": "Tyler Glasnow",
          "emb_1": -0.052263274788856506,
          "emb_2": 3.147348403930664,
          "index": 210,
          "mlb_id": 607192
         },
         {
          "MLBAMID": 592869,
          "Name": "Tyler Wilson",
          "emb_1": 4.056482315063477,
          "emb_2": 7.147575855255127,
          "index": 170,
          "mlb_id": 592869
         },
         {
          "MLBAMID": 475115,
          "Name": "Tyson Ross",
          "emb_1": -1.4652870893478394,
          "emb_2": -0.39175355434417725,
          "index": 61,
          "mlb_id": 475115
         },
         {
          "MLBAMID": 434622,
          "Name": "Ubaldo Jimenez",
          "emb_1": 2.208252429962158,
          "emb_2": -1.428977608680725,
          "index": 15,
          "mlb_id": 434622
         },
         {
          "MLBAMID": 474699,
          "Name": "Vance Worley",
          "emb_1": -6.535510540008545,
          "emb_2": -10.01132583618164,
          "index": 60,
          "mlb_id": 474699
         },
         {
          "MLBAMID": 573064,
          "Name": "Vidal Nuno",
          "emb_1": 2.3689095973968506,
          "emb_2": 2.171123743057251,
          "index": 151,
          "mlb_id": 573064
         },
         {
          "MLBAMID": 453281,
          "Name": "Wade LeBlanc",
          "emb_1": -2.8154773712158203,
          "emb_2": -7.433887004852295,
          "index": 38,
          "mlb_id": 453281
         },
         {
          "MLBAMID": 489119,
          "Name": "Wade Miley",
          "emb_1": 6.421725749969482,
          "emb_2": 3.8778204917907715,
          "index": 65,
          "mlb_id": 489119
         },
         {
          "MLBAMID": 521655,
          "Name": "Wilmer Font",
          "emb_1": 0.0204960647970438,
          "emb_2": -7.472829818725586,
          "index": 100,
          "mlb_id": 521655
         },
         {
          "MLBAMID": 606162,
          "Name": "Yefry Ramirez",
          "emb_1": 7.330004692077637,
          "emb_2": -0.1651216745376587,
          "index": 204,
          "mlb_id": 606162
         },
         {
          "MLBAMID": 622795,
          "Name": "Yohander Mendez",
          "emb_1": 1.5887694358825684,
          "emb_2": -1.5035134553909302,
          "index": 231,
          "mlb_id": 622795
         },
         {
          "MLBAMID": 630023,
          "Name": "Yonny Chirinos",
          "emb_1": -9.958273887634277,
          "emb_2": 6.65587854385376,
          "index": 238,
          "mlb_id": 630023
         },
         {
          "MLBAMID": 451596,
          "Name": "Yovani Gallardo",
          "emb_1": -9.552600860595703,
          "emb_2": 2.7213847637176514,
          "index": 34,
          "mlb_id": 451596
         },
         {
          "MLBAMID": 506433,
          "Name": "Yu Darvish",
          "emb_1": -0.14940610527992249,
          "emb_2": -6.266499996185303,
          "index": 86,
          "mlb_id": 506433
         },
         {
          "MLBAMID": 433589,
          "Name": "Yusmeiro Petit",
          "emb_1": -9.19334888458252,
          "emb_2": -1.448269009590149,
          "index": 12,
          "mlb_id": 433589
         },
         {
          "MLBAMID": 594943,
          "Name": "Zach Neal",
          "emb_1": 8.114461898803711,
          "emb_2": 9.543416023254395,
          "index": 181,
          "mlb_id": 594943
         },
         {
          "MLBAMID": 641793,
          "Name": "Zack Littell",
          "emb_1": 4.481131553649902,
          "emb_2": 3.720611095428467,
          "index": 245,
          "mlb_id": 641793
         }
        ]
       },
       "encoding": {
        "tooltip": [
         {
          "field": "Name",
          "type": "nominal"
         },
         {
          "field": "mlb_id",
          "type": "quantitative"
         }
        ],
        "x": {
         "field": "emb_1",
         "type": "quantitative"
        },
        "y": {
         "field": "emb_2",
         "type": "quantitative"
        }
       },
       "mark": {
        "size": 60,
        "type": "circle"
       },
       "selection": {
        "selector001": {
         "bind": "scales",
         "encodings": [
          "x",
          "y"
         ],
         "type": "interval"
        }
       }
      },
      "image/png": "[encoded data removed]",
      "text/plain": [
       "<VegaLite 3 object>\n",
       "\n",
       "If you see this message, it means the renderer has not been properly enabled\n",
       "for the frontend that you are using. For more information, see\n",
       "https://altair-viz.github.io/user_guide/troubleshooting.html\n"
      ]
     },
     "execution_count": 19,
     "metadata": {},
     "output_type": "execute_result"
    }
   ],
   "source": [
    "import altair as alt\n",
    "\n",
    "alt.Chart(embs_df).mark_circle(size=60).encode(\n",
    "    x='emb_1',\n",
    "    y='emb_2',\n",
    "    tooltip=['Name', 'mlb_id']\n",
    ").interactive()"
   ]
  },
  {
   "cell_type": "code",
   "execution_count": null,
   "metadata": {},
   "outputs": [],
   "source": []
  }
 ],
 "metadata": {
  "kernelspec": {
   "display_name": "Python 3",
   "language": "python",
   "name": "python3"
  },
  "language_info": {
   "codemirror_mode": {
    "name": "ipython",
    "version": 3
   },
   "file_extension": ".py",
   "mimetype": "text/x-python",
   "name": "python",
   "nbconvert_exporter": "python",
   "pygments_lexer": "ipython3",
   "version": "3.7.7"
  },
  "toc": {
   "base_numbering": 1,
   "nav_menu": {},
   "number_sections": true,
   "sideBar": true,
   "skip_h1_title": false,
   "title_cell": "Table of Contents",
   "title_sidebar": "Contents",
   "toc_cell": false,
   "toc_position": {},
   "toc_section_display": true,
   "toc_window_display": false
  }
 },
 "nbformat": 4,
 "nbformat_minor": 4
}
