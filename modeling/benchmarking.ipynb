{
 "cells": [
  {
   "cell_type": "markdown",
   "metadata": {},
   "source": [
    "# Benchmarking\n",
    "\n",
    "> Comparing the DRSA model to some other baseline models.\n",
    "\n",
    "* *Note*: with the drsa, we can use embeddings. With the other models we cannot."
   ]
  },
  {
   "cell_type": "code",
   "execution_count": 1,
   "metadata": {},
   "outputs": [
    {
     "name": "stderr",
     "output_type": "stream",
     "text": [
      "/Users/collinprather/anaconda3/envs/orioles/lib/python3.7/site-packages/statsmodels/tools/_testing.py:19: FutureWarning: pandas.util.testing is deprecated. Use the functions in the public API at pandas.testing instead.\n",
      "  import pandas.util.testing as tm\n"
     ]
    }
   ],
   "source": [
    "import pickle\n",
    "import numpy as np\n",
    "import pandas as pd\n",
    "import matplotlib.pyplot as plt\n",
    "\n",
    "import torch\n",
    "import torch.nn as nn\n",
    "from torch.utils.data import Dataset, DataLoader\n",
    "# import torch.nn.functional as F\n",
    "\n",
    "# from drsa.functions import event_time_loss, event_rate_loss\n",
    "from drsa.model import DRSA\n",
    "\n",
    "from pull_the_pitcher.data.pipeline import add_targets\n",
    "from pull_the_pitcher.metrics import preds_histogram, print_all_metrics"
   ]
  },
  {
   "cell_type": "code",
   "execution_count": 2,
   "metadata": {},
   "outputs": [],
   "source": [
    "train = pd.read_csv(\"../data/processed/train_2017_2018_2019.csv\")\n",
    "test = pd.read_csv(\"../data/processed/test_2017_2018_2019.csv\")\n",
    "with open(\"../data/processed/mappers_2017_2018_2019_2017_2018_2019.pkl\", \"rb\") as f:\n",
    "    mappers = pickle.load(f)"
   ]
  },
  {
   "cell_type": "code",
   "execution_count": 3,
   "metadata": {},
   "outputs": [],
   "source": [
    "embedding_cols = [\"pitcher\"] # [\"game_pk\",  \"game_type\", \"pitcher_team_year\"]\n",
    "feature_cols = [\"post_bat_score\", \"score_diff\", \"end_inning\", \"inning\", \"postouts\", \"cum_sb_ratio\",\n",
    "                \"times_thru_order\", \"post_total_runners\", \"tying_run_on\", \"pitch_total\", \"post_opposite_hand\",\n",
    "                \"walk\", 'walk_cumsum', 'strikeout_cumsum', 'home_run_cumsum', 'bases_cumsum']\n",
    "cols = embedding_cols + feature_cols"
   ]
  },
  {
   "cell_type": "markdown",
   "metadata": {},
   "source": [
    "## Logistic Regression"
   ]
  },
  {
   "cell_type": "code",
   "execution_count": 4,
   "metadata": {},
   "outputs": [],
   "source": [
    "from sklearn.linear_model import LogisticRegression"
   ]
  },
  {
   "cell_type": "code",
   "execution_count": 5,
   "metadata": {},
   "outputs": [],
   "source": [
    "X_train, X_test, y_train, y_test = train[feature_cols], test[feature_cols], train[\"pulled\"], test[\"pulled\"] "
   ]
  },
  {
   "cell_type": "code",
   "execution_count": 6,
   "metadata": {},
   "outputs": [
    {
     "name": "stderr",
     "output_type": "stream",
     "text": [
      "/Users/collinprather/anaconda3/envs/orioles/lib/python3.7/site-packages/sklearn/linear_model/_logistic.py:940: ConvergenceWarning: lbfgs failed to converge (status=1):\n",
      "STOP: TOTAL NO. of ITERATIONS REACHED LIMIT.\n",
      "\n",
      "Increase the number of iterations (max_iter) or scale the data as shown in:\n",
      "    https://scikit-learn.org/stable/modules/preprocessing.html\n",
      "Please also refer to the documentation for alternative solver options:\n",
      "    https://scikit-learn.org/stable/modules/linear_model.html#logistic-regression\n",
      "  extra_warning_msg=_LOGISTIC_SOLVER_CONVERGENCE_MSG)\n"
     ]
    }
   ],
   "source": [
    "log_reg = LogisticRegression()\n",
    "log_reg.fit(X_train, y_train);"
   ]
  },
  {
   "cell_type": "code",
   "execution_count": 7,
   "metadata": {},
   "outputs": [
    {
     "name": "stdout",
     "output_type": "stream",
     "text": [
      "              precision    recall  f1-score   support\n",
      "\n",
      "         0.0       0.96      0.99      0.98     36414\n",
      "         1.0       0.59      0.17      0.27      1604\n",
      "\n",
      "    accuracy                           0.96     38018\n",
      "   macro avg       0.78      0.58      0.62     38018\n",
      "weighted avg       0.95      0.96      0.95     38018\n",
      "\n",
      "mean plate appearance diff: 0.27618\n",
      "mean target diff: 0.02937\n"
     ]
    },
    {
     "data": {
      "image/png": "[encoded data removed]",
      "text/plain": [
       "<Figure size 432x288 with 2 Axes>"
      ]
     },
     "metadata": {
      "needs_background": "light"
     },
     "output_type": "display_data"
    },
    {
     "data": {
      "image/png": "[encoded data removed]",
      "text/plain": [
       "<Figure size 432x288 with 1 Axes>"
      ]
     },
     "metadata": {
      "needs_background": "light"
     },
     "output_type": "display_data"
    }
   ],
   "source": [
    "print_all_metrics(y_test, log_reg.predict_proba(X_test)[:, 1], thresh=0.5)"
   ]
  },
  {
   "cell_type": "code",
   "execution_count": 8,
   "metadata": {},
   "outputs": [
    {
     "name": "stdout",
     "output_type": "stream",
     "text": [
      "post_bat_score: 0.0799\n",
      "score_diff: -0.0353\n",
      "end_inning: -1.5445\n",
      "inning: -0.103\n",
      "postouts: 0.2652\n",
      "cum_sb_ratio: -4.1596\n",
      "times_thru_order: 1.5423\n",
      "post_total_runners: 0.4897\n",
      "tying_run_on: -0.2067\n",
      "pitch_total: 0.0567\n",
      "post_opposite_hand: 0.3086\n",
      "walk: -0.0969\n",
      "walk_cumsum: -0.1911\n",
      "strikeout_cumsum: 0.1086\n",
      "home_run_cumsum: 0.1204\n",
      "bases_cumsum: -0.0257\n"
     ]
    }
   ],
   "source": [
    "for feature, coef in zip(feature_cols, log_reg.coef_[0]):\n",
    "    print(f\"{feature}: {round(coef, 4)}\")"
   ]
  },
  {
   "cell_type": "markdown",
   "metadata": {},
   "source": [
    "## Gradient-Boosted Tree"
   ]
  },
  {
   "cell_type": "code",
   "execution_count": 9,
   "metadata": {},
   "outputs": [],
   "source": [
    "from sklearn.ensemble import GradientBoostingClassifier"
   ]
  },
  {
   "cell_type": "code",
   "execution_count": 10,
   "metadata": {},
   "outputs": [],
   "source": [
    "gbt = GradientBoostingClassifier(subsample=0.5)\n",
    "gbt.fit(X_train, y_train);"
   ]
  },
  {
   "cell_type": "code",
   "execution_count": 11,
   "metadata": {},
   "outputs": [
    {
     "name": "stdout",
     "output_type": "stream",
     "text": [
      "              precision    recall  f1-score   support\n",
      "\n",
      "         0.0       0.97      0.99      0.98     36414\n",
      "         1.0       0.62      0.33      0.43      1604\n",
      "\n",
      "    accuracy                           0.96     38018\n",
      "   macro avg       0.80      0.66      0.71     38018\n",
      "weighted avg       0.96      0.96      0.96     38018\n",
      "\n",
      "mean plate appearance diff: 0.21571\n",
      "mean target diff: 0.02782\n"
     ]
    },
    {
     "data": {
      "image/png": "[encoded data removed]",
      "text/plain": [
       "<Figure size 432x288 with 2 Axes>"
      ]
     },
     "metadata": {
      "needs_background": "light"
     },
     "output_type": "display_data"
    },
    {
     "data": {
      "image/png": "[encoded data removed]",
      "text/plain": [
       "<Figure size 432x288 with 1 Axes>"
      ]
     },
     "metadata": {
      "needs_background": "light"
     },
     "output_type": "display_data"
    }
   ],
   "source": [
    "print_all_metrics(y_test, gbt.predict_proba(X_test)[:, 1], thresh=0.5)"
   ]
  },
  {
   "cell_type": "markdown",
   "metadata": {},
   "source": [
    "## DRSA"
   ]
  },
  {
   "cell_type": "code",
   "execution_count": 12,
   "metadata": {},
   "outputs": [],
   "source": [
    "def get_starts(df, cols, y_col=\"last_batter\"):\n",
    "    \"\"\"\n",
    "    Given a dataframe with many pitcher outings stacked on top of one another,\n",
    "    this function extracts each individual outing\n",
    "    \"\"\"\n",
    "    start_stats = np.array(df[cols])\n",
    "    removal = np.array(df[y_col])\n",
    "    pulled_idx = np.nonzero(removal)[0]\n",
    "    stats = []\n",
    "    for i in range(pulled_idx.shape[0]):\n",
    "        if i == 0:\n",
    "            stat = start_stats[: pulled_idx[i] + 1]\n",
    "        else:\n",
    "            stat = start_stats[pulled_idx[i - 1] + 1: pulled_idx[i] + 1]\n",
    "\n",
    "        stats.append(stat)\n",
    "    return stats\n",
    "    \n",
    "def front_pad(starts):\n",
    "    \"\"\"\n",
    "    starts is a list of np arrays. Each has a shape of\n",
    "    (# batters faced, # features)\n",
    "    \"\"\"\n",
    "    n_features = starts[0].shape[1]\n",
    "    longest = np.max([start.shape[0] for start in starts])\n",
    "    padded_starts = []\n",
    "    for start in starts:\n",
    "        length = start.shape[0]\n",
    "        difference = longest - length\n",
    "        pad = np.zeros((difference, n_features)) # this also just puts a zero in for the target\n",
    "        padded_start = np.vstack([pad, start])\n",
    "        padded_starts.append(padded_start)\n",
    "    return padded_starts"
   ]
  },
  {
   "cell_type": "code",
   "execution_count": 15,
   "metadata": {},
   "outputs": [],
   "source": [
    "# quick dropping of a few unneeded columns\n",
    "train = train.drop(columns=['game_type', 'pitcher_team_year'])\n",
    "test = test.drop(columns=['game_type', 'pitcher_team_year'])"
   ]
  },
  {
   "cell_type": "code",
   "execution_count": 16,
   "metadata": {},
   "outputs": [],
   "source": [
    "# getting each individual start\n",
    "train_starts = get_starts(train, cols=cols, y_col=\"pulled\")\n",
    "test_starts = get_starts(test, cols=cols, y_col=\"pulled\")\n",
    "\n",
    "# adding targets back\n",
    "train_starts = add_targets(train_starts)\n",
    "test_starts = add_targets(test_starts)\n",
    "\n",
    "# front-padding for parallelized training\n",
    "padded_train_starts = front_pad(train_starts)\n",
    "padded_test_starts = front_pad(test_starts)"
   ]
  },
  {
   "cell_type": "code",
   "execution_count": 17,
   "metadata": {},
   "outputs": [],
   "source": [
    "class PTPDataset(Dataset):\n",
    "    def __init__(self, starts):\n",
    "        \"\"\"\n",
    "        starts is a list of np arrays. Each has a shape of\n",
    "        (# batters faced, # features)\n",
    "        \"\"\"\n",
    "        self.starts = starts\n",
    "    \n",
    "    def __len__(self):\n",
    "        return len(self.starts)\n",
    "    \n",
    "    def __getitem__(self, idx):\n",
    "        # ignoring first col, which is game_pk (unique identifier for each game)\n",
    "        X = torch.tensor(self.starts[idx][:, 1:-1].astype(float), dtype=torch.double)\n",
    "        y = torch.tensor(self.starts[idx][:, -1], dtype=torch.double).unsqueeze(-1)\n",
    "        return X, y"
   ]
  },
  {
   "cell_type": "code",
   "execution_count": 18,
   "metadata": {},
   "outputs": [],
   "source": [
    "# instantiating datasets and data loaders\n",
    "train_ds = PTPDataset(padded_train_starts)\n",
    "valid_ds = PTPDataset(padded_test_starts)\n",
    "train_dl = DataLoader(train_ds, batch_size=128, shuffle=True)\n",
    "valid_dl = DataLoader(valid_ds, batch_size=128)"
   ]
  },
  {
   "cell_type": "code",
   "execution_count": 19,
   "metadata": {},
   "outputs": [],
   "source": [
    "def save_model(m, p): torch.save(m.state_dict(), p)\n",
    "def load_model(m, p): m.load_state_dict(torch.load(p))"
   ]
  },
  {
   "cell_type": "code",
   "execution_count": 20,
   "metadata": {},
   "outputs": [],
   "source": [
    "# getting embeddings ready\n",
    "n_pitchers = 280\n",
    "pitcher_emb_size = 20\n",
    "pitcher_embeddings = nn.Embedding(n_pitchers, pitcher_emb_size)\n",
    "\n",
    "ptp_embeddings = [pitcher_embeddings]\n",
    "\n",
    "# initializing model\n",
    "drsa = DRSA(n_features=16,\n",
    "            hidden_dim=20,\n",
    "            n_layers=5,\n",
    "            embeddings=ptp_embeddings,\n",
    "            output_size=1,\n",
    "            LSTM_dropout=0.0,\n",
    "            Linear_dropout=0.0)"
   ]
  },
  {
   "cell_type": "code",
   "execution_count": 21,
   "metadata": {},
   "outputs": [
    {
     "name": "stdout",
     "output_type": "stream",
     "text": [
      "06-17-20_DRSA_2017_2018_2019_loss_0.084.pth\n",
      "06-17-20_DRSA_2017_2018_2019_loss_1.7337.pth\n"
     ]
    }
   ],
   "source": [
    "! ls ../models/"
   ]
  },
  {
   "cell_type": "code",
   "execution_count": 22,
   "metadata": {},
   "outputs": [
    {
     "data": {
      "text/plain": [
       "DRSA(\n",
       "  (lstm): LSTM(35, 20, num_layers=5, batch_first=True)\n",
       "  (fc): Linear(in_features=20, out_features=1, bias=True)\n",
       "  (linear_dropout): Dropout(p=0.0, inplace=False)\n",
       "  (sigmoid): Sigmoid()\n",
       "  (params_to_train): ModuleList(\n",
       "    (0): Embedding(280, 20)\n",
       "  )\n",
       ")"
      ]
     },
     "execution_count": 22,
     "metadata": {},
     "output_type": "execute_result"
    }
   ],
   "source": [
    "## my\n",
    "load_model(drsa, f\"../models/06-17-20_DRSA_2017_2018_2019_loss_0.084.pth\")\n",
    "drsa.eval()"
   ]
  },
  {
   "cell_type": "code",
   "execution_count": 23,
   "metadata": {},
   "outputs": [],
   "source": [
    "## my\n",
    "X, y = next(iter(valid_dl))"
   ]
  },
  {
   "cell_type": "code",
   "execution_count": 71,
   "metadata": {},
   "outputs": [
    {
     "data": {
      "text/plain": [
       "torch.Size([1, 36, 16])"
      ]
     },
     "execution_count": 71,
     "metadata": {},
     "output_type": "execute_result"
    }
   ],
   "source": [
    "x = X[:1, :, :]\n",
    "x.shape"
   ]
  },
  {
   "cell_type": "code",
   "execution_count": 72,
   "metadata": {},
   "outputs": [
    {
     "data": {
      "text/plain": [
       "torch.Size([1, 1, 16])"
      ]
     },
     "execution_count": 72,
     "metadata": {},
     "output_type": "execute_result"
    }
   ],
   "source": [
    "new_ab = torch.tensor([[[1.0000,  0.0000,  0.0000,  8.0000,  0.0000,  0.7168,  2.7777,\n",
    "           0.0000,  0.0000, 91.0000,  0.0000,  0.0000,  2.0000,  4.0000,\n",
    "           1.0000,  7.0000]]])\n",
    "new_ab.shape"
   ]
  },
  {
   "cell_type": "code",
   "execution_count": 73,
   "metadata": {},
   "outputs": [
    {
     "data": {
      "text/plain": [
       "torch.Size([1, 37, 16])"
      ]
     },
     "execution_count": 73,
     "metadata": {},
     "output_type": "execute_result"
    }
   ],
   "source": [
    "x_added = torch.cat([x.float(), new_ab], dim=1)\n",
    "x_added.shape"
   ]
  },
  {
   "cell_type": "code",
   "execution_count": 76,
   "metadata": {},
   "outputs": [],
   "source": [
    "## my\n",
    "drsa.eval()\n",
    "h = drsa(x_added).view(-1, 1)\n",
    "h_c = 1 - h\n",
    "\n",
    "p = []\n",
    "for i in range(h.shape[0]):\n",
    "    p.append(h_c[:i, :].log().sum().exp() * h[i, :])"
   ]
  },
  {
   "cell_type": "code",
   "execution_count": 78,
   "metadata": {},
   "outputs": [
    {
     "data": {
      "text/plain": [
       "([tensor([0.0023], grad_fn=<MulBackward0>),\n",
       "  tensor([0.0002], grad_fn=<MulBackward0>),\n",
       "  tensor([0.0001], grad_fn=<MulBackward0>),\n",
       "  tensor([0.0001], grad_fn=<MulBackward0>),\n",
       "  tensor([0.0001], grad_fn=<MulBackward0>),\n",
       "  tensor([0.0001], grad_fn=<MulBackward0>),\n",
       "  tensor([0.0001], grad_fn=<MulBackward0>),\n",
       "  tensor([0.0001], grad_fn=<MulBackward0>),\n",
       "  tensor([0.0001], grad_fn=<MulBackward0>),\n",
       "  tensor([0.0001], grad_fn=<MulBackward0>),\n",
       "  tensor([0.0001], grad_fn=<MulBackward0>),\n",
       "  tensor([0.0001], grad_fn=<MulBackward0>),\n",
       "  tensor([0.0001], grad_fn=<MulBackward0>),\n",
       "  tensor([0.0001], grad_fn=<MulBackward0>),\n",
       "  tensor([0.0001], grad_fn=<MulBackward0>),\n",
       "  tensor([0.0001], grad_fn=<MulBackward0>),\n",
       "  tensor([0.0001], grad_fn=<MulBackward0>),\n",
       "  tensor([0.0001], grad_fn=<MulBackward0>),\n",
       "  tensor([0.0001], grad_fn=<MulBackward0>),\n",
       "  tensor([0.0001], grad_fn=<MulBackward0>),\n",
       "  tensor([0.0001], grad_fn=<MulBackward0>),\n",
       "  tensor([0.0001], grad_fn=<MulBackward0>),\n",
       "  tensor([0.0002], grad_fn=<MulBackward0>),\n",
       "  tensor([0.0002], grad_fn=<MulBackward0>),\n",
       "  tensor([0.0003], grad_fn=<MulBackward0>),\n",
       "  tensor([0.0003], grad_fn=<MulBackward0>),\n",
       "  tensor([0.0003], grad_fn=<MulBackward0>),\n",
       "  tensor([0.0003], grad_fn=<MulBackward0>),\n",
       "  tensor([0.0003], grad_fn=<MulBackward0>),\n",
       "  tensor([0.0003], grad_fn=<MulBackward0>),\n",
       "  tensor([0.0003], grad_fn=<MulBackward0>),\n",
       "  tensor([0.0003], grad_fn=<MulBackward0>),\n",
       "  tensor([0.0004], grad_fn=<MulBackward0>),\n",
       "  tensor([0.0008], grad_fn=<MulBackward0>),\n",
       "  tensor([0.0067], grad_fn=<MulBackward0>),\n",
       "  tensor([0.9485], grad_fn=<MulBackward0>),\n",
       "  tensor([0.0235], grad_fn=<MulBackward0>)],\n",
       " tensor([[2.3346e-03],\n",
       "         [2.0056e-04],\n",
       "         [1.3031e-04],\n",
       "         [1.1781e-04],\n",
       "         [1.1412e-04],\n",
       "         [1.1271e-04],\n",
       "         [1.1210e-04],\n",
       "         [1.1183e-04],\n",
       "         [1.1173e-04],\n",
       "         [1.1172e-04],\n",
       "         [1.1176e-04],\n",
       "         [1.1182e-04],\n",
       "         [1.1192e-04],\n",
       "         [1.1217e-04],\n",
       "         [1.1327e-04],\n",
       "         [1.1595e-04],\n",
       "         [1.2444e-04],\n",
       "         [1.3898e-04],\n",
       "         [1.4769e-04],\n",
       "         [1.4379e-04],\n",
       "         [1.3873e-04],\n",
       "         [1.4597e-04],\n",
       "         [1.7884e-04],\n",
       "         [2.2617e-04],\n",
       "         [2.5333e-04],\n",
       "         [2.6270e-04],\n",
       "         [2.6670e-04],\n",
       "         [2.7028e-04],\n",
       "         [2.7523e-04],\n",
       "         [2.8319e-04],\n",
       "         [2.9727e-04],\n",
       "         [3.2547e-04],\n",
       "         [4.0353e-04],\n",
       "         [8.1077e-04],\n",
       "         [6.7164e-03],\n",
       "         [9.6336e-01],\n",
       "         [6.5240e-01]], grad_fn=<ViewBackward>))"
      ]
     },
     "execution_count": 78,
     "metadata": {},
     "output_type": "execute_result"
    }
   ],
   "source": [
    "p, h"
   ]
  },
  {
   "cell_type": "code",
   "execution_count": 36,
   "metadata": {},
   "outputs": [],
   "source": [
    "# loading up saved model\n",
    "load_model(drsa, f\"../models/06-17-20_DRSA_2017_2018_2019_loss_0.084.pth\")\n",
    "drsa.eval()\n",
    "\n",
    "# organizing val preds in df\n",
    "valid_features = np.concatenate(padded_test_starts, axis=0)\n",
    "preds = []\n",
    "for X_valid, y_valid in valid_dl:\n",
    "    pred = drsa(X_valid).squeeze(0).detach().numpy().reshape(-1, 1)\n",
    "    preds.append(pred)\n",
    "preds = np.concatenate(preds, axis=0)\n",
    "valid_df = pd.DataFrame(np.hstack([valid_features, preds]), columns=cols+[\"last_batter\", \"pred\"])\n",
    "    \n",
    "# organizing train preds in df\n",
    "train_features = np.concatenate(padded_train_starts, axis=0)\n",
    "preds = []\n",
    "for X_train, y_train in train_dl:\n",
    "    pred = drsa(X_train).squeeze(0).detach().numpy().reshape(-1, 1)\n",
    "    preds.append(pred)\n",
    "preds = np.concatenate(preds, axis=0)\n",
    "train_df = pd.DataFrame(np.hstack([train_features, preds]), columns=cols+[\"last_batter\", \"pred\"])"
   ]
  },
  {
   "cell_type": "code",
   "execution_count": 43,
   "metadata": {},
   "outputs": [
    {
     "data": {
      "image/png": "[encoded data removed]",
      "text/plain": [
       "<Figure size 864x288 with 2 Axes>"
      ]
     },
     "metadata": {
      "needs_background": "light"
     },
     "output_type": "display_data"
    }
   ],
   "source": [
    "fig, ax = plt.subplots(1, 2, figsize=(12, 4))\n",
    "preds_histogram(train_df[\"last_batter\"], train_df[\"pred\"], ax=ax[0], ylim = (0, 6000), title=\"2017-2018 train predictions\")\n",
    "preds_histogram(valid_df[\"last_batter\"], valid_df[\"pred\"], ax=ax[1], ylim=(0, 2500), title=\"2019 test predictions\")"
   ]
  },
  {
   "cell_type": "code",
   "execution_count": 37,
   "metadata": {},
   "outputs": [
    {
     "name": "stdout",
     "output_type": "stream",
     "text": [
      "              precision    recall  f1-score   support\n",
      "\n",
      "         0.0       1.00      1.00      1.00     56140\n",
      "         1.0       1.00      1.00      1.00      1604\n",
      "\n",
      "    accuracy                           1.00     57744\n",
      "   macro avg       1.00      1.00      1.00     57744\n",
      "weighted avg       1.00      1.00      1.00     57744\n",
      "\n",
      "mean plate appearance diff: 0.00499\n",
      "mean target diff: 0.00095\n"
     ]
    },
    {
     "data": {
      "image/png": "[encoded data removed]",
      "text/plain": [
       "<Figure size 432x288 with 2 Axes>"
      ]
     },
     "metadata": {
      "needs_background": "light"
     },
     "output_type": "display_data"
    },
    {
     "data": {
      "image/png": "[encoded data removed]",
      "text/plain": [
       "<Figure size 432x288 with 1 Axes>"
      ]
     },
     "metadata": {
      "needs_background": "light"
     },
     "output_type": "display_data"
    }
   ],
   "source": [
    "print_all_metrics(valid_df[\"last_batter\"], valid_df[\"pred\"], thresh=0.5)"
   ]
  },
  {
   "cell_type": "code",
   "execution_count": null,
   "metadata": {},
   "outputs": [],
   "source": []
  },
  {
   "cell_type": "code",
   "execution_count": null,
   "metadata": {},
   "outputs": [],
   "source": []
  },
  {
   "cell_type": "code",
   "execution_count": null,
   "metadata": {},
   "outputs": [],
   "source": []
  }
 ],
 "metadata": {
  "kernelspec": {
   "display_name": "Python 3",
   "language": "python",
   "name": "python3"
  },
  "language_info": {
   "codemirror_mode": {
    "name": "ipython",
    "version": 3
   },
   "file_extension": ".py",
   "mimetype": "text/x-python",
   "name": "python",
   "nbconvert_exporter": "python",
   "pygments_lexer": "ipython3",
   "version": "3.7.7"
  },
  "toc": {
   "base_numbering": 1,
   "nav_menu": {},
   "number_sections": true,
   "sideBar": true,
   "skip_h1_title": false,
   "title_cell": "Table of Contents",
   "title_sidebar": "Contents",
   "toc_cell": false,
   "toc_position": {},
   "toc_section_display": true,
   "toc_window_display": false
  }
 },
 "nbformat": 4,
 "nbformat_minor": 4
}
