{
 "cells": [
  {
   "cell_type": "code",
   "execution_count": null,
   "metadata": {},
   "outputs": [],
   "source": [
    "from sklearn.manifold import TSNE\n",
    "from sklearn.decomposition import PCA"
   ]
  },
  {
   "cell_type": "code",
   "execution_count": null,
   "metadata": {},
   "outputs": [],
   "source": [
    "game_embeddings = [p for p in drsa.named_parameters() if p[0]=='params_to_train.0.weight'][0][1].detach()\n",
    "pitcher_embeddings = [p for p in drsa.named_parameters() if p[0]=='params_to_train.1.weight'][0][1].detach()\n",
    "team_embeddings = [p for p in drsa.named_parameters() if p[0]=='params_to_train.2.weight'][0][1].detach()"
   ]
  },
  {
   "cell_type": "code",
   "execution_count": null,
   "metadata": {},
   "outputs": [],
   "source": [
    "game_embs_tsne = TSNE(n_components=2, learning_rate=10, init=\"pca\").fit_transform(game_embeddings)\n",
    "pitcher_embs_tsne = TSNE(n_components=2, learning_rate=10, init=\"pca\").fit_transform(pitcher_embeddings)\n",
    "team_embs_tsne = TSNE(n_components=2, learning_rate=10, init=\"pca\").fit_transform(team_embeddings)"
   ]
  },
  {
   "cell_type": "code",
   "execution_count": null,
   "metadata": {},
   "outputs": [],
   "source": [
    "# fig, ax = plt.subplots(1, 3, figsize=(16,4))\n",
    "\n",
    "# ax[0].scatter(game_embs_tsne[:, 0], game_embs_tsne[:, 1])\n",
    "# ax[0].set_title(\"Game Type Embeddings\")\n",
    "# for game_type, idx in game_type2idx.items():\n",
    "#     ax[0].text(game_embs_tsne[idx, 0] - 2, game_embs_tsne[idx, 1] + 4, game_type)\n",
    "\n",
    "# ax[1].scatter(pitcher_embs_tsne[:, 0], pitcher_embs_tsne[:, 1])\n",
    "# ax[1].set_title(\"Player Embeddings\")\n",
    "\n",
    "# ax[2].scatter(team_embs_tsne[:, 0], team_embs_tsne[:, 1])\n",
    "# ax[2].set_title(\"Team Embeddings\")\n",
    "# for team, idx in team_year2idx.items():\n",
    "#     ax[2].text(team_embs_tsne[idx, 0] - 0.005, team_embs_tsne[idx, 1] + 0.005, team[:-5])\n",
    "# fig.suptitle(\"TSNE\", fontsize=16)"
   ]
  },
  {
   "cell_type": "code",
   "execution_count": null,
   "metadata": {},
   "outputs": [],
   "source": [
    "# game_embs_pca = PCA(n_components=2).fit_transform(game_embeddings)\n",
    "# pitcher_embs_pca = PCA(n_components=2).fit_transform(pitcher_embeddings)\n",
    "# team_embs_pca = PCA(n_components=2).fit_transform(team_embeddings)"
   ]
  },
  {
   "cell_type": "code",
   "execution_count": null,
   "metadata": {},
   "outputs": [],
   "source": [
    "# fig, ax = plt.subplots(1, 3, figsize=(16,4))\n",
    "\n",
    "# ax[0].scatter(game_embs_pca[:, 0], game_embs_pca[:, 1])\n",
    "# ax[0].set_title(\"Game Type Embeddings\")\n",
    "# for game_type, idx in game_type2idx.items():\n",
    "#     ax[0].text(game_embs_pca[idx, 0] - 2, game_embs_pca[idx, 1] + 4, game_type)\n",
    "\n",
    "# ax[1].scatter(pitcher_embs_pca[:, 0], pitcher_embs_pca[:, 1])\n",
    "# ax[1].set_title(\"Player Embeddings\")\n",
    "\n",
    "# ax[2].scatter(team_embs_pca[:, 0], team_embs_pca[:, 1])\n",
    "# ax[2].set_title(\"Team Embeddings\")\n",
    "# for team, idx in team_year2idx.items():\n",
    "#     ax[2].text(team_embs_pca[idx, 0] - 0.005, team_embs_pca[idx, 1] + 0.005, team[:-5])\n",
    "# fig.suptitle(\"PCA\", fontsize=16)"
   ]
  }
 ],
 "metadata": {
  "kernelspec": {
   "display_name": "Python 3",
   "language": "python",
   "name": "python3"
  },
  "language_info": {
   "codemirror_mode": {
    "name": "ipython",
    "version": 3
   },
   "file_extension": ".py",
   "mimetype": "text/x-python",
   "name": "python",
   "nbconvert_exporter": "python",
   "pygments_lexer": "ipython3",
   "version": "3.7.7"
  },
  "toc": {
   "base_numbering": 1,
   "nav_menu": {},
   "number_sections": true,
   "sideBar": true,
   "skip_h1_title": false,
   "title_cell": "Table of Contents",
   "title_sidebar": "Contents",
   "toc_cell": false,
   "toc_position": {},
   "toc_section_display": true,
   "toc_window_display": false
  }
 },
 "nbformat": 4,
 "nbformat_minor": 4
}
