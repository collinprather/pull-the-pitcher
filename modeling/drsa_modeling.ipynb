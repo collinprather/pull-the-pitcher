{
 "cells": [
  {
   "cell_type": "code",
   "execution_count": 1,
   "metadata": {},
   "outputs": [],
   "source": [
    "# notice - not exporting this to ptp lib"
   ]
  },
  {
   "cell_type": "markdown",
   "metadata": {},
   "source": [
    "# Modeling\n",
    "\n",
    "> This is the Deep, Recurrent Survival Analysis part."
   ]
  },
  {
   "cell_type": "code",
   "execution_count": 2,
   "metadata": {},
   "outputs": [
    {
     "name": "stderr",
     "output_type": "stream",
     "text": [
      "/usr/local/lib/python3.7/dist-packages/statsmodels/tools/_testing.py:19: FutureWarning: pandas.util.testing is deprecated. Use the functions in the public API at pandas.testing instead.\n",
      "  import pandas.util.testing as tm\n"
     ]
    }
   ],
   "source": [
    "import pickle\n",
    "import numpy as np\n",
    "import pandas as pd\n",
    "import matplotlib.pyplot as plt\n",
    "\n",
    "import torch\n",
    "import torch.nn as nn\n",
    "from torch.utils.data import Dataset, DataLoader\n",
    "import torch.nn.functional as F\n",
    "\n",
    "from drsa.functions import event_time_loss, event_rate_loss\n",
    "from drsa.model import DRSA\n",
    "\n",
    "from pull_the_pitcher.data import processing, pipeline\n",
    "from pull_the_pitcher.data.pipeline import add_targets\n",
    "from pull_the_pitcher.metrics import preds_histogram, print_all_metrics\n",
    "from pull_the_pitcher.utils import get_starts, front_pad, PTPDataset, save_model, load_model"
   ]
  },
  {
   "cell_type": "markdown",
   "metadata": {},
   "source": [
    "## Preparing processed csv data for Dataset class"
   ]
  },
  {
   "cell_type": "code",
   "execution_count": 3,
   "metadata": {},
   "outputs": [],
   "source": [
    "train = pd.read_csv(\"../data/processed/train_2017_2018_2016.csv\")\n",
    "val = pd.read_csv(\"../data/processed/val_2017_2018_2016.csv\")\n",
    "test = pd.read_csv(\"../data/processed/test_2019.csv\")\n",
    "data = {\"train\": train,\n",
    "        \"val\": val,\n",
    "        \"test\": test}\n",
    "\n",
    "with open(\"../data/processed/mappers_2017_2018_2016_2019.pkl\", \"rb\") as f:\n",
    "    mappers = pickle.load(f)\n",
    "    \n",
    "with open(\"../data/processed/scaler_2017_2018_2016_2019.pkl\", \"rb\") as f:\n",
    "    scaler = pickle.load(f)"
   ]
  },
  {
   "cell_type": "code",
   "execution_count": 4,
   "metadata": {},
   "outputs": [],
   "source": [
    "# scaling test data (as tuned on training data)\n",
    "data[\"test\"][pipeline.feature_cols] = scaler.transform(data[\"test\"][pipeline.feature_cols])\n",
    "\n",
    "# replacing pitcher id with index of associated embedding\n",
    "data[\"test\"][\"pitcher\"] = [mappers[\"pitcher\"].get(pitcher, 0) for pitcher in data[\"test\"][\"pitcher\"]]"
   ]
  },
  {
   "cell_type": "code",
   "execution_count": 5,
   "metadata": {},
   "outputs": [],
   "source": [
    "# quick dropping of a few unneeded columns\n",
    "cols_to_drop = ['game_type', 'pitcher_team_year']\n",
    "for dataset in data.values():\n",
    "    dataset = dataset.drop(columns=cols_to_drop)\n",
    "\n",
    "cols = pipeline.cols\n",
    "for c in cols_to_drop:\n",
    "    cols.remove(c)"
   ]
  },
  {
   "cell_type": "code",
   "execution_count": 7,
   "metadata": {},
   "outputs": [],
   "source": [
    "padded_starts = {}\n",
    "for set_, dataset in data.items():\n",
    "    starts = get_starts(dataset, cols=cols, y_col=\"pulled\")\n",
    "    starts = add_targets(starts)\n",
    "    padded_starts[set_] = front_pad(starts)"
   ]
  },
  {
   "cell_type": "markdown",
   "metadata": {},
   "source": [
    "## Feeding processed data into torch `Dataset` class"
   ]
  },
  {
   "cell_type": "code",
   "execution_count": 8,
   "metadata": {},
   "outputs": [],
   "source": [
    "# instantiating datasets\n",
    "datasets = {}\n",
    "for set_, starts in padded_starts.items():\n",
    "    datasets[set_] = PTPDataset(starts)\n",
    "\n",
    "# instantiating data loaders\n",
    "dataloaders = {}\n",
    "for set_, dataset in datasets.items():\n",
    "    dataloaders[set_] = DataLoader(dataset, batch_size=256)"
   ]
  },
  {
   "cell_type": "markdown",
   "metadata": {},
   "source": [
    "## Modeling"
   ]
  },
  {
   "cell_type": "code",
   "execution_count": 9,
   "metadata": {},
   "outputs": [],
   "source": [
    "def val_metrics(model, valid_dl, alpha):\n",
    "    model.eval()\n",
    "    total = 0\n",
    "    sum_evt_loss = 0\n",
    "    sum_evr_loss = 0\n",
    "    sum_loss = 0\n",
    "    correct = 0\n",
    "    for X, y in valid_dl:\n",
    "        # housekeeping\n",
    "        batch = y.shape[0]\n",
    "        \n",
    "        # calculating losses\n",
    "        pred = model(X)\n",
    "        # loss = F.binary_cross_entropy_with_logits(pred, y)\n",
    "        evt_loss = event_time_loss(pred)\n",
    "        evr_loss = event_rate_loss(pred)\n",
    "        loss = (alpha*evt_loss) + ((1-alpha)*evr_loss)\n",
    "        \n",
    "        # updating running sums\n",
    "        sum_evt_loss += batch*evt_loss.item()\n",
    "        sum_evr_loss += batch*evr_loss.item()\n",
    "        sum_loss += batch*(loss.item())\n",
    "        total += y.shape[0]\n",
    "        \n",
    "    val_evt_loss = sum_evt_loss/total\n",
    "    val_evr_loss = sum_evr_loss/total\n",
    "    val_loss = sum_loss/total\n",
    "    return val_evt_loss, val_evr_loss, val_loss "
   ]
  },
  {
   "cell_type": "code",
   "execution_count": 10,
   "metadata": {},
   "outputs": [],
   "source": [
    "def train_epocs(model, optimizer, train_dl, valid_dl, alpha=0.1, epochs=10, print_every=5):\n",
    "    prev_val_loss = 1.5\n",
    "    idx = 0\n",
    "    evt_losses, evr_losses, losses = [], [], []\n",
    "    for i in range(epochs):\n",
    "        sum_loss = 0\n",
    "        total = 0\n",
    "        model.train()\n",
    "        for X, y in train_dl:\n",
    "            # housekeeping\n",
    "            batch_size = y.shape[0]\n",
    "            optimizer.zero_grad()\n",
    "            \n",
    "            # updating weights\n",
    "            pred = model(X)\n",
    "            evt_loss = event_time_loss(pred)\n",
    "            evr_loss = event_rate_loss(pred)\n",
    "            loss = (alpha*evt_loss) + ((1-alpha)*evr_loss)\n",
    "            loss.backward()\n",
    "            optimizer.step()\n",
    "            \n",
    "            # calculating loss\n",
    "            sum_loss += batch_size * loss.item()\n",
    "            total += y.shape[1]\n",
    "            idx += 1\n",
    "                \n",
    "        # updating loss\n",
    "        train_loss = sum_loss/total\n",
    "        val_evt_loss, val_evr_loss, val_loss = val_metrics(model, valid_dl, alpha)\n",
    "        losses.append(val_loss); evt_losses.append(val_evt_loss); evr_losses.append(val_evr_loss)\n",
    "        \n",
    "        if i % print_every == 0:\n",
    "            print(f\"epoch {i} train evt_loss: {round(evt_loss.item(), 4)} train evr_loss: {round(evr_loss.item(), 4)}, train loss: {round(loss.item(), 4)}\")\n",
    "            print(f\"epoch {i} valid evt_loss: {round(val_evt_loss, 4)} valid evr_loss: {round(val_evr_loss, 4)}, valid train loss: {round(val_loss, 4)}\", end=\"\\n\\n\")\n",
    "    plt.plot(losses, label=\"total loss\")\n",
    "    plt.plot(evt_losses, label=\"evt loss\")\n",
    "    plt.plot(evr_losses, label=\"evr loss\")\n",
    "    plt.legend()\n",
    "    plt.show()"
   ]
  },
  {
   "cell_type": "code",
   "execution_count": 11,
   "metadata": {},
   "outputs": [],
   "source": [
    "# getting embeddings ready\n",
    "n_pitchers = 270\n",
    "pitcher_emb_size = 20\n",
    "pitcher_embeddings = nn.Embedding(n_pitchers, pitcher_emb_size)\n",
    "ptp_embeddings = [pitcher_embeddings]\n",
    "\n",
    "# initializing model\n",
    "drsa = DRSA(n_features=17,\n",
    "            hidden_dim=20,\n",
    "            n_layers=5,\n",
    "            embeddings=ptp_embeddings,\n",
    "            output_size=1,\n",
    "            LSTM_dropout=0.05,\n",
    "            Linear_dropout=0.1)\n",
    "\n",
    "# initializing optimizer\n",
    "optimizer = torch.optim.Adam(drsa.parameters(), lr=1e-3, weight_decay=1e-5)"
   ]
  },
  {
   "cell_type": "code",
   "execution_count": 12,
   "metadata": {},
   "outputs": [
    {
     "name": "stdout",
     "output_type": "stream",
     "text": [
      "Number of total parameters: 23501\n"
     ]
    }
   ],
   "source": [
    "# checking num params\n",
    "total_params = sum([p[1].view(-1, 1).shape[0] for p in drsa.named_parameters()])\n",
    "print(f\"Number of total parameters: {total_params}\")"
   ]
  },
  {
   "cell_type": "code",
   "execution_count": 13,
   "metadata": {
    "scrolled": true
   },
   "outputs": [
    {
     "name": "stdout",
     "output_type": "stream",
     "text": [
      "epoch 0 train evt_loss: 21.0196 train evr_loss: -0.0, train loss: 18.9177\n",
      "epoch 0 valid evt_loss: 19.5305 valid evr_loss: 0.0, valid train loss: 17.5775\n",
      "\n",
      "epoch 5 train evt_loss: 7.0507 train evr_loss: 0.0409, train loss: 6.3497\n",
      "epoch 5 valid evt_loss: 5.0649 valid evr_loss: 0.1461, valid train loss: 4.573\n",
      "\n",
      "epoch 10 train evt_loss: 6.5323 train evr_loss: 0.0561, train loss: 5.8847\n",
      "epoch 10 valid evt_loss: 4.6731 valid evr_loss: 0.2426, valid train loss: 4.2301\n",
      "\n",
      "epoch 15 train evt_loss: 3.9191 train evr_loss: 0.0695, train loss: 3.5341\n",
      "epoch 15 valid evt_loss: 3.2732 valid evr_loss: 0.7835, valid train loss: 3.0242\n",
      "\n"
     ]
    },
    {
     "data": {
      "image/png": "[encoded data removed]",
      "text/plain": [
       "<Figure size 432x288 with 1 Axes>"
      ]
     },
     "metadata": {
      "needs_background": "light"
     },
     "output_type": "display_data"
    }
   ],
   "source": [
    "# training model\n",
    "train_epocs(drsa, optimizer, dataloaders[\"train\"], dataloaders[\"val\"], alpha=0.9, epochs=16, print_every=5)"
   ]
  },
  {
   "cell_type": "markdown",
   "metadata": {},
   "source": [
    "**Training notes**:\n",
    "* Seems to be very touchy with dropout. Even applying a little bit on the linear layer makes it very difficult to learn.\n",
    "    - \n",
    "* batch size of 128 seems to be best\n",
    "* adding more layers inside of the lstm cell seems to help\n",
    "    - big jump when I went from 2-5 layers"
   ]
  },
  {
   "cell_type": "code",
   "execution_count": 18,
   "metadata": {},
   "outputs": [
    {
     "name": "stdout",
     "output_type": "stream",
     "text": [
      "06-17-20_DRSA_2017_2018_2019_loss_0.084.pth\r\n",
      "06-17-20_DRSA_2017_2018_2019_loss_1.7337.pth\r\n",
      "07-07-20_DRSA_2017_2018_2019_loss_0.3017.pth\r\n",
      "07-10-20_DRSA_2016_2017_2018_2019_loss_2.6303.pth\r\n",
      "07-15-20_DRSA_2016_2017_2018_2019_loss_2.9833.pth\r\n",
      "07-15-20_LSTM_2016_2017_2018_2019_loss_0.3965.pth\r\n",
      "07-22-20_DRSA_2016_2017_2018_2019_loss_2.6064.pth\r\n",
      "07-22-20_DRSA_2016_2017_2018_2019_loss_2.6398.pth\r\n",
      "07-22-20_DRSA_2016_2017_2018_2019_loss_3.749.pth\r\n",
      "07-22-20_DRSA_2016_2017_2018_2019_loss_4.0985.pth\r\n",
      "07-22-20_embeddings_2016_2017_2018_2019_loss_2.6064.pth\r\n",
      "07-23-20_DRSA_2016_2017_2018_2019_loss_3.9734.pth\r\n"
     ]
    }
   ],
   "source": [
    "! ls ../models"
   ]
  },
  {
   "cell_type": "code",
   "execution_count": 19,
   "metadata": {},
   "outputs": [],
   "source": [
    "# loading up saved model\n",
    "load_model(drsa, f\"../models/07-22-20_DRSA_2016_2017_2018_2019_loss_4.0985.pth\")\n",
    "drsa.eval()\n",
    "\n",
    "# organizing preds in df\n",
    "dfs = {}\n",
    "for set_, starts in padded_starts.items():\n",
    "    features = np.concatenate(starts, axis=0)\n",
    "    preds = []\n",
    "    for X, y in dataloaders[set_]:\n",
    "        pred = drsa(X).squeeze(0).detach().numpy().reshape(-1, 1)\n",
    "        preds.append(pred)\n",
    "    preds = np.concatenate(preds, axis=0)\n",
    "    dfs[set_] = pd.DataFrame(np.hstack([features, preds]), columns=cols+[\"last_batter\", \"pred\"])\n",
    "\n",
    "# getting rid of predictions for embeddings which do not occur in training set\n",
    "dfs[\"test\"] = dfs[\"test\"].loc[(dfs[\"test\"][\"pitcher\"]!=0)]\n"
   ]
  },
  {
   "cell_type": "code",
   "execution_count": 20,
   "metadata": {
    "scrolled": true
   },
   "outputs": [
    {
     "data": {
      "image/png": "[encoded data removed]",
      "text/plain": [
       "<Figure size 864x288 with 2 Axes>"
      ]
     },
     "metadata": {
      "needs_background": "light"
     },
     "output_type": "display_data"
    }
   ],
   "source": [
    "fig, ax = plt.subplots(1, 2, figsize=(12, 4))\n",
    "preds_histogram(dfs[\"train\"][\"last_batter\"], dfs[\"train\"][\"pred\"], ax=ax[0], ylim = (0, 6000), title=\"2016-2018 train predictions\")\n",
    "preds_histogram(dfs[\"test\"][\"last_batter\"], dfs[\"test\"][\"pred\"], ax=ax[1], ylim=(0, 2500), title=\"2019 test predictions\")"
   ]
  },
  {
   "cell_type": "code",
   "execution_count": 21,
   "metadata": {},
   "outputs": [],
   "source": [
    "# saving model\n",
    "# save_model(drsa, f\"../models/07-22-20_DRSA_2016_2017_2018_2019_loss_4.0985.pth\")"
   ]
  },
  {
   "cell_type": "markdown",
   "metadata": {},
   "source": [
    "## model evaluation"
   ]
  },
  {
   "cell_type": "code",
   "execution_count": 23,
   "metadata": {},
   "outputs": [
    {
     "name": "stdout",
     "output_type": "stream",
     "text": [
      "              precision    recall  f1-score   support\n",
      "\n",
      "         0.0       0.99      0.99      0.99     36447\n",
      "         1.0       0.85      0.80      0.82      1616\n",
      "\n",
      "    accuracy                           0.99     38063\n",
      "   macro avg       0.92      0.90      0.91     38063\n",
      "weighted avg       0.98      0.99      0.99     38063\n",
      "\n",
      "mean plate appearance diff: 0.0\n",
      "mean target diff: 0.00955\n"
     ]
    },
    {
     "data": {
      "image/png": "[encoded data removed]",
      "text/plain": [
       "<Figure size 432x288 with 2 Axes>"
      ]
     },
     "metadata": {
      "needs_background": "light"
     },
     "output_type": "display_data"
    },
    {
     "data": {
      "image/png": "[encoded data removed]",
      "text/plain": [
       "<Figure size 432x288 with 1 Axes>"
      ]
     },
     "metadata": {
      "needs_background": "light"
     },
     "output_type": "display_data"
    }
   ],
   "source": [
    "print_all_metrics(dfs[\"test\"][\"last_batter\"], dfs[\"test\"][\"pred\"], thresh=0.3)"
   ]
  }
 ],
 "metadata": {
  "kernelspec": {
   "display_name": "Python 3",
   "language": "python",
   "name": "python3"
  },
  "language_info": {
   "codemirror_mode": {
    "name": "ipython",
    "version": 3
   },
   "file_extension": ".py",
   "mimetype": "text/x-python",
   "name": "python",
   "nbconvert_exporter": "python",
   "pygments_lexer": "ipython3",
   "version": "3.7.5"
  },
  "toc": {
   "base_numbering": 1,
   "nav_menu": {},
   "number_sections": true,
   "sideBar": true,
   "skip_h1_title": false,
   "title_cell": "Table of Contents",
   "title_sidebar": "Contents",
   "toc_cell": false,
   "toc_position": {},
   "toc_section_display": true,
   "toc_window_display": false
  }
 },
 "nbformat": 4,
 "nbformat_minor": 4
}
