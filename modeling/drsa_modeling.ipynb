{
 "cells": [
  {
   "cell_type": "code",
   "execution_count": 1,
   "metadata": {},
   "outputs": [],
   "source": [
    "# notice - not exporting this to ptp lib"
   ]
  },
  {
   "cell_type": "markdown",
   "metadata": {},
   "source": [
    "# Modeling\n",
    "\n",
    "> This is the Deep, Recurrent Survival Analysis part."
   ]
  },
  {
   "cell_type": "code",
   "execution_count": 2,
   "metadata": {},
   "outputs": [
    {
     "name": "stderr",
     "output_type": "stream",
     "text": [
      "/Users/collinprather/anaconda3/envs/orioles/lib/python3.7/site-packages/statsmodels/tools/_testing.py:19: FutureWarning: pandas.util.testing is deprecated. Use the functions in the public API at pandas.testing instead.\n",
      "  import pandas.util.testing as tm\n"
     ]
    }
   ],
   "source": [
    "import pickle\n",
    "import numpy as np\n",
    "import pandas as pd\n",
    "import matplotlib.pyplot as plt\n",
    "\n",
    "import torch\n",
    "import torch.nn as nn\n",
    "from torch.utils.data import Dataset, DataLoader\n",
    "import torch.nn.functional as F\n",
    "\n",
    "from drsa.functions import event_time_loss, event_rate_loss\n",
    "from drsa.model import DRSA\n",
    "\n",
    "from pull_the_pitcher.data.pipeline import add_targets\n",
    "from pull_the_pitcher.metrics import preds_histogram, print_all_metrics"
   ]
  },
  {
   "cell_type": "markdown",
   "metadata": {},
   "source": [
    "## Preparing processed csv data for Dataset class"
   ]
  },
  {
   "cell_type": "code",
   "execution_count": 3,
   "metadata": {},
   "outputs": [],
   "source": [
    "embedding_cols = [\"pitcher\"] # [\"game_pk\",  \"game_type\", \"pitcher_team_year\"]\n",
    "feature_cols = [\"post_bat_score\", \"score_diff\", \"end_inning\", \"inning\", \"postouts\", \"cum_sb_ratio\",\n",
    "                \"times_thru_order\", \"post_total_runners\", \"tying_run_on\", \"pitch_total\", \"post_opposite_hand\",\n",
    "                \"walk\", 'walk_cumsum', 'strikeout_cumsum', 'home_run_cumsum', 'bases_cumsum']\n",
    "cols = embedding_cols + feature_cols"
   ]
  },
  {
   "cell_type": "code",
   "execution_count": 4,
   "metadata": {},
   "outputs": [
    {
     "name": "stdout",
     "output_type": "stream",
     "text": [
      "mappers_2016_2017_2018_2019.pkl train_2016_2017_2018.csv\r\n",
      "scaler_2016_2017_2018_2019.pkl  val_2016_2017_2018.csv\r\n",
      "test_2019.csv\r\n"
     ]
    }
   ],
   "source": [
    "! ls ../data/processed"
   ]
  },
  {
   "cell_type": "code",
   "execution_count": 5,
   "metadata": {},
   "outputs": [],
   "source": [
    "train = pd.read_csv(\"../data/processed/train_2016_2017_2018.csv\")\n",
    "val = pd.read_csv(\"../data/processed/val_2016_2017_2018.csv\")\n",
    "test = pd.read_csv(\"../data/processed/test_2019.csv\")\n",
    "\n",
    "with open(\"../data/processed/mappers_2016_2017_2018_2019.pkl\", \"rb\") as f:\n",
    "    mappers = pickle.load(f)\n",
    "    \n",
    "with open(\"../data/processed/scaler_2016_2017_2018_2019.pkl\", \"rb\") as f:\n",
    "    scaler = pickle.load(f)"
   ]
  },
  {
   "cell_type": "code",
   "execution_count": 6,
   "metadata": {},
   "outputs": [],
   "source": [
    "# scaling test data (as tuned on training data)\n",
    "test[feature_cols] = scaler.transform(test[feature_cols])"
   ]
  },
  {
   "cell_type": "code",
   "execution_count": 7,
   "metadata": {},
   "outputs": [],
   "source": [
    "def get_starts(df, cols, y_col=\"last_batter\"):\n",
    "    \"\"\"\n",
    "    Given a dataframe with many pitcher outings stacked on top of one another,\n",
    "    this function extracts each individual outing\n",
    "    \"\"\"\n",
    "    start_stats = np.array(df[cols])\n",
    "    removal = np.array(df[y_col])\n",
    "    pulled_idx = np.nonzero(removal)[0]\n",
    "    stats = []\n",
    "    for i in range(pulled_idx.shape[0]):\n",
    "        if i == 0:\n",
    "            stat = start_stats[: pulled_idx[i] + 1]\n",
    "        else:\n",
    "            stat = start_stats[pulled_idx[i - 1] + 1: pulled_idx[i] + 1]\n",
    "\n",
    "        stats.append(stat)\n",
    "    return stats\n",
    "    \n",
    "def front_pad(starts):\n",
    "    \"\"\"\n",
    "    starts is a list of np arrays. Each has a shape of\n",
    "    (# batters faced, # features)\n",
    "    \"\"\"\n",
    "    n_features = starts[0].shape[1]\n",
    "    longest = np.max([start.shape[0] for start in starts])\n",
    "    padded_starts = []\n",
    "    for start in starts:\n",
    "        length = start.shape[0]\n",
    "        difference = longest - length\n",
    "        pad = np.zeros((difference, n_features)) # this also just puts a zero in for the target\n",
    "        padded_start = np.vstack([pad, start])\n",
    "        padded_starts.append(padded_start)\n",
    "    return padded_starts"
   ]
  },
  {
   "cell_type": "code",
   "execution_count": 8,
   "metadata": {},
   "outputs": [],
   "source": [
    "# quick dropping of a few unneeded columns\n",
    "train = train.drop(columns=['game_type', 'pitcher_team_year'])\n",
    "val = val.drop(columns=['game_type', 'pitcher_team_year'])\n",
    "test = test.drop(columns=['game_type', 'pitcher_team_year'])"
   ]
  },
  {
   "cell_type": "code",
   "execution_count": 9,
   "metadata": {},
   "outputs": [],
   "source": [
    "# getting each individual start\n",
    "train_starts = get_starts(train, cols=cols, y_col=\"pulled\")\n",
    "val_starts = get_starts(val, cols=cols, y_col=\"pulled\")\n",
    "test_starts = get_starts(test, cols=cols, y_col=\"pulled\")\n",
    "\n",
    "# adding targets back\n",
    "train_starts = add_targets(train_starts)\n",
    "val_starts = add_targets(val_starts)\n",
    "test_starts = add_targets(test_starts)\n",
    "\n",
    "# front-padding for parallelized training\n",
    "padded_train_starts = front_pad(train_starts)\n",
    "padded_val_starts = front_pad(val_starts)\n",
    "padded_test_starts = front_pad(test_starts)"
   ]
  },
  {
   "cell_type": "markdown",
   "metadata": {},
   "source": [
    "## Feeding processed data into torch `Dataset` class"
   ]
  },
  {
   "cell_type": "code",
   "execution_count": 10,
   "metadata": {},
   "outputs": [],
   "source": [
    "class PTPDataset(Dataset):\n",
    "    def __init__(self, starts):\n",
    "        \"\"\"\n",
    "        starts is a list of np arrays. Each has a shape of\n",
    "        (# batters faced, # features)\n",
    "        \"\"\"\n",
    "        self.starts = starts\n",
    "    \n",
    "    def __len__(self):\n",
    "        return len(self.starts)\n",
    "    \n",
    "    def __getitem__(self, idx):\n",
    "        # ignoring first col, which is game_pk (unique identifier for each game)\n",
    "        X = torch.tensor(self.starts[idx][:, 1:-1].astype(float), dtype=torch.double)\n",
    "        y = torch.tensor(self.starts[idx][:, -1], dtype=torch.double).unsqueeze(-1)\n",
    "        return X, y"
   ]
  },
  {
   "cell_type": "code",
   "execution_count": 11,
   "metadata": {},
   "outputs": [],
   "source": [
    "# instantiating datasets and data loaders\n",
    "train_ds = PTPDataset(padded_train_starts)\n",
    "val_ds = PTPDataset(padded_val_starts)\n",
    "test_ds = PTPDataset(padded_test_starts)\n",
    "\n",
    "train_dl = DataLoader(train_ds, batch_size=256, shuffle=True)\n",
    "val_dl = DataLoader(val_ds, batch_size=256, shuffle=True)\n",
    "test_dl = DataLoader(test_ds, batch_size=256)"
   ]
  },
  {
   "cell_type": "markdown",
   "metadata": {},
   "source": [
    "## Modeling"
   ]
  },
  {
   "cell_type": "code",
   "execution_count": 12,
   "metadata": {},
   "outputs": [],
   "source": [
    "def save_model(m, p): torch.save(m.state_dict(), p)\n",
    "def load_model(m, p): m.load_state_dict(torch.load(p))"
   ]
  },
  {
   "cell_type": "code",
   "execution_count": 13,
   "metadata": {},
   "outputs": [],
   "source": [
    "def val_metrics(model, valid_dl, alpha):\n",
    "    model.eval()\n",
    "    total = 0\n",
    "    sum_evt_loss = 0\n",
    "    sum_evr_loss = 0\n",
    "    sum_loss = 0\n",
    "    correct = 0\n",
    "    for X, y in valid_dl:\n",
    "        # housekeeping\n",
    "        batch = y.shape[0]\n",
    "        \n",
    "        # calculating losses\n",
    "        pred = model(X)\n",
    "#         loss = F.binary_cross_entropy_with_logits(pred, y)\n",
    "        evt_loss = event_time_loss(pred)\n",
    "        evr_loss = event_rate_loss(pred)\n",
    "        loss = (alpha*evt_loss) + ((1-alpha)*evr_loss)\n",
    "        \n",
    "        # updating running sums\n",
    "        sum_evt_loss += batch*evt_loss.item()\n",
    "        sum_evr_loss += batch*evr_loss.item()\n",
    "        sum_loss += batch*(loss.item())\n",
    "        total += y.shape[0]\n",
    "        \n",
    "    val_evt_loss = sum_evt_loss/total\n",
    "    val_evr_loss = sum_evr_loss/total\n",
    "    val_loss = sum_loss/total\n",
    "    return val_evt_loss, val_evr_loss, val_loss #, val_acc"
   ]
  },
  {
   "cell_type": "code",
   "execution_count": 14,
   "metadata": {},
   "outputs": [],
   "source": [
    "def train_epocs(model, optimizer, train_dl, valid_dl, alpha=0.1, epochs=10, print_every=5):\n",
    "    prev_val_loss = 1.5\n",
    "    idx = 0\n",
    "    evt_losses, evr_losses, losses = [], [], []\n",
    "    for i in range(epochs):\n",
    "        sum_loss = 0\n",
    "        total = 0\n",
    "        model.train()\n",
    "        for X, y in train_dl:\n",
    "            # housekeeping\n",
    "            batch_size = y.shape[0]\n",
    "            optimizer.zero_grad()\n",
    "            \n",
    "            # updating weights\n",
    "            pred = model(X)\n",
    "            evt_loss = event_time_loss(pred)\n",
    "            evr_loss = event_rate_loss(pred)\n",
    "            loss = (alpha*evt_loss) + ((1-alpha)*evr_loss)\n",
    "            loss.backward()\n",
    "            optimizer.step()\n",
    "            \n",
    "            # calculating loss\n",
    "            sum_loss += batch_size * loss.item()\n",
    "            total += y.shape[1]\n",
    "            idx += 1\n",
    "                \n",
    "        # updating loss\n",
    "        train_loss = sum_loss/total\n",
    "        val_evt_loss, val_evr_loss, val_loss = val_metrics(model, valid_dl, alpha)\n",
    "        losses.append(val_loss); evt_losses.append(val_evt_loss); evr_losses.append(val_evr_loss)\n",
    "        \n",
    "        if i % print_every == 0:\n",
    "#             print(f\"epoch {i} train loss: {round(train_loss, 4)} val loss: {round(val_loss, 4)}, lr: {round(lrs[idx-1], 4)}\")\n",
    "            print(f\"epoch {i} train evt_loss: {round(evt_loss.item(), 4)} train evr_loss: {round(evr_loss.item(), 4)}, train loss: {round(loss.item(), 4)}\")\n",
    "            print(f\"epoch {i} valid evt_loss: {round(val_evt_loss, 4)} valid evr_loss: {round(val_evr_loss, 4)}, valid train loss: {round(val_loss, 4)}\", end=\"\\n\\n\")\n",
    "        \n",
    "        # save model\n",
    "#         if val_loss < prev_val_loss:\n",
    "#             prev_val_loss = val_loss\n",
    "#             path = f\"../models/DRSA_{val_loss:.3f}.pth\"\n",
    "#             if val_loss < 0.10:\n",
    "#                 save_model(model, path)\n",
    "#                 print(f\"\\t\\t model saved at: {path}\")\n",
    "    plt.plot(losses, label=\"total loss\")\n",
    "    plt.plot(evt_losses, label=\"evt loss\")\n",
    "    plt.plot(evr_losses, label=\"evr loss\")\n",
    "    plt.legend()\n",
    "    plt.show()"
   ]
  },
  {
   "cell_type": "code",
   "execution_count": 60,
   "metadata": {},
   "outputs": [],
   "source": [
    "# getting embeddings ready\n",
    "n_pitchers = 270\n",
    "pitcher_emb_size = 20\n",
    "pitcher_embeddings = nn.Embedding(n_pitchers, pitcher_emb_size)\n",
    "\n",
    "ptp_embeddings = [pitcher_embeddings]\n",
    "\n",
    "# initializing model\n",
    "drsa = DRSA(n_features=16,\n",
    "            hidden_dim=20,\n",
    "            n_layers=5,\n",
    "            embeddings=ptp_embeddings,\n",
    "            output_size=1,\n",
    "            LSTM_dropout=0.05,\n",
    "            Linear_dropout=0.1)\n",
    "\n",
    "# initializing optimizer\n",
    "optimizer = torch.optim.Adam(drsa.parameters(), lr=1e-3, weight_decay=1e-5)"
   ]
  },
  {
   "cell_type": "code",
   "execution_count": 61,
   "metadata": {},
   "outputs": [
    {
     "name": "stdout",
     "output_type": "stream",
     "text": [
      "Number of total parameters: 23421\n"
     ]
    }
   ],
   "source": [
    "# checking num params\n",
    "total_params = sum([p[1].view(-1, 1).shape[0] for p in drsa.named_parameters()])\n",
    "print(f\"Number of total parameters: {total_params}\")"
   ]
  },
  {
   "cell_type": "code",
   "execution_count": 62,
   "metadata": {
    "scrolled": true
   },
   "outputs": [
    {
     "name": "stdout",
     "output_type": "stream",
     "text": [
      "epoch 0 train evt_loss: 19.1233 train evr_loss: -0.0, train loss: 19.1233\n",
      "epoch 0 valid evt_loss: 17.7415 valid evr_loss: 0.0, valid train loss: 17.7415\n",
      "\n",
      "epoch 5 train evt_loss: 6.9951 train evr_loss: 0.0365, train loss: 6.9951\n",
      "epoch 5 valid evt_loss: 5.0779 valid evr_loss: 0.1501, valid train loss: 5.0779\n",
      "\n",
      "epoch 10 train evt_loss: 6.92 train evr_loss: 0.0511, train loss: 6.92\n",
      "epoch 10 valid evt_loss: 4.7813 valid evr_loss: 0.2433, valid train loss: 4.7813\n",
      "\n",
      "epoch 15 train evt_loss: 6.9264 train evr_loss: 0.0533, train loss: 6.9264\n",
      "epoch 15 valid evt_loss: 4.6171 valid evr_loss: 0.2678, valid train loss: 4.6171\n",
      "\n",
      "epoch 20 train evt_loss: 4.9631 train evr_loss: 0.049, train loss: 4.9631\n",
      "epoch 20 valid evt_loss: 3.0307 valid evr_loss: 0.3106, valid train loss: 3.0307\n",
      "\n",
      "epoch 25 train evt_loss: 3.881 train evr_loss: 0.0356, train loss: 3.881\n",
      "epoch 25 valid evt_loss: 2.9409 valid evr_loss: 1.1482, valid train loss: 2.9409\n",
      "\n",
      "epoch 30 train evt_loss: 3.2453 train evr_loss: 0.0414, train loss: 3.2453\n",
      "epoch 30 valid evt_loss: 4.0658 valid evr_loss: 1.7793, valid train loss: 4.0658\n",
      "\n",
      "epoch 35 train evt_loss: 2.9615 train evr_loss: 0.047, train loss: 2.9615\n",
      "epoch 35 valid evt_loss: 4.7317 valid evr_loss: 2.217, valid train loss: 4.7317\n",
      "\n",
      "epoch 40 train evt_loss: 2.9536 train evr_loss: 0.0244, train loss: 2.9536\n",
      "epoch 40 valid evt_loss: 5.5173 valid evr_loss: 2.5858, valid train loss: 5.5173\n",
      "\n",
      "epoch 45 train evt_loss: 2.6463 train evr_loss: 0.02, train loss: 2.6463\n",
      "epoch 45 valid evt_loss: 5.7566 valid evr_loss: 2.8466, valid train loss: 5.7566\n",
      "\n",
      "epoch 50 train evt_loss: 2.5131 train evr_loss: 0.0229, train loss: 2.5131\n",
      "epoch 50 valid evt_loss: 6.2557 valid evr_loss: 3.0793, valid train loss: 6.2557\n",
      "\n",
      "epoch 55 train evt_loss: 2.7716 train evr_loss: 0.0097, train loss: 2.7716\n",
      "epoch 55 valid evt_loss: 6.1689 valid evr_loss: 3.2539, valid train loss: 6.1689\n",
      "\n",
      "epoch 60 train evt_loss: 2.6103 train evr_loss: 0.0079, train loss: 2.6103\n",
      "epoch 60 valid evt_loss: 6.3098 valid evr_loss: 3.4346, valid train loss: 6.3098\n",
      "\n",
      "epoch 65 train evt_loss: 2.745 train evr_loss: 0.0089, train loss: 2.745\n",
      "epoch 65 valid evt_loss: 6.6813 valid evr_loss: 3.605, valid train loss: 6.6813\n",
      "\n",
      "epoch 70 train evt_loss: 2.6311 train evr_loss: 0.0147, train loss: 2.6311\n",
      "epoch 70 valid evt_loss: 6.617 valid evr_loss: 3.7344, valid train loss: 6.617\n",
      "\n",
      "epoch 75 train evt_loss: 2.5689 train evr_loss: 0.0127, train loss: 2.5689\n",
      "epoch 75 valid evt_loss: 6.9276 valid evr_loss: 3.8824, valid train loss: 6.9276\n",
      "\n",
      "epoch 80 train evt_loss: 2.7051 train evr_loss: 0.0104, train loss: 2.7051\n",
      "epoch 80 valid evt_loss: 7.0273 valid evr_loss: 4.0057, valid train loss: 7.0273\n",
      "\n"
     ]
    },
    {
     "data": {
      "image/png": "[encoded data removed]",
      "text/plain": [
       "<Figure size 432x288 with 1 Axes>"
      ]
     },
     "metadata": {
      "needs_background": "light"
     },
     "output_type": "display_data"
    }
   ],
   "source": [
    "# training model\n",
    "train_epocs(drsa, optimizer, train_dl, val_dl, alpha=1.0, epochs=81, print_every=5)"
   ]
  },
  {
   "cell_type": "markdown",
   "metadata": {},
   "source": [
    "**Training notes**:\n",
    "* Seems to be very touchy with dropout. Even applying a little bit on the linear layer makes it very difficult to learn.\n",
    "    - \n",
    "* batch size of 128 seems to be best\n",
    "* adding more layers inside of the lstm cell seems to help\n",
    "    - big jump when I went from 2-5 layers"
   ]
  },
  {
   "cell_type": "code",
   "execution_count": 63,
   "metadata": {},
   "outputs": [],
   "source": [
    "# loading up saved model\n",
    "# load_model(drsa, f\"../models/06-17-20_DRSA_2017_2018_2019_loss_1.7337.pth\")\n",
    "drsa.eval()\n",
    "\n",
    "# organizing val preds in df\n",
    "val_features = np.concatenate(padded_val_starts, axis=0)\n",
    "preds = []\n",
    "for X_val, y_val in val_dl:\n",
    "    pred = drsa(X_val).squeeze(0).detach().numpy().reshape(-1, 1)\n",
    "    preds.append(pred)\n",
    "preds = np.concatenate(preds, axis=0)\n",
    "val_df = pd.DataFrame(np.hstack([val_features, preds]), columns=cols+[\"last_batter\", \"pred\"])\n",
    "    \n",
    "# organizing train preds in df\n",
    "train_features = np.concatenate(padded_train_starts, axis=0)\n",
    "preds = []\n",
    "for X_train, y_train in train_dl:\n",
    "    pred = drsa(X_train).squeeze(0).detach().numpy().reshape(-1, 1)\n",
    "    preds.append(pred)\n",
    "preds = np.concatenate(preds, axis=0)\n",
    "train_df = pd.DataFrame(np.hstack([train_features, preds]), columns=cols+[\"last_batter\", \"pred\"])"
   ]
  },
  {
   "cell_type": "code",
   "execution_count": 64,
   "metadata": {},
   "outputs": [],
   "source": [
    "# test_df.iloc[75:125, :]"
   ]
  },
  {
   "cell_type": "code",
   "execution_count": 65,
   "metadata": {
    "scrolled": true
   },
   "outputs": [
    {
     "data": {
      "image/png": "[encoded data removed]",
      "text/plain": [
       "<Figure size 864x288 with 2 Axes>"
      ]
     },
     "metadata": {
      "needs_background": "light"
     },
     "output_type": "display_data"
    }
   ],
   "source": [
    "fig, ax = plt.subplots(1, 2, figsize=(12, 4))\n",
    "preds_histogram(train_df[\"last_batter\"], train_df[\"pred\"], ax=ax[0], ylim = (0, 6000), title=\"2017-2018 train predictions\")\n",
    "preds_histogram(val_df[\"last_batter\"], val_df[\"pred\"], ax=ax[1], ylim=(0, 2500), title=\"2017-2018 validation predictions\")"
   ]
  },
  {
   "cell_type": "code",
   "execution_count": 66,
   "metadata": {},
   "outputs": [],
   "source": [
    "# organizing test preds in df\n",
    "test_features = np.concatenate(padded_test_starts, axis=0)\n",
    "preds = []\n",
    "for X_test, y_test in test_dl:\n",
    "    pred = drsa(X_test).squeeze(0).detach().numpy().reshape(-1, 1)\n",
    "    preds.append(pred)\n",
    "preds = np.concatenate(preds, axis=0)\n",
    "test_df = pd.DataFrame(np.hstack([test_features, preds]), columns=cols+[\"last_batter\", \"pred\"])"
   ]
  },
  {
   "cell_type": "code",
   "execution_count": 67,
   "metadata": {},
   "outputs": [
    {
     "data": {
      "image/png": "[encoded data removed]",
      "text/plain": [
       "<Figure size 432x288 with 1 Axes>"
      ]
     },
     "metadata": {
      "needs_background": "light"
     },
     "output_type": "display_data"
    }
   ],
   "source": [
    "fig, ax = plt.subplots(1, 1, figsize=(6, 4))\n",
    "preds_histogram(test_df[\"last_batter\"], test_df[\"pred\"], ax=ax, ylim=(0, 2500), title=\"2019 test predictions\")"
   ]
  },
  {
   "cell_type": "code",
   "execution_count": 50,
   "metadata": {},
   "outputs": [],
   "source": [
    "# saving model\n",
    "save_model(drsa, f\"../models/07-10-20_DRSA_2016_2017_2018_2019_loss_2.6303.pth\")"
   ]
  },
  {
   "cell_type": "code",
   "execution_count": 69,
   "metadata": {},
   "outputs": [],
   "source": [
    "# test_df.iloc[200:250, :]"
   ]
  },
  {
   "cell_type": "markdown",
   "metadata": {},
   "source": [
    "## model evaluation"
   ]
  },
  {
   "cell_type": "code",
   "execution_count": 43,
   "metadata": {},
   "outputs": [
    {
     "name": "stdout",
     "output_type": "stream",
     "text": [
      "              precision    recall  f1-score   support\n",
      "\n",
      "         0.0       1.00      1.00      1.00     71190\n",
      "         1.0       0.99      0.99      0.99      2034\n",
      "\n",
      "    accuracy                           1.00     73224\n",
      "   macro avg       0.99      1.00      0.99     73224\n",
      "weighted avg       1.00      1.00      1.00     73224\n",
      "\n",
      "mean plate appearance diff: 0.01032\n",
      "mean target diff: 0.00085\n"
     ]
    },
    {
     "data": {
      "image/png": "[encoded data removed]",
      "text/plain": [
       "<Figure size 432x288 with 2 Axes>"
      ]
     },
     "metadata": {
      "needs_background": "light"
     },
     "output_type": "display_data"
    },
    {
     "data": {
      "image/png": "[encoded data removed]",
      "text/plain": [
       "<Figure size 432x288 with 1 Axes>"
      ]
     },
     "metadata": {
      "needs_background": "light"
     },
     "output_type": "display_data"
    }
   ],
   "source": [
    "print_all_metrics(test_df[\"last_batter\"], test_df[\"pred\"], thresh=0.5)"
   ]
  },
  {
   "cell_type": "code",
   "execution_count": null,
   "metadata": {},
   "outputs": [],
   "source": []
  }
 ],
 "metadata": {
  "kernelspec": {
   "display_name": "Python 3",
   "language": "python",
   "name": "python3"
  },
  "language_info": {
   "codemirror_mode": {
    "name": "ipython",
    "version": 3
   },
   "file_extension": ".py",
   "mimetype": "text/x-python",
   "name": "python",
   "nbconvert_exporter": "python",
   "pygments_lexer": "ipython3",
   "version": "3.7.7"
  },
  "toc": {
   "base_numbering": 1,
   "nav_menu": {},
   "number_sections": true,
   "sideBar": true,
   "skip_h1_title": false,
   "title_cell": "Table of Contents",
   "title_sidebar": "Contents",
   "toc_cell": false,
   "toc_position": {},
   "toc_section_display": true,
   "toc_window_display": false
  }
 },
 "nbformat": 4,
 "nbformat_minor": 4
}
