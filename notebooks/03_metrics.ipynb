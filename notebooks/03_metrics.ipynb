{
 "cells": [
  {
   "cell_type": "code",
   "execution_count": 1,
   "metadata": {},
   "outputs": [],
   "source": [
    "# default_exp metrics"
   ]
  },
  {
   "cell_type": "markdown",
   "metadata": {},
   "source": [
    "# Metrics\n",
    "\n",
    "> Various metrics, in addition to the traditional binary classification, and survival analysis options."
   ]
  },
  {
   "cell_type": "code",
   "execution_count": 1,
   "metadata": {},
   "outputs": [
    {
     "name": "stderr",
     "output_type": "stream",
     "text": [
      "/Users/collinprather/anaconda3/envs/orioles/lib/python3.7/site-packages/statsmodels/tools/_testing.py:19: FutureWarning: pandas.util.testing is deprecated. Use the functions in the public API at pandas.testing instead.\n",
      "  import pandas.util.testing as tm\n"
     ]
    }
   ],
   "source": [
    "# export\n",
    "\n",
    "from sklearn.metrics import confusion_matrix, classification_report\n",
    "import seaborn as sns\n",
    "import numpy as np\n",
    "\n",
    "\n",
    "def cm(y_test, y_test_pred_probs, thresh):\n",
    "    \"\"\"\n",
    "    confusion matrix\n",
    "    \"\"\"\n",
    "    fig = plt.figure(figsize=(6, 4))\n",
    "    ax = fig.gca()\n",
    "\n",
    "    cm = pd.DataFrame(confusion_matrix(y_test, y_test_pred_probs > thresh),\n",
    "                      columns=[\"Stayed\", \"Pulled\"],\n",
    "                      index=[\"Stayed\", \"Pulled\"])\n",
    "    #     cm = cm / y_test.shape[0]\n",
    "    sns.heatmap(cm, ax=ax, cmap=sns.color_palette(\"ch:2.5,-.2,dark=.3\"), annot=True, fmt=\",d\")  # , fmt=\".2%\")\n",
    "    ax.set_ylim(cm.shape[0] + 0.25, -0.25)\n",
    "    plt.show()\n",
    "\n",
    "\n",
    "def get_starts_from_labels(y_true, y_pred):\n",
    "    \"\"\"\n",
    "    where y_true and y_pred are both np arrays\n",
    "    returns two lists of np arrays\n",
    "    \"\"\"\n",
    "    y_true, y_pred = np.array(y_true), np.array(y_pred)\n",
    "    pulled_idx = np.nonzero(y_true)[0]\n",
    "    preds = []\n",
    "    trues = []\n",
    "    for i in range(pulled_idx.shape[0]):\n",
    "        if i == 0:\n",
    "            pred = y_pred[: pulled_idx[i] + 1]\n",
    "            true = y_true[: pulled_idx[i] + 1]\n",
    "        else:\n",
    "            pred = y_pred[pulled_idx[i - 1] + 1: pulled_idx[i] + 1]\n",
    "            true = y_true[pulled_idx[i - 1] + 1: pulled_idx[i] + 1]\n",
    "\n",
    "        preds.append(pred)\n",
    "        trues.append(true)\n",
    "    return trues, preds\n",
    "\n",
    "\n",
    "def mean_pa_diff(trues, preds):\n",
    "    \"\"\"\n",
    "    where trues and preds are both lists of numpy arrays\n",
    "    What this doesn't take into account is if the model\n",
    "    has many high prob predictions (not necessarily max)\n",
    "    that are way off\n",
    "    \"\"\"\n",
    "    diffs = []\n",
    "    for pred in preds:\n",
    "        indx_of_pulled = pred.shape[0] - 1\n",
    "        idx_of_pred = pred.argmax()  # argmax takes first max, so if tie, goes to worse guess\n",
    "        diffs.append(indx_of_pulled - idx_of_pred)\n",
    "\n",
    "    return np.array(diffs).mean()\n",
    "\n",
    "\n",
    "def mean_target_diff(trues, preds):\n",
    "    \"\"\"\n",
    "    What this doesn't take into account is how far\n",
    "    away the max pred is from the actual pulling\n",
    "    \"\"\"\n",
    "    diffs = []\n",
    "    for true, pred in zip(trues, preds):\n",
    "        diffs.append(np.abs(true.mean() - pred.mean()))\n",
    "    return np.array(diffs).mean()\n",
    "\n",
    "\n",
    "def print_all_metrics(y_test, y_test_pred_probs, thresh):\n",
    "    print(classification_report(y_test, y_test_pred_probs > thresh))\n",
    "    trues, preds = get_starts_from_labels(y_test, y_test_pred_probs)\n",
    "    print(f\"mean plate appearance diff: {round(mean_pa_diff(trues, preds), 5)}\")\n",
    "    print(f\"mean target diff: {round(mean_target_diff(trues, preds), 5)}\")\n",
    "    cm(y_test, y_test_pred_probs, thresh)"
   ]
  }
 ],
 "metadata": {
  "kernelspec": {
   "display_name": "Python 3",
   "language": "python",
   "name": "python3"
  },
  "language_info": {
   "codemirror_mode": {
    "name": "ipython",
    "version": 3
   },
   "file_extension": ".py",
   "mimetype": "text/x-python",
   "name": "python",
   "nbconvert_exporter": "python",
   "pygments_lexer": "ipython3",
   "version": "3.7.7"
  },
  "toc": {
   "base_numbering": 1,
   "nav_menu": {},
   "number_sections": true,
   "sideBar": true,
   "skip_h1_title": false,
   "title_cell": "Table of Contents",
   "title_sidebar": "Contents",
   "toc_cell": false,
   "toc_position": {},
   "toc_section_display": true,
   "toc_window_display": false
  }
 },
 "nbformat": 4,
 "nbformat_minor": 4
}
