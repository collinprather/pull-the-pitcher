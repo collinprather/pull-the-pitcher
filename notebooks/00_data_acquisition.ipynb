{
 "cells": [
  {
   "cell_type": "code",
   "execution_count": null,
   "metadata": {},
   "outputs": [],
   "source": [
    "# default_exp data.acquisition"
   ]
  },
  {
   "cell_type": "markdown",
   "metadata": {},
   "source": [
    "# Data Acquisition\n",
    "\n",
    "> This is a script which invokes `pybaseball`'s [`statcast()`](https://github.com/jldbc/pybaseball#statcast-pull-advanced-metrics-from-major-league-baseballs-statcast-system) function to retrieve pitch-level data from statcast.\n"
   ]
  },
  {
   "cell_type": "code",
   "execution_count": null,
   "metadata": {},
   "outputs": [],
   "source": [
    "#hide\n",
    "\n",
    "# documentation\n",
    "from nbdev.showdoc import *\n",
    "\n",
    "# testing\n",
    "import pytest\n",
    "import psycopg2"
   ]
  },
  {
   "cell_type": "code",
   "execution_count": null,
   "metadata": {},
   "outputs": [],
   "source": [
    "# exporti\n",
    "from pybaseball import statcast\n",
    "import pandas as pd\n",
    "from fastscript import *\n",
    "from sqlalchemy import create_engine\n",
    "from os import path\n",
    "import os\n",
    "from dotenv import find_dotenv, load_dotenv"
   ]
  },
  {
   "cell_type": "code",
   "execution_count": null,
   "metadata": {},
   "outputs": [],
   "source": [
    "# export\n",
    "\n",
    "def load_postgres_env():\n",
    "    # retrieving engironment variables\n",
    "    load_dotenv(find_dotenv(), override=True)\n",
    "    dbname = os.getenv(\"POSTGRES_DB\")\n",
    "    user = os.getenv(\"POSTGRES_USER\")\n",
    "    password = os.getenv(\"POSTGRES_PASSWORD\")\n",
    "    host = os.getenv(\"POSTGRES_HOST\")\n",
    "    port = os.getenv(\"POSTGRES_PORT\")\n",
    "    return dbname, user, password, host, port\n",
    "\n",
    "def load_postgres_engine():\n",
    "    # postgres env variables\n",
    "    dbname, user, password, host, port = load_postgres_env()\n",
    "\n",
    "    # creating remote db connection\n",
    "    engine = create_engine(f'postgresql://{user}:{password}@{host}/{dbname}')\n",
    "    \n",
    "    return engine"
   ]
  },
  {
   "cell_type": "code",
   "execution_count": null,
   "metadata": {},
   "outputs": [],
   "source": [
    "# export\n",
    "\n",
    "\n",
    "@call_parse\n",
    "def query_statcast(\n",
    "    start_dt: Param(help=\"Beginning date to pull data from\", type=str) = None,\n",
    "    end_dt: Param(help=\"End date to pull data from\", type=str) = None,\n",
    "    team: Param(help=\"Abbreviation for team of interest\", type=str) = None,\n",
    "    verbose: Param(\n",
    "        help=\"Whether or not to print verbose updates\", type=bool_arg\n",
    "    ) = True,\n",
    "    if_exists: Param(\n",
    "        help=\"How to behave if the table already exists.\",\n",
    "        type=str,\n",
    "    ) = 'fail'\n",
    "):\n",
    "    \"\"\"\n",
    "    Callable from the command-line or in Python. Pulls pitch-level MLB data from [statcast](https://baseballsavant.mlb.com/statcast_search).\n",
    "    Saves to a pre-instantiated Postgres DB in AWS RDS.\n",
    "    \n",
    "    * inputs:\n",
    "        - `start_dt`: `str`, Beginning date to pull data from = None\n",
    "        - `end_dt`: `str`, End date to pull data from = None\n",
    "        - `team`: `str`, abbreviation for team of interest = None\n",
    "        - `verbose`: `bool`, Whether or not to print verbose updates\n",
    "        - `if_exists`: `str`, How to behave if the table already exists.\n",
    "            * `'fail'`: Raise a ValueError.\n",
    "            * `'replace'`: Drop the table before inserting new values.\n",
    "            * `'append'`: Insert new values to the existing table.\n",
    "        \n",
    "    * outputs:\n",
    "        - None\n",
    "    \"\"\"\n",
    "    # creating remote db connection\n",
    "    engine = load_postgres_engine()\n",
    "\n",
    "    # pulling data from statcast\n",
    "    data = statcast(start_dt=start_dt, end_dt=end_dt, team=team, verbose=verbose)\n",
    "    with engine.connect() as connection:\n",
    "        data.to_sql(f\"statcast_{start_dt[:4]}\", connection, if_exists=if_exists)\n",
    "\n",
    "    return None\n"
   ]
  },
  {
   "cell_type": "code",
   "execution_count": null,
   "metadata": {},
   "outputs": [],
   "source": [
    "# query_statcast tests\n",
    "\n",
    "\n",
    "# getting red sox data from July 7th, 2019\n",
    "start_dt = end_dt = \"2019-07-07\"\n",
    "query_statcast(\n",
    "    start_dt=start_dt,\n",
    "    end_dt=end_dt,\n",
    "    team=\"BOS\",\n",
    "    if_exists=\"replace\",\n",
    ")\n",
    "\n",
    "# ensuring David Price threw 99 pitches\n",
    "engine = load_postgres_engine()\n",
    "with engine.connect() as connection:\n",
    "    result = connection.execute(\"\"\"select count(1)\n",
    "                                   from statcast_2019\n",
    "                                   where player_name = 'David Price'\"\"\")\n",
    "assert result.first()[0] == 99"
   ]
  },
  {
   "cell_type": "code",
   "execution_count": null,
   "metadata": {},
   "outputs": [],
   "source": [
    "# export\n",
    "\n",
    "\n",
    "def query_db(\n",
    "    year: str = \"2019\",\n",
    "    columns: str = \"*\",\n",
    "    limit: int = None,\n",
    "    verbose: bool = True,\n",
    "):\n",
    "    \"\"\"\n",
    "    Queries a sqlite db file. Assumes that it's been created by `query_statcast`.\n",
    "    Only queries for a single year at a time.\n",
    "    \n",
    "    * intputs:\n",
    "        - `year`: `str`, year of data to query\n",
    "        - `columns`: `str`, which columns from the [statcast data](https://baseballsavant.mlb.com/csv-docs) to include in table\n",
    "        - `limit`: `int`, the maximum number of rows to retrieve ([postgresql documentation](https://www.postgresql.org/docs/8.1/queries-limit.html)) \n",
    "        - `verbose`: `bool`, Whether or not to print verbose updates\n",
    "    \n",
    "    * output:\n",
    "        - `df`: `pd.DataFrame`, DataFrame populated with data queried from database\n",
    "    \"\"\"\n",
    "    if verbose:\n",
    "        print(f\"querying year {year} from db now.\")\n",
    "    \n",
    "    engine = load_postgres_engine()\n",
    "    \n",
    "    query = f\"\"\"select {columns}\n",
    "                from statcast_{year}\"\"\"\n",
    "    if limit:\n",
    "        query += f\" limit {round(limit)}\"\n",
    "    \n",
    "    # if year is not in db, return empty pd.DataFrame\n",
    "    try:\n",
    "        with engine.connect() as connection:\n",
    "            df = pd.read_sql_query(query, connection)\n",
    "    except:\n",
    "        print(f\"Year {year} not in database. Returning empty dataframe.\")\n",
    "        df = pd.DataFrame()\n",
    "        \n",
    "    return df\n"
   ]
  },
  {
   "cell_type": "code",
   "execution_count": null,
   "metadata": {},
   "outputs": [
    {
     "name": "stdout",
     "output_type": "stream",
     "text": [
      "querying year 2019 from db now.\n",
      "querying year 2012 from db now.\n",
      "Year 2012 not in database. Returning empty dataframe.\n"
     ]
    }
   ],
   "source": [
    "# BOS @ DET on 7/7/19\n",
    "df = query_db()\n",
    "assert df[\"away_team\"].unique().item() == \"BOS\"\n",
    "\n",
    "# checking consistent rows and columns (extra column because index is included)\n",
    "assert df.shape == (339, 91)\n",
    "\n",
    "# year not present in db gives empty DataFrame\n",
    "df = query_db(year=\"2012\")\n",
    "assert df.empty\n",
    "\n",
    "# # also testing that csv file is of expected size\n",
    "# df = pd.read_csv(f\"{output_path}/statcast_{start_dt[:4]}.csv\")\n",
    "# assert df.shape == (4457, 90)\n",
    "\n",
    "\n",
    "# clean up: removing table, and asserting the correct error\n",
    "with engine.connect() as connection:\n",
    "    connection.execute(\"\"\"drop table statcast_2019\"\"\")"
   ]
  },
  {
   "cell_type": "markdown",
   "metadata": {},
   "source": [
    "## Usage"
   ]
  },
  {
   "cell_type": "markdown",
   "metadata": {},
   "source": [
    "### From the command-line\n",
    "\n",
    "```shell\n",
    "$ query_statcast --start_dt 2019-05-07 --end_dt 2019-06-09 --output_type db --output_path /tmp\n",
    "This is a large query, it may take a moment to complete\n",
    "Completed sub-query from 2019-05-07 to 2019-05-12\n",
    "Completed sub-query from 2019-05-13 to 2019-05-18\n",
    "Completed sub-query from 2019-05-19 to 2019-05-24\n",
    "Completed sub-query from 2019-05-25 to 2019-05-30\n",
    "Completed sub-query from 2019-05-31 to 2019-06-05\n",
    "Completed sub-query from 2019-06-06 to 2019-06-09\n",
    "$ ls /tmp/ | grep statcast_pitches\n",
    "statcast_pitches.db\n",
    "```"
   ]
  },
  {
   "cell_type": "markdown",
   "metadata": {},
   "source": [
    "### Using Python"
   ]
  },
  {
   "cell_type": "markdown",
   "metadata": {},
   "source": [
    "```python\n",
    ">>> query_statcast(\n",
    "        start_dt=\"2019-06-07\", end_dt=\"2019-06-09\", output_type=\"csv\", output_path=\"/tmp\"\n",
    "    )\n",
    "```\n",
    "\n",
    "```shell\n",
    "$ ls /tmp/ | grep statcast\n",
    "```"
   ]
  }
 ],
 "metadata": {
  "kernelspec": {
   "display_name": "Python 3",
   "language": "python",
   "name": "python3"
  }
 },
 "nbformat": 4,
 "nbformat_minor": 4
}
