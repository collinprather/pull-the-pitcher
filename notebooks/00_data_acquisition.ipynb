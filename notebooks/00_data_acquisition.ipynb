{
 "cells": [
  {
   "cell_type": "code",
   "execution_count": 1,
   "metadata": {},
   "outputs": [],
   "source": [
    "# default_exp data.acquisition"
   ]
  },
  {
   "cell_type": "markdown",
   "metadata": {},
   "source": [
    "# Data Acquisition\n",
    "\n",
    "> This is a script which invokes `pybaseball`'s [`statcast()`](https://github.com/jldbc/pybaseball#statcast-pull-advanced-metrics-from-major-league-baseballs-statcast-system) function to retrieve pitch-level data from statcast.\n"
   ]
  },
  {
   "cell_type": "code",
   "execution_count": 2,
   "metadata": {},
   "outputs": [],
   "source": [
    "#hide\n",
    "from nbdev.showdoc import *"
   ]
  },
  {
   "cell_type": "code",
   "execution_count": 3,
   "metadata": {},
   "outputs": [],
   "source": [
    "# exporti\n",
    "from pybaseball import statcast\n",
    "import pandas as pd\n",
    "from fastscript import *\n",
    "import sqlite3"
   ]
  },
  {
   "cell_type": "code",
   "execution_count": 5,
   "metadata": {},
   "outputs": [],
   "source": [
    "# export\n",
    "\n",
    "@call_parse\n",
    "def query_statcast(start_dt: Param(help=\"Beginning date to pull data from\", type=str)=None,\n",
    "                   end_dt: Param(help=\"End date to pull data from\", type=str)=None,\n",
    "                   team: Param(help=\"Abbreviation for team of interest\", type=str)=None,\n",
    "                   verbose: Param(help=\"Whether or not to print verbose updates\", type=bool_arg)=True,\n",
    "                   output_type: Param(help=\"What format to save data in\", type=str)=\"db\",\n",
    "                   overwrite: Param(help=\"Whether or not to overwrite the db table if it already exists\",\n",
    "                                   type=bool_arg)=True,\n",
    "                   output_path: Param(help=\"path to location that data should be saved\", type=str)=\".\"):\n",
    "    \"\"\"\n",
    "    Note, working with sqlite files, as opposed to csv files is the recommended usage.\n",
    "    \"\"\"\n",
    "    # pulling data from statcast\n",
    "    data = statcast(start_dt, end_dt, team, verbose)\n",
    "    if output_type not in ('db', 'csv'):\n",
    "        raise ValueError(\"output_type must be one of {'db', 'csv'}\")\n",
    "    elif output_type == \"db\":\n",
    "        conn = sqlite3.connect(f\"{output_path}/statcast_pitches.db\")\n",
    "        if overwrite:\n",
    "            conn.execute(f\"DROP TABLE IF EXISTS statcast_{start_dt[:4]}\")\n",
    "        data.to_sql(f\"statcast_{start_dt[:4]}\", conn)\n",
    "        conn.close()\n",
    "    else:\n",
    "        # output type must be csv\n",
    "        data.to_csv(f\"{output_path}/statcast_{start_dt[:4]}.csv\", index=False)\n",
    "        \n",
    "    return None"
   ]
  },
  {
   "cell_type": "markdown",
   "metadata": {},
   "source": [
    "## Usage"
   ]
  },
  {
   "cell_type": "markdown",
   "metadata": {},
   "source": [
    "### From the command-line\n",
    "\n",
    "```shell\n",
    "$ query_statcast --start_dt 2019-05-07 --end_dt 2019-06-09 --output_type db --output_path /tmp\n",
    "This is a large query, it may take a moment to complete\n",
    "Completed sub-query from 2019-05-07 to 2019-05-12\n",
    "Completed sub-query from 2019-05-13 to 2019-05-18\n",
    "Completed sub-query from 2019-05-19 to 2019-05-24\n",
    "Completed sub-query from 2019-05-25 to 2019-05-30\n",
    "Completed sub-query from 2019-05-31 to 2019-06-05\n",
    "Completed sub-query from 2019-06-06 to 2019-06-09\n",
    "```"
   ]
  },
  {
   "cell_type": "code",
   "execution_count": 7,
   "metadata": {},
   "outputs": [
    {
     "name": "stdout",
     "output_type": "stream",
     "text": [
      "statcast_pitches.db\r\n"
     ]
    }
   ],
   "source": [
    "! ls /tmp/ | grep statcast_pitches"
   ]
  },
  {
   "cell_type": "markdown",
   "metadata": {},
   "source": [
    "### Using Python"
   ]
  },
  {
   "cell_type": "code",
   "execution_count": 12,
   "metadata": {},
   "outputs": [],
   "source": [
    "query_statcast(start_dt=\"2019-06-07\",\n",
    "               end_dt=\"2019-06-09\",\n",
    "               output_type=\"csv\",\n",
    "               output_path=\"/tmp\")"
   ]
  },
  {
   "cell_type": "code",
   "execution_count": 13,
   "metadata": {},
   "outputs": [
    {
     "name": "stdout",
     "output_type": "stream",
     "text": [
      "statcast_2019.csv\r\n",
      "statcast_pitches.db\r\n"
     ]
    }
   ],
   "source": [
    "! ls /tmp/ | grep statcast"
   ]
  }
 ],
 "metadata": {
  "kernelspec": {
   "display_name": "Python 3",
   "language": "python",
   "name": "python3"
  },
  "language_info": {
   "codemirror_mode": {
    "name": "ipython",
    "version": 3
   },
   "file_extension": ".py",
   "mimetype": "text/x-python",
   "name": "python",
   "nbconvert_exporter": "python",
   "pygments_lexer": "ipython3",
   "version": "3.7.7"
  },
  "toc": {
   "base_numbering": 1,
   "nav_menu": {},
   "number_sections": true,
   "sideBar": true,
   "skip_h1_title": false,
   "title_cell": "Table of Contents",
   "title_sidebar": "Contents",
   "toc_cell": false,
   "toc_position": {},
   "toc_section_display": true,
   "toc_window_display": false
  }
 },
 "nbformat": 4,
 "nbformat_minor": 2
}
