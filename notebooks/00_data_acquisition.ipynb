{
 "cells": [
  {
   "cell_type": "code",
   "execution_count": null,
   "metadata": {},
   "outputs": [],
   "source": [
    "# default_exp data.acquisition"
   ]
  },
  {
   "cell_type": "markdown",
   "metadata": {},
   "source": [
    "# Data Acquisition\n",
    "\n",
    "> This is a script which invokes `pybaseball`'s [`statcast()`](https://github.com/jldbc/pybaseball#statcast-pull-advanced-metrics-from-major-league-baseballs-statcast-system) function to retrieve pitch-level data from statcast.\n"
   ]
  },
  {
   "cell_type": "code",
   "execution_count": null,
   "metadata": {},
   "outputs": [],
   "source": [
    "#hide\n",
    "\n",
    "# documentation\n",
    "from nbdev.showdoc import *\n",
    "\n",
    "# testing\n",
    "import pytest"
   ]
  },
  {
   "cell_type": "code",
   "execution_count": null,
   "metadata": {},
   "outputs": [],
   "source": [
    "# exporti\n",
    "from pybaseball import statcast\n",
    "import pandas as pd\n",
    "from fastscript import *\n",
    "import sqlite3\n",
    "from os import path"
   ]
  },
  {
   "cell_type": "code",
   "execution_count": null,
   "metadata": {},
   "outputs": [],
   "source": [
    "# export\n",
    "\n",
    "\n",
    "@call_parse\n",
    "def query_statcast(\n",
    "    start_dt: Param(help=\"Beginning date to pull data from\", type=str) = None,\n",
    "    end_dt: Param(help=\"End date to pull data from\", type=str) = None,\n",
    "    team: Param(help=\"Abbreviation for team of interest\", type=str) = None,\n",
    "    verbose: Param(\n",
    "        help=\"Whether or not to print verbose updates\", type=bool_arg\n",
    "    ) = True,\n",
    "    output_type: Param(help=\"What format to save data in\", type=str) = \"db\",\n",
    "    overwrite: Param(\n",
    "        help=\"Whether or not to overwrite the db table if it already exists\",\n",
    "        type=bool_arg,\n",
    "    ) = False,\n",
    "    output_path: Param(\n",
    "        help=\"path to location that data should be saved\", type=str\n",
    "    ) = \".\",\n",
    "):\n",
    "    \"\"\"\n",
    "    Callable from the command-line or in Python. Pulls pitch-level MLB data from [statcast](https://baseballsavant.mlb.com/statcast_search).\n",
    "    Saves as either a sqlite db file, or csv.\n",
    "    \n",
    "    * inputs:\n",
    "        - `start_dt`: `str`, Beginning date to pull data from = None\n",
    "        - `end_dt`: `str`, End date to pull data from = None\n",
    "        - `team`: `str`, abbreviation for team of interest = None\n",
    "        - `verbose`: `bool`, Whether or not to print verbose updates\n",
    "        - `output_type`: `str`, What format to save data in (must be one of {'db', 'csv'}) = 'db'\n",
    "        - `overwrite`: `bool`, Whether or not to overwrite the db table if it already exists = False\n",
    "        - `output_path`: `str`, Path to the location that the data should be saved at = '.'\n",
    "        \n",
    "    * outputs:\n",
    "        - None\n",
    "    \"\"\"\n",
    "    # checking for correct output type\n",
    "    if output_type not in (\"db\", \"csv\"):\n",
    "        raise ValueError(\"output_type must be one of {'db', 'csv'}\")\n",
    "\n",
    "    if output_type == \"db\":\n",
    "        # creating db connection\n",
    "        conn = sqlite3.connect(f\"{output_path}/statcast_pitches.db\")\n",
    "        \n",
    "        # Checking if year is already in db\n",
    "        cursor = conn.execute(f\"select name from sqlite_master where type='table' and name='statcast_{start_dt[:4]}'\")\n",
    "        \n",
    "        # if table exists in db\n",
    "        if cursor.fetchone():\n",
    "            if overwrite:\n",
    "                conn.execute(f\"DROP TABLE IF EXISTS statcast_{start_dt[:4]}\")\n",
    "            else:\n",
    "                # don't want to overwrite, pop out of function\n",
    "                print(f\"Table named 'statcast_{start_dt[:4]}' already exists in db saved at `{output_path}/statcast_{start_dt[:4]}`.\")\n",
    "                return None\n",
    "        \n",
    "        # if table does not already exist in db or it was just dropped\n",
    "        # pulling data from statcast\n",
    "        data = statcast(start_dt=start_dt, end_dt=end_dt, team=team, verbose=verbose)\n",
    "        data.to_sql(f\"statcast_{start_dt[:4]}\", conn)\n",
    "        conn.close()\n",
    "\n",
    "    # output type is csv\n",
    "    else:\n",
    "        # Checking if file is already saved as csv\n",
    "        if path.exists(f\"{output_path}/statcast_{start_dt[:4]}.csv\"):\n",
    "            print(f\"File named `{output_path}/statcast_{start_dt[:4]}.csv` already exists.\")\n",
    "            return None\n",
    "        \n",
    "        # pulling data from statcast\n",
    "        data = statcast(start_dt=start_dt, end_dt=end_dt, team=team, verbose=verbose)\n",
    "        \n",
    "        # saving to csv\n",
    "        data.to_csv(f\"{output_path}/statcast_{start_dt[:4]}.csv\", index=False)\n",
    "\n",
    "    return None\n"
   ]
  },
  {
   "cell_type": "code",
   "execution_count": null,
   "metadata": {},
   "outputs": [],
   "source": [
    "! rm /tmp/*.db /tmp/*.pkl /tmp/*.csv"
   ]
  },
  {
   "cell_type": "code",
   "execution_count": null,
   "metadata": {},
   "outputs": [
    {
     "name": "stdout",
     "output_type": "stream",
     "text": [
      "Table named 'statcast_2019' already exists in db saved at `/tmp/statcast_2019`.\n"
     ]
    }
   ],
   "source": [
    "# output type must be db or csv\n",
    "with pytest.raises(ValueError):\n",
    "    query_statcast(output_type=None)\n",
    "\n",
    "# making sure a db file is created\n",
    "output_path = \"/tmp\"\n",
    "start_dt = end_dt = \"2019-07-07\"\n",
    "query_statcast(\n",
    "    start_dt=start_dt, end_dt=end_dt, output_type=\"db\", output_path=output_path\n",
    ")\n",
    "assert path.exists(f\"{output_path}/statcast_pitches.db\")\n",
    "\n",
    "# making sure the db file will be over-written without error\n",
    "query_statcast(\n",
    "    start_dt=start_dt,\n",
    "    end_dt=end_dt,\n",
    "    team=\"BOS\",\n",
    "    output_type=\"db\",\n",
    "    overwrite=True,\n",
    "    output_path=output_path,\n",
    ")\n",
    "\n",
    "# making sure db file will not be overwritten\n",
    "query_statcast(\n",
    "    start_dt=start_dt,\n",
    "    end_dt=end_dt,\n",
    "    team=\"BOS\",\n",
    "    output_type=\"db\",\n",
    "    output_path=output_path,\n",
    ")\n",
    "\n",
    "# making sure a csv file is created\n",
    "query_statcast(\n",
    "    start_dt=start_dt, end_dt=end_dt, output_type=\"csv\", output_path=output_path\n",
    ")\n",
    "assert path.exists(f\"{output_path}/statcast_{start_dt[:4]}.csv\")"
   ]
  },
  {
   "cell_type": "code",
   "execution_count": null,
   "metadata": {},
   "outputs": [],
   "source": [
    "# export\n",
    "\n",
    "\n",
    "def query_db(\n",
    "    db_path: str = \"../data/raw/statcast_pitches.db\",\n",
    "    year: str = \"2019\",\n",
    "    columns: str = \"*\",\n",
    "    limit: int = None,\n",
    "    verbose: bool = True,\n",
    "):\n",
    "    \"\"\"\n",
    "    Queries a sqlite db file. Assumes that it's been created by `query_statcast`.\n",
    "    Only queries for a single year at a time.\n",
    "    \n",
    "    * intputs:\n",
    "        - `db_path`: `str`, path that db file is located at\n",
    "        - `year`: `str`, year of data to query\n",
    "        - `columns`: `str`, which columns from the [statcast data](https://baseballsavant.mlb.com/csv-docs) to include in table\n",
    "        - `limit`: `int`, the maximum number of rows to retrieve ([postgresql documentation](https://www.postgresql.org/docs/8.1/queries-limit.html)) \n",
    "        - `verbose`: `bool`, Whether or not to print verbose updates\n",
    "    \n",
    "    * output:\n",
    "        - `df`: `pd.DataFrame`, DataFrame populated with data queried from database\n",
    "    \"\"\"\n",
    "    if verbose:\n",
    "        print(f\"querying db at {db_path} now.\")\n",
    "    conn = sqlite3.connect(db_path)\n",
    "    query = f\"\"\"select {columns}\n",
    "                from statcast_{year}\"\"\"\n",
    "    if limit:\n",
    "        query += f\" limit {round(limit)}\"\n",
    "    \n",
    "    # making sure year is in db\n",
    "    cursor = conn.execute(f\"select name from sqlite_master where type='table' and name='statcast_{year}'\")\n",
    "    if cursor.fetchone():\n",
    "        df = pd.read_sql_query(query, conn)\n",
    "    else:\n",
    "        df = pd.DataFrame()\n",
    "    conn.close()\n",
    "    return df\n"
   ]
  },
  {
   "cell_type": "code",
   "execution_count": null,
   "metadata": {},
   "outputs": [
    {
     "name": "stdout",
     "output_type": "stream",
     "text": [
      "querying db at /tmp/statcast_pitches.db now.\n",
      "querying db at /tmp/statcast_pitches.db now.\n"
     ]
    }
   ],
   "source": [
    "# BOS @ DET on 7/7/19\n",
    "db_path = f\"{output_path}/statcast_pitches.db\"\n",
    "df = query_db(db_path=db_path)\n",
    "assert df[\"away_team\"].unique().item() == \"BOS\"\n",
    "\n",
    "# checking consistent rows and columns (extra column because index is included)\n",
    "assert df.shape == (339, 91)\n",
    "\n",
    "# year not present in db gives empty DataFrame\n",
    "df = query_db(db_path=db_path,\n",
    "              year=\"2012\")\n",
    "assert df.empty\n",
    "\n",
    "# also testing that csv file is of expected size\n",
    "df = pd.read_csv(f\"{output_path}/statcast_{start_dt[:4]}.csv\")\n",
    "assert df.shape == (4457, 90)\n",
    "\n",
    "# clean-up\n",
    "! rm {output_path}/statcast_*"
   ]
  },
  {
   "cell_type": "code",
   "execution_count": null,
   "metadata": {},
   "outputs": [],
   "source": [
    "# more clean-up\n",
    "! rm /tmp/*.db /tmp/*.pkl /tmp/*.csv"
   ]
  },
  {
   "cell_type": "markdown",
   "metadata": {},
   "source": [
    "## Usage"
   ]
  },
  {
   "cell_type": "markdown",
   "metadata": {},
   "source": [
    "### From the command-line\n",
    "\n",
    "```shell\n",
    "$ query_statcast --start_dt 2019-05-07 --end_dt 2019-06-09 --output_type db --output_path /tmp\n",
    "This is a large query, it may take a moment to complete\n",
    "Completed sub-query from 2019-05-07 to 2019-05-12\n",
    "Completed sub-query from 2019-05-13 to 2019-05-18\n",
    "Completed sub-query from 2019-05-19 to 2019-05-24\n",
    "Completed sub-query from 2019-05-25 to 2019-05-30\n",
    "Completed sub-query from 2019-05-31 to 2019-06-05\n",
    "Completed sub-query from 2019-06-06 to 2019-06-09\n",
    "$ ls /tmp/ | grep statcast_pitches\n",
    "statcast_pitches.db\n",
    "```"
   ]
  },
  {
   "cell_type": "markdown",
   "metadata": {},
   "source": [
    "### Using Python"
   ]
  },
  {
   "cell_type": "markdown",
   "metadata": {},
   "source": [
    "```python\n",
    ">>> query_statcast(\n",
    "        start_dt=\"2019-06-07\", end_dt=\"2019-06-09\", output_type=\"csv\", output_path=\"/tmp\"\n",
    "    )\n",
    "```\n",
    "\n",
    "```shell\n",
    "$ ls /tmp/ | grep statcast\n",
    "```"
   ]
  }
 ],
 "metadata": {
  "kernelspec": {
   "display_name": "Python 3",
   "language": "python",
   "name": "python3"
  }
 },
 "nbformat": 4,
 "nbformat_minor": 4
}
