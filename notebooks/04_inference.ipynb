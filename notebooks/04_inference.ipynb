{
 "cells": [
  {
   "cell_type": "code",
   "execution_count": null,
   "metadata": {},
   "outputs": [],
   "source": [
    "# default_exp inference"
   ]
  },
  {
   "cell_type": "markdown",
   "metadata": {},
   "source": [
    "# Inference\n",
    "\n",
    "> Utilites to make an inference (prediction) on an arbitrary pitcher outing."
   ]
  },
  {
   "cell_type": "code",
   "execution_count": null,
   "metadata": {},
   "outputs": [],
   "source": [
    "# exporti\n",
    "from pull_the_pitcher.data import processing, pipeline\n",
    "import sqlite3\n",
    "import pandas as pd\n",
    "from pybaseball import statcast"
   ]
  },
  {
   "cell_type": "code",
   "execution_count": null,
   "metadata": {},
   "outputs": [
    {
     "name": "stdout",
     "output_type": "stream",
     "text": [
      "This is a large query, it may take a moment to complete\n",
      "Completed sub-query from 2019-07-19 to 2019-07-24\n",
      "Completed sub-query from 2019-07-25 to 2019-07-25\n"
     ]
    }
   ],
   "source": [
    "df = statcast(start_dt=\"2019-07-19\", end_dt=\"2019-07-25\", team=\"KC\")"
   ]
  },
  {
   "cell_type": "code",
   "execution_count": null,
   "metadata": {},
   "outputs": [
    {
     "data": {
      "text/html": [
       "<div>\n",
       "<style scoped>\n",
       "    .dataframe tbody tr th:only-of-type {\n",
       "        vertical-align: middle;\n",
       "    }\n",
       "\n",
       "    .dataframe tbody tr th {\n",
       "        vertical-align: top;\n",
       "    }\n",
       "\n",
       "    .dataframe thead th {\n",
       "        text-align: right;\n",
       "    }\n",
       "</style>\n",
       "<table border=\"1\" class=\"dataframe\">\n",
       "  <thead>\n",
       "    <tr style=\"text-align: right;\">\n",
       "      <th></th>\n",
       "      <th>pitcher</th>\n",
       "      <th>game_pk</th>\n",
       "    </tr>\n",
       "  </thead>\n",
       "  <tbody>\n",
       "    <tr>\n",
       "      <th>1424</th>\n",
       "      <td>596001.0</td>\n",
       "      <td>565367.0</td>\n",
       "    </tr>\n",
       "    <tr>\n",
       "      <th>1425</th>\n",
       "      <td>596001.0</td>\n",
       "      <td>565367.0</td>\n",
       "    </tr>\n",
       "    <tr>\n",
       "      <th>1426</th>\n",
       "      <td>596001.0</td>\n",
       "      <td>565367.0</td>\n",
       "    </tr>\n",
       "    <tr>\n",
       "      <th>1427</th>\n",
       "      <td>596001.0</td>\n",
       "      <td>565367.0</td>\n",
       "    </tr>\n",
       "    <tr>\n",
       "      <th>1428</th>\n",
       "      <td>596001.0</td>\n",
       "      <td>565367.0</td>\n",
       "    </tr>\n",
       "    <tr>\n",
       "      <th>...</th>\n",
       "      <td>...</td>\n",
       "      <td>...</td>\n",
       "    </tr>\n",
       "    <tr>\n",
       "      <th>1583</th>\n",
       "      <td>596001.0</td>\n",
       "      <td>565367.0</td>\n",
       "    </tr>\n",
       "    <tr>\n",
       "      <th>1584</th>\n",
       "      <td>596001.0</td>\n",
       "      <td>565367.0</td>\n",
       "    </tr>\n",
       "    <tr>\n",
       "      <th>1585</th>\n",
       "      <td>596001.0</td>\n",
       "      <td>565367.0</td>\n",
       "    </tr>\n",
       "    <tr>\n",
       "      <th>1586</th>\n",
       "      <td>596001.0</td>\n",
       "      <td>565367.0</td>\n",
       "    </tr>\n",
       "    <tr>\n",
       "      <th>1587</th>\n",
       "      <td>596001.0</td>\n",
       "      <td>565367.0</td>\n",
       "    </tr>\n",
       "  </tbody>\n",
       "</table>\n",
       "<p>94 rows × 2 columns</p>\n",
       "</div>"
      ],
      "text/plain": [
       "       pitcher   game_pk\n",
       "1424  596001.0  565367.0\n",
       "1425  596001.0  565367.0\n",
       "1426  596001.0  565367.0\n",
       "1427  596001.0  565367.0\n",
       "1428  596001.0  565367.0\n",
       "...        ...       ...\n",
       "1583  596001.0  565367.0\n",
       "1584  596001.0  565367.0\n",
       "1585  596001.0  565367.0\n",
       "1586  596001.0  565367.0\n",
       "1587  596001.0  565367.0\n",
       "\n",
       "[94 rows x 2 columns]"
      ]
     },
     "execution_count": null,
     "metadata": {},
     "output_type": "execute_result"
    }
   ],
   "source": [
    "df.loc[(df[\"player_name\"]==\"Jakob Junis\"), [\"pitcher\", \"game_pk\"]]"
   ]
  },
  {
   "cell_type": "markdown",
   "metadata": {},
   "source": [
    "### Making sure is a valid starter"
   ]
  },
  {
   "cell_type": "code",
   "execution_count": null,
   "metadata": {},
   "outputs": [],
   "source": [
    "import sqlite3\n",
    "\n",
    "def get_game_df(db_path: str, year: int, game_pk: int):\n",
    "    conn = sqlite3.connect(db_path)\n",
    "    query = f\"\"\"select *\n",
    "                from statcast_{year}\n",
    "                where game_pk = {game_pk}\"\"\"\n",
    "    \n",
    "    # making sure year is in db\n",
    "    cursor = conn.execute(f\"select name from sqlite_master where type='table' and name='statcast_{year}'\")\n",
    "    if cursor.fetchone():\n",
    "        df = pd.read_sql_query(query, conn)\n",
    "    else:\n",
    "        df = pd.DataFrame()\n",
    "    conn.close()\n",
    "    return df"
   ]
  },
  {
   "cell_type": "code",
   "execution_count": null,
   "metadata": {},
   "outputs": [],
   "source": [
    "game_df = get_game_df(db_path=\"../data/raw/statcast_pitches.db\", year=2019, game_pk=565555)"
   ]
  },
  {
   "cell_type": "code",
   "execution_count": null,
   "metadata": {},
   "outputs": [
    {
     "data": {
      "text/html": [
       "<div>\n",
       "<style scoped>\n",
       "    .dataframe tbody tr th:only-of-type {\n",
       "        vertical-align: middle;\n",
       "    }\n",
       "\n",
       "    .dataframe tbody tr th {\n",
       "        vertical-align: top;\n",
       "    }\n",
       "\n",
       "    .dataframe thead th {\n",
       "        text-align: right;\n",
       "    }\n",
       "</style>\n",
       "<table border=\"1\" class=\"dataframe\">\n",
       "  <thead>\n",
       "    <tr style=\"text-align: right;\">\n",
       "      <th></th>\n",
       "      <th>player_name</th>\n",
       "      <th>pitcher</th>\n",
       "    </tr>\n",
       "  </thead>\n",
       "  <tbody>\n",
       "    <tr>\n",
       "      <th>146</th>\n",
       "      <td>David Price</td>\n",
       "      <td>456034.0</td>\n",
       "    </tr>\n",
       "    <tr>\n",
       "      <th>147</th>\n",
       "      <td>David Price</td>\n",
       "      <td>456034.0</td>\n",
       "    </tr>\n",
       "    <tr>\n",
       "      <th>148</th>\n",
       "      <td>David Price</td>\n",
       "      <td>456034.0</td>\n",
       "    </tr>\n",
       "    <tr>\n",
       "      <th>149</th>\n",
       "      <td>David Price</td>\n",
       "      <td>456034.0</td>\n",
       "    </tr>\n",
       "    <tr>\n",
       "      <th>150</th>\n",
       "      <td>David Price</td>\n",
       "      <td>456034.0</td>\n",
       "    </tr>\n",
       "    <tr>\n",
       "      <th>...</th>\n",
       "      <td>...</td>\n",
       "      <td>...</td>\n",
       "    </tr>\n",
       "    <tr>\n",
       "      <th>320</th>\n",
       "      <td>David Price</td>\n",
       "      <td>456034.0</td>\n",
       "    </tr>\n",
       "    <tr>\n",
       "      <th>321</th>\n",
       "      <td>David Price</td>\n",
       "      <td>456034.0</td>\n",
       "    </tr>\n",
       "    <tr>\n",
       "      <th>322</th>\n",
       "      <td>David Price</td>\n",
       "      <td>456034.0</td>\n",
       "    </tr>\n",
       "    <tr>\n",
       "      <th>323</th>\n",
       "      <td>David Price</td>\n",
       "      <td>456034.0</td>\n",
       "    </tr>\n",
       "    <tr>\n",
       "      <th>324</th>\n",
       "      <td>David Price</td>\n",
       "      <td>456034.0</td>\n",
       "    </tr>\n",
       "  </tbody>\n",
       "</table>\n",
       "<p>99 rows × 2 columns</p>\n",
       "</div>"
      ],
      "text/plain": [
       "     player_name   pitcher\n",
       "146  David Price  456034.0\n",
       "147  David Price  456034.0\n",
       "148  David Price  456034.0\n",
       "149  David Price  456034.0\n",
       "150  David Price  456034.0\n",
       "..           ...       ...\n",
       "320  David Price  456034.0\n",
       "321  David Price  456034.0\n",
       "322  David Price  456034.0\n",
       "323  David Price  456034.0\n",
       "324  David Price  456034.0\n",
       "\n",
       "[99 rows x 2 columns]"
      ]
     },
     "execution_count": null,
     "metadata": {},
     "output_type": "execute_result"
    }
   ],
   "source": [
    "game_df.loc[game_df[\"player_name\"]==\"David Price\", [\"player_name\", \"pitcher\"]]"
   ]
  },
  {
   "cell_type": "code",
   "execution_count": null,
   "metadata": {},
   "outputs": [],
   "source": [
    "from pull_the_pitcher.data.processing import add_pitcher_team, add_postouts, outs_per_inning, batters_faced, AL_teams\n",
    "\n",
    "\n",
    "def is_valid_starter(db_path: str, year: int, game_pk: int, pitcher: int):\n",
    "    \"\"\"\n",
    "    df is the statcast data for a unique game_pk\n",
    "    \"\"\"\n",
    "    # getting initial game_df\n",
    "    game_df = get_game_df(db_path=db_path, year=year, game_pk=game_pk)\n",
    "    \n",
    "    # getting sorted (by at bat) df for a specific game\n",
    "    game_df = game_df.sort_values(\"at_bat_number\", ascending=True)\n",
    "\n",
    "    # first pitcher for each team is throwing at min(at_bat_number)\n",
    "    home_pitcher_first_ab = game_df.loc[(game_df[\"inning_topbot\"]==\"Top\"), \"at_bat_number\"].min()\n",
    "    home_team = game_df[\"home_team\"].head(1).item()\n",
    "    home_pitcher = game_df.loc[(game_df[\"at_bat_number\"]==home_pitcher_first_ab), \"pitcher\"].head(1).item()\n",
    "\n",
    "    away_pitcher_first_ab = game_df.loc[(game_df[\"inning_topbot\"]==\"Bot\", \"at_bat_number\")].min()\n",
    "    away_team = game_df[\"away_team\"].head(1).item()\n",
    "    away_pitcher = game_df.loc[(game_df[\"at_bat_number\"]==away_pitcher_first_ab), \"pitcher\"].head(1).item()\n",
    "    \n",
    "    if pitcher not in (home_pitcher, away_pitcher):\n",
    "        print(f\"Pitcher {pitcher_id} was not a starter in game {game_pk}\")\n",
    "\n",
    "    # adding pitcher_team\n",
    "    game_df.loc[:, \"pitcher_team\"] = game_df.apply(lambda row: add_pitcher_team(row), axis=1)\n",
    "    \n",
    "    # identifying the team of the pitcher of interest\n",
    "    team = home_team if pitcher == home_pitcher else away_team\n",
    "\n",
    "    # check for \"openers\"\n",
    "\n",
    "    # adding postouts for entire game\n",
    "    game_team_df = game_df.loc[(game_df[\"pitcher_team\"]==team)]\n",
    "    game_team_df = add_postouts(game_team_df)\n",
    "\n",
    "    # subsetting to get pitches thrown by the starter\n",
    "    game_team_pitcher_df = game_team_df.loc[(game_team_df[\"pitcher\"]==pitcher)]\n",
    "\n",
    "    # getting criteria to check if opener\n",
    "    outs = game_team_pitcher_df.groupby([\"inning\"]).agg({\"postouts\": outs_per_inning}).sum().item()\n",
    "    n_batters = batters_faced(game_team_pitcher_df[\"at_bat_number\"])\n",
    "    opener = outs < 7 or n_batters < 10\n",
    "\n",
    "    # must not be opener, be from an AL team, and be playing in an AL stadium\n",
    "    if not opener and (team in AL_teams) and (home_team in AL_teams):\n",
    "        return True\n",
    "    return False"
   ]
  },
  {
   "cell_type": "code",
   "execution_count": null,
   "metadata": {},
   "outputs": [
    {
     "name": "stderr",
     "output_type": "stream",
     "text": [
      "/usr/local/lib/python3.7/dist-packages/pandas/core/indexing.py:845: SettingWithCopyWarning: \n",
      "A value is trying to be set on a copy of a slice from a DataFrame.\n",
      "Try using .loc[row_indexer,col_indexer] = value instead\n",
      "\n",
      "See the caveats in the documentation: https://pandas.pydata.org/pandas-docs/stable/user_guide/indexing.html#returning-a-view-versus-a-copy\n",
      "  self.obj[key] = _infer_fill_value(value)\n",
      "/usr/local/lib/python3.7/dist-packages/pandas/core/indexing.py:966: SettingWithCopyWarning: \n",
      "A value is trying to be set on a copy of a slice from a DataFrame.\n",
      "Try using .loc[row_indexer,col_indexer] = value instead\n",
      "\n",
      "See the caveats in the documentation: https://pandas.pydata.org/pandas-docs/stable/user_guide/indexing.html#returning-a-view-versus-a-copy\n",
      "  self.obj[item] = s\n"
     ]
    },
    {
     "data": {
      "text/plain": [
       "True"
      ]
     },
     "execution_count": null,
     "metadata": {},
     "output_type": "execute_result"
    }
   ],
   "source": [
    "is_valid_starter(db_path=\"../data/raw/statcast_pitches.db\", year=2019, game_pk=565367, pitcher=596001)"
   ]
  },
  {
   "cell_type": "markdown",
   "metadata": {},
   "source": [
    "### transforming game_df into tensor to feed into DRSA"
   ]
  },
  {
   "cell_type": "code",
   "execution_count": null,
   "metadata": {},
   "outputs": [],
   "source": [
    "from pull_the_pitcher.data import processing\n",
    "from pull_the_pitcher.data import pipeline\n",
    "import pickle"
   ]
  },
  {
   "cell_type": "code",
   "execution_count": null,
   "metadata": {},
   "outputs": [],
   "source": [
    "db_path = \"../data/raw/statcast_pitches.db\"\n",
    "year = 2019\n",
    "game_pk = 565367\n",
    "pitcher = 596001  # Jakob Junis"
   ]
  },
  {
   "cell_type": "code",
   "execution_count": null,
   "metadata": {},
   "outputs": [],
   "source": [
    "game_df = get_game_df(db_path=db_path, year=year, game_pk=game_pk)"
   ]
  },
  {
   "cell_type": "code",
   "execution_count": null,
   "metadata": {},
   "outputs": [
    {
     "name": "stderr",
     "output_type": "stream",
     "text": [
      "/usr/local/lib/python3.7/dist-packages/pandas/core/indexing.py:845: SettingWithCopyWarning: \n",
      "A value is trying to be set on a copy of a slice from a DataFrame.\n",
      "Try using .loc[row_indexer,col_indexer] = value instead\n",
      "\n",
      "See the caveats in the documentation: https://pandas.pydata.org/pandas-docs/stable/user_guide/indexing.html#returning-a-view-versus-a-copy\n",
      "  self.obj[key] = _infer_fill_value(value)\n",
      "/usr/local/lib/python3.7/dist-packages/pandas/core/indexing.py:966: SettingWithCopyWarning: \n",
      "A value is trying to be set on a copy of a slice from a DataFrame.\n",
      "Try using .loc[row_indexer,col_indexer] = value instead\n",
      "\n",
      "See the caveats in the documentation: https://pandas.pydata.org/pandas-docs/stable/user_guide/indexing.html#returning-a-view-versus-a-copy\n",
      "  self.obj[item] = s\n",
      "/pull-the-pitcher/notebooks/pull_the_pitcher/data/processing.py:205: SettingWithCopyWarning: \n",
      "A value is trying to be set on a copy of a slice from a DataFrame.\n",
      "Try using .loc[row_indexer,col_indexer] = value instead\n",
      "\n",
      "See the caveats in the documentation: https://pandas.pydata.org/pandas-docs/stable/user_guide/indexing.html#returning-a-view-versus-a-copy\n",
      "  game_team_pitcher_df[\"events\"] = game_team_pitcher_df[\"events\"].fillna(\"\")\n",
      "/pull-the-pitcher/notebooks/pull_the_pitcher/data/processing.py:208: SettingWithCopyWarning: \n",
      "A value is trying to be set on a copy of a slice from a DataFrame.\n",
      "Try using .loc[row_indexer,col_indexer] = value instead\n",
      "\n",
      "See the caveats in the documentation: https://pandas.pydata.org/pandas-docs/stable/user_guide/indexing.html#returning-a-view-versus-a-copy\n",
      "  game_team_pitcher_df[\"post_bat_score\"] = game_team_pitcher_df[\"post_bat_score\"].shift(-1).fillna(method=\"ffill\")\n",
      "/pull-the-pitcher/notebooks/pull_the_pitcher/data/processing.py:212: SettingWithCopyWarning: \n",
      "A value is trying to be set on a copy of a slice from a DataFrame.\n",
      "Try using .loc[row_indexer,col_indexer] = value instead\n",
      "\n",
      "See the caveats in the documentation: https://pandas.pydata.org/pandas-docs/stable/user_guide/indexing.html#returning-a-view-versus-a-copy\n",
      "  game_team_pitcher_df[f\"post_on_{base}b\"] = game_team_pitcher_df[f\"on_{base}b\"].fillna(0).apply(lambda x: 1 if x>0 else 0).shift(-1).fillna(method=\"ffill\")\n",
      "/pull-the-pitcher/notebooks/pull_the_pitcher/data/processing.py:215: SettingWithCopyWarning: \n",
      "A value is trying to be set on a copy of a slice from a DataFrame.\n",
      "Try using .loc[row_indexer,col_indexer] = value instead\n",
      "\n",
      "See the caveats in the documentation: https://pandas.pydata.org/pandas-docs/stable/user_guide/indexing.html#returning-a-view-versus-a-copy\n",
      "  game_team_pitcher_df[\"post_opposite_hand\"] = (game_team_pitcher_df[\"stand\"]!=game_team_pitcher_df[\"p_throws\"]).astype(int).shift(-1).fillna(method=\"ffill\")\n"
     ]
    }
   ],
   "source": [
    "cleaned_df = processing.preliminary_clean(game_df, game_pk, pitcher)\n",
    "agged_df = processing.aggregate_at_bats(cleaned_df, pipeline.at_bat_aggs)\n",
    "feature_engineered_df = processing.feature_engineering(agged_df)\n",
    "feature_engineered_df = feature_engineered_df[pipeline.cols]"
   ]
  },
  {
   "cell_type": "code",
   "execution_count": null,
   "metadata": {},
   "outputs": [
    {
     "name": "stdout",
     "output_type": "stream",
     "text": [
      "mappers_2016_2017_2018_2019.pkl  train_2016_2017_2018.csv\r\n",
      "mappers_2017_2018_2016_2019.pkl  train_2017_2018_2016.csv\r\n",
      "scaler_2016_2017_2018_2019.pkl\t val_2016_2017_2018.csv\r\n",
      "scaler_2017_2018_2016_2019.pkl\t val_2017_2018_2016.csv\r\n",
      "test_2019.csv\r\n"
     ]
    }
   ],
   "source": [
    "! ls ../data/processed/"
   ]
  },
  {
   "cell_type": "code",
   "execution_count": null,
   "metadata": {},
   "outputs": [],
   "source": [
    "with open(\"../data/processed/mappers_2017_2018_2016_2019.pkl\", \"rb\") as f:\n",
    "    mappers = pickle.load(f)\n",
    "    \n",
    "with open(\"../data/processed/scaler_2017_2018_2016_2019.pkl\", \"rb\") as f:\n",
    "    scaler = pickle.load(f)"
   ]
  },
  {
   "cell_type": "code",
   "execution_count": null,
   "metadata": {},
   "outputs": [
    {
     "name": "stderr",
     "output_type": "stream",
     "text": [
      "/usr/local/lib/python3.7/dist-packages/ipykernel_launcher.py:2: SettingWithCopyWarning: \n",
      "A value is trying to be set on a copy of a slice from a DataFrame.\n",
      "Try using .loc[row_indexer,col_indexer] = value instead\n",
      "\n",
      "See the caveats in the documentation: https://pandas.pydata.org/pandas-docs/stable/user_guide/indexing.html#returning-a-view-versus-a-copy\n",
      "  \n",
      "/usr/local/lib/python3.7/dist-packages/pandas/core/indexing.py:966: SettingWithCopyWarning: \n",
      "A value is trying to be set on a copy of a slice from a DataFrame.\n",
      "Try using .loc[row_indexer,col_indexer] = value instead\n",
      "\n",
      "See the caveats in the documentation: https://pandas.pydata.org/pandas-docs/stable/user_guide/indexing.html#returning-a-view-versus-a-copy\n",
      "  self.obj[item] = s\n",
      "/usr/local/lib/python3.7/dist-packages/ipykernel_launcher.py:5: SettingWithCopyWarning: \n",
      "A value is trying to be set on a copy of a slice from a DataFrame.\n",
      "Try using .loc[row_indexer,col_indexer] = value instead\n",
      "\n",
      "See the caveats in the documentation: https://pandas.pydata.org/pandas-docs/stable/user_guide/indexing.html#returning-a-view-versus-a-copy\n",
      "  \"\"\"\n"
     ]
    }
   ],
   "source": [
    "# scaling new data (as tuned on training data)\n",
    "feature_engineered_df[pipeline.feature_cols] = scaler.transform(feature_engineered_df[pipeline.feature_cols])\n",
    "\n",
    "# replacing pitcher id with index of associated embedding\n",
    "feature_engineered_df[\"pitcher\"] = feature_engineered_df[\"pitcher\"].map(mappers[\"pitcher\"])\n",
    "\n",
    "# subsetting to only get required cols\n",
    "feature_engineered_df = feature_engineered_df[[\"pitcher\"] + pipeline.feature_cols]"
   ]
  },
  {
   "cell_type": "code",
   "execution_count": null,
   "metadata": {},
   "outputs": [
    {
     "data": {
      "text/html": [
       "<div>\n",
       "<style scoped>\n",
       "    .dataframe tbody tr th:only-of-type {\n",
       "        vertical-align: middle;\n",
       "    }\n",
       "\n",
       "    .dataframe tbody tr th {\n",
       "        vertical-align: top;\n",
       "    }\n",
       "\n",
       "    .dataframe thead th {\n",
       "        text-align: right;\n",
       "    }\n",
       "</style>\n",
       "<table border=\"1\" class=\"dataframe\">\n",
       "  <thead>\n",
       "    <tr style=\"text-align: right;\">\n",
       "      <th></th>\n",
       "      <th>pitcher</th>\n",
       "      <th>post_bat_score</th>\n",
       "      <th>score_diff</th>\n",
       "      <th>end_inning</th>\n",
       "      <th>inning</th>\n",
       "      <th>postouts</th>\n",
       "      <th>cum_sb_ratio</th>\n",
       "      <th>times_thru_order</th>\n",
       "      <th>post_total_runners</th>\n",
       "      <th>tying_run_on</th>\n",
       "      <th>pitch_total</th>\n",
       "      <th>post_opposite_hand</th>\n",
       "      <th>walk</th>\n",
       "      <th>walk_cumsum</th>\n",
       "      <th>strikeout_cumsum</th>\n",
       "      <th>home_run_cumsum</th>\n",
       "      <th>bases_cumsum</th>\n",
       "    </tr>\n",
       "  </thead>\n",
       "  <tbody>\n",
       "    <tr>\n",
       "      <th>0</th>\n",
       "      <td>182</td>\n",
       "      <td>-0.759251</td>\n",
       "      <td>0.209695</td>\n",
       "      <td>-0.509378</td>\n",
       "      <td>-1.358806</td>\n",
       "      <td>-0.976258</td>\n",
       "      <td>0.154678</td>\n",
       "      <td>-1.600840</td>\n",
       "      <td>-0.692645</td>\n",
       "      <td>-0.454233</td>\n",
       "      <td>-1.606069</td>\n",
       "      <td>0.857632</td>\n",
       "      <td>-0.284401</td>\n",
       "      <td>-0.894291</td>\n",
       "      <td>-1.197142</td>\n",
       "      <td>-0.603666</td>\n",
       "      <td>-1.073264</td>\n",
       "    </tr>\n",
       "    <tr>\n",
       "      <th>1</th>\n",
       "      <td>182</td>\n",
       "      <td>-0.759251</td>\n",
       "      <td>0.209695</td>\n",
       "      <td>-0.509378</td>\n",
       "      <td>-1.358806</td>\n",
       "      <td>-0.976258</td>\n",
       "      <td>0.154678</td>\n",
       "      <td>-1.465780</td>\n",
       "      <td>-0.692645</td>\n",
       "      <td>-0.454233</td>\n",
       "      <td>-1.429872</td>\n",
       "      <td>0.857632</td>\n",
       "      <td>-0.284401</td>\n",
       "      <td>-0.894291</td>\n",
       "      <td>-1.197142</td>\n",
       "      <td>-0.603666</td>\n",
       "      <td>-1.073264</td>\n",
       "    </tr>\n",
       "    <tr>\n",
       "      <th>2</th>\n",
       "      <td>182</td>\n",
       "      <td>-0.759251</td>\n",
       "      <td>0.209695</td>\n",
       "      <td>-0.509378</td>\n",
       "      <td>-1.358806</td>\n",
       "      <td>-0.976258</td>\n",
       "      <td>-0.697344</td>\n",
       "      <td>-1.330720</td>\n",
       "      <td>0.686417</td>\n",
       "      <td>2.201513</td>\n",
       "      <td>-1.253674</td>\n",
       "      <td>-1.166002</td>\n",
       "      <td>3.516159</td>\n",
       "      <td>0.057558</td>\n",
       "      <td>-1.197142</td>\n",
       "      <td>-0.603666</td>\n",
       "      <td>-0.845393</td>\n",
       "    </tr>\n",
       "    <tr>\n",
       "      <th>3</th>\n",
       "      <td>182</td>\n",
       "      <td>-0.759251</td>\n",
       "      <td>0.209695</td>\n",
       "      <td>-0.509378</td>\n",
       "      <td>-1.358806</td>\n",
       "      <td>-0.097711</td>\n",
       "      <td>-0.963600</td>\n",
       "      <td>-1.195659</td>\n",
       "      <td>0.686417</td>\n",
       "      <td>2.201513</td>\n",
       "      <td>-1.183196</td>\n",
       "      <td>0.857632</td>\n",
       "      <td>-0.284401</td>\n",
       "      <td>0.057558</td>\n",
       "      <td>-1.197142</td>\n",
       "      <td>-0.603666</td>\n",
       "      <td>-0.845393</td>\n",
       "    </tr>\n",
       "    <tr>\n",
       "      <th>4</th>\n",
       "      <td>182</td>\n",
       "      <td>-0.759251</td>\n",
       "      <td>0.209695</td>\n",
       "      <td>-0.509378</td>\n",
       "      <td>-1.358806</td>\n",
       "      <td>-0.097711</td>\n",
       "      <td>-0.963600</td>\n",
       "      <td>-1.060599</td>\n",
       "      <td>2.065479</td>\n",
       "      <td>2.201513</td>\n",
       "      <td>-1.147956</td>\n",
       "      <td>0.857632</td>\n",
       "      <td>-0.284401</td>\n",
       "      <td>0.057558</td>\n",
       "      <td>-1.197142</td>\n",
       "      <td>-0.603666</td>\n",
       "      <td>-0.845393</td>\n",
       "    </tr>\n",
       "  </tbody>\n",
       "</table>\n",
       "</div>"
      ],
      "text/plain": [
       "   pitcher  post_bat_score  score_diff  end_inning    inning  postouts  \\\n",
       "0      182       -0.759251    0.209695   -0.509378 -1.358806 -0.976258   \n",
       "1      182       -0.759251    0.209695   -0.509378 -1.358806 -0.976258   \n",
       "2      182       -0.759251    0.209695   -0.509378 -1.358806 -0.976258   \n",
       "3      182       -0.759251    0.209695   -0.509378 -1.358806 -0.097711   \n",
       "4      182       -0.759251    0.209695   -0.509378 -1.358806 -0.097711   \n",
       "\n",
       "   cum_sb_ratio  times_thru_order  post_total_runners  tying_run_on  \\\n",
       "0      0.154678         -1.600840           -0.692645     -0.454233   \n",
       "1      0.154678         -1.465780           -0.692645     -0.454233   \n",
       "2     -0.697344         -1.330720            0.686417      2.201513   \n",
       "3     -0.963600         -1.195659            0.686417      2.201513   \n",
       "4     -0.963600         -1.060599            2.065479      2.201513   \n",
       "\n",
       "   pitch_total  post_opposite_hand      walk  walk_cumsum  strikeout_cumsum  \\\n",
       "0    -1.606069            0.857632 -0.284401    -0.894291         -1.197142   \n",
       "1    -1.429872            0.857632 -0.284401    -0.894291         -1.197142   \n",
       "2    -1.253674           -1.166002  3.516159     0.057558         -1.197142   \n",
       "3    -1.183196            0.857632 -0.284401     0.057558         -1.197142   \n",
       "4    -1.147956            0.857632 -0.284401     0.057558         -1.197142   \n",
       "\n",
       "   home_run_cumsum  bases_cumsum  \n",
       "0        -0.603666     -1.073264  \n",
       "1        -0.603666     -1.073264  \n",
       "2        -0.603666     -0.845393  \n",
       "3        -0.603666     -0.845393  \n",
       "4        -0.603666     -0.845393  "
      ]
     },
     "execution_count": null,
     "metadata": {},
     "output_type": "execute_result"
    }
   ],
   "source": [
    "feature_engineered_df.head()"
   ]
  },
  {
   "cell_type": "markdown",
   "metadata": {},
   "source": [
    "### Transforming to torch tensor for inference"
   ]
  },
  {
   "cell_type": "code",
   "execution_count": null,
   "metadata": {},
   "outputs": [],
   "source": [
    "import torch"
   ]
  },
  {
   "cell_type": "code",
   "execution_count": null,
   "metadata": {},
   "outputs": [],
   "source": [
    "X = torch.tensor(feature_engineered_df.values, dtype=torch.double).unsqueeze(0)"
   ]
  },
  {
   "cell_type": "code",
   "execution_count": null,
   "metadata": {},
   "outputs": [
    {
     "data": {
      "text/plain": [
       "torch.Size([1, 23, 17])"
      ]
     },
     "execution_count": null,
     "metadata": {},
     "output_type": "execute_result"
    }
   ],
   "source": [
    "X.shape"
   ]
  },
  {
   "cell_type": "markdown",
   "metadata": {},
   "source": [
    "### Loading model"
   ]
  },
  {
   "cell_type": "code",
   "execution_count": null,
   "metadata": {},
   "outputs": [],
   "source": [
    "# ! pip install drsa"
   ]
  },
  {
   "cell_type": "code",
   "execution_count": null,
   "metadata": {},
   "outputs": [],
   "source": [
    "from drsa.model import DRSA\n",
    "import torch.nn as nn"
   ]
  },
  {
   "cell_type": "code",
   "execution_count": null,
   "metadata": {},
   "outputs": [],
   "source": [
    "def save_model(m, p): torch.save(m.state_dict(), p)\n",
    "def load_model(m, p): m.load_state_dict(torch.load(p))"
   ]
  },
  {
   "cell_type": "code",
   "execution_count": null,
   "metadata": {},
   "outputs": [],
   "source": [
    "# loading up saved embeddings\n",
    "# embeddings = torch.load(f\"../models/07-22-20_embeddings_2016_2017_2018_2019_loss_2.6064.pth\")"
   ]
  },
  {
   "cell_type": "code",
   "execution_count": null,
   "metadata": {},
   "outputs": [],
   "source": [
    "# getting embeddings ready\n",
    "n_pitchers = 270\n",
    "pitcher_emb_size = 20\n",
    "pitcher_embeddings = nn.Embedding(n_pitchers, pitcher_emb_size)\n",
    "# pitcher_embeddings.weight = nn.Parameter(embeddings)\n",
    "\n",
    "ptp_embeddings = [pitcher_embeddings]\n",
    "\n",
    "# initializing model\n",
    "drsa = DRSA(n_features=17,\n",
    "            hidden_dim=20,\n",
    "            n_layers=5,\n",
    "            embeddings=ptp_embeddings,\n",
    "            output_size=1,\n",
    "            LSTM_dropout=0.05,\n",
    "            Linear_dropout=0.1)"
   ]
  },
  {
   "cell_type": "code",
   "execution_count": null,
   "metadata": {},
   "outputs": [],
   "source": [
    "# loading up saved model\n",
    "load_model(drsa, f\"../models/07-22-20_DRSA_2016_2017_2018_2019_loss_2.6398.pth\")\n"
   ]
  },
  {
   "cell_type": "code",
   "execution_count": null,
   "metadata": {},
   "outputs": [],
   "source": [
    "drsa.eval() # making sure that no dropout is applied\n",
    "preds = drsa(X)"
   ]
  },
  {
   "cell_type": "code",
   "execution_count": null,
   "metadata": {},
   "outputs": [
    {
     "data": {
      "text/plain": [
       "tensor([[[0.0199],\n",
       "         [0.0018],\n",
       "         [0.0011],\n",
       "         [0.0011],\n",
       "         [0.0010],\n",
       "         [0.0010],\n",
       "         [0.0010],\n",
       "         [0.0010],\n",
       "         [0.0010],\n",
       "         [0.0010],\n",
       "         [0.0010],\n",
       "         [0.0010],\n",
       "         [0.0010],\n",
       "         [0.0010],\n",
       "         [0.0010],\n",
       "         [0.0010],\n",
       "         [0.0010],\n",
       "         [0.0010],\n",
       "         [0.0010],\n",
       "         [0.0010],\n",
       "         [0.0010],\n",
       "         [0.0010],\n",
       "         [0.0011]]], grad_fn=<SigmoidBackward>)"
      ]
     },
     "execution_count": null,
     "metadata": {},
     "output_type": "execute_result"
    }
   ],
   "source": [
    "preds"
   ]
  },
  {
   "cell_type": "markdown",
   "metadata": {},
   "source": [
    "---"
   ]
  },
  {
   "cell_type": "code",
   "execution_count": null,
   "metadata": {},
   "outputs": [],
   "source": [
    "df = df.loc[(df[\"player_name\"]==\"David Price\")]"
   ]
  },
  {
   "cell_type": "code",
   "execution_count": null,
   "metadata": {},
   "outputs": [],
   "source": [
    "df[[\"game_date\", \"player_name\", \"pitch_type\", \"release_speed\", \"events\", \"at_bat_number\"]].sort_values(\"at_bat_number\").iloc[:30, :]"
   ]
  },
  {
   "cell_type": "code",
   "execution_count": null,
   "metadata": {},
   "outputs": [],
   "source": [
    "# export\n",
    "\n"
   ]
  }
 ],
 "metadata": {
  "kernelspec": {
   "display_name": "Python 3",
   "language": "python",
   "name": "python3"
  }
 },
 "nbformat": 4,
 "nbformat_minor": 4
}
